{
 "cells": [
  {
   "cell_type": "code",
   "execution_count": 1,
   "id": "6eed6693-9c89-4581-9526-b3c7cd79a69c",
   "metadata": {
    "execution": {
     "iopub.execute_input": "2024-03-21T19:42:53.406201Z",
     "iopub.status.busy": "2024-03-21T19:42:53.406107Z",
     "iopub.status.idle": "2024-03-21T19:42:55.223195Z",
     "shell.execute_reply": "2024-03-21T19:42:55.222840Z",
     "shell.execute_reply.started": "2024-03-21T19:42:53.406190Z"
    }
   },
   "outputs": [
    {
     "name": "stderr",
     "output_type": "stream",
     "text": [
      "24/03/21 20:42:54 WARN Utils: Your hostname, carl-Precision-7780 resolves to a loopback address: 127.0.1.1; using 192.168.1.164 instead (on interface enp0s31f6)\n",
      "24/03/21 20:42:54 WARN Utils: Set SPARK_LOCAL_IP if you need to bind to another address\n",
      "Setting default log level to \"WARN\".\n",
      "To adjust logging level use sc.setLogLevel(newLevel). For SparkR, use setLogLevel(newLevel).\n",
      "24/03/21 20:42:54 WARN NativeCodeLoader: Unable to load native-hadoop library for your platform... using builtin-java classes where applicable\n",
      "/home/carl/anaconda3/envs/p8env/lib/python3.12/site-packages/pyspark/sql/context.py:113: FutureWarning: Deprecated in 3.0.0. Use SparkSession.builder.getOrCreate() instead.\n",
      "  warnings.warn(\n"
     ]
    }
   ],
   "source": [
    "from collections import Counter\n",
    "\n",
    "from pyspark import SparkConf, SparkContext\n",
    "from pyspark.ml.feature import VectorAssembler\n",
    "from pyspark.ml.regression import LinearRegression\n",
    "from pyspark.sql import SQLContext\n",
    "from pyspark.sql.functions import col, count, isnan, when\n",
    "\n",
    "display_opt = SparkConf().set(\"spark.sql.repl.eagerEval.enabled\", True)\n",
    "sc = SparkContext(conf=display_opt)\n",
    "sqlContext = SQLContext(sc)"
   ]
  },
  {
   "cell_type": "code",
   "execution_count": 2,
   "id": "a73115ff-ac00-4f80-bdee-31ba8499792a",
   "metadata": {
    "execution": {
     "iopub.execute_input": "2024-03-21T19:42:59.004879Z",
     "iopub.status.busy": "2024-03-21T19:42:59.004516Z",
     "iopub.status.idle": "2024-03-21T19:43:01.199579Z",
     "shell.execute_reply": "2024-03-21T19:43:01.199177Z",
     "shell.execute_reply.started": "2024-03-21T19:42:59.004852Z"
    }
   },
   "outputs": [],
   "source": [
    "# load csv in spark\n",
    "df = (\n",
    "    sqlContext.read.format(\"com.databricks.spark.csv\")\n",
    "    .options(header=\"true\", inferschema=\"true\")\n",
    "    .load(\"../data/raw/2016_Building_Energy_Benchmarking.csv\")\n",
    ")\n",
    "# df.take(1)"
   ]
  },
  {
   "cell_type": "code",
   "execution_count": 3,
   "id": "39b8f9d3-4374-45bd-b446-315cdfaf32c3",
   "metadata": {
    "execution": {
     "iopub.execute_input": "2024-03-21T19:43:01.764629Z",
     "iopub.status.busy": "2024-03-21T19:43:01.764484Z",
     "iopub.status.idle": "2024-03-21T19:43:01.782320Z",
     "shell.execute_reply": "2024-03-21T19:43:01.782017Z",
     "shell.execute_reply.started": "2024-03-21T19:43:01.764619Z"
    }
   },
   "outputs": [
    {
     "name": "stdout",
     "output_type": "stream",
     "text": [
      "root\n",
      " |-- OSEBuildingID: integer (nullable = true)\n",
      " |-- DataYear: integer (nullable = true)\n",
      " |-- BuildingType: string (nullable = true)\n",
      " |-- PrimaryPropertyType: string (nullable = true)\n",
      " |-- PropertyName: string (nullable = true)\n",
      " |-- Address: string (nullable = true)\n",
      " |-- City: string (nullable = true)\n",
      " |-- State: string (nullable = true)\n",
      " |-- ZipCode: integer (nullable = true)\n",
      " |-- TaxParcelIdentificationNumber: string (nullable = true)\n",
      " |-- CouncilDistrictCode: integer (nullable = true)\n",
      " |-- Neighborhood: string (nullable = true)\n",
      " |-- Latitude: double (nullable = true)\n",
      " |-- Longitude: double (nullable = true)\n",
      " |-- YearBuilt: integer (nullable = true)\n",
      " |-- NumberofBuildings: integer (nullable = true)\n",
      " |-- NumberofFloors: integer (nullable = true)\n",
      " |-- PropertyGFATotal: integer (nullable = true)\n",
      " |-- PropertyGFAParking: integer (nullable = true)\n",
      " |-- PropertyGFABuilding(s): integer (nullable = true)\n",
      " |-- ListOfAllPropertyUseTypes: string (nullable = true)\n",
      " |-- LargestPropertyUseType: string (nullable = true)\n",
      " |-- LargestPropertyUseTypeGFA: integer (nullable = true)\n",
      " |-- SecondLargestPropertyUseType: string (nullable = true)\n",
      " |-- SecondLargestPropertyUseTypeGFA: double (nullable = true)\n",
      " |-- ThirdLargestPropertyUseType: string (nullable = true)\n",
      " |-- ThirdLargestPropertyUseTypeGFA: double (nullable = true)\n",
      " |-- YearsENERGYSTARCertified: double (nullable = true)\n",
      " |-- ENERGYSTARScore: string (nullable = true)\n",
      " |-- SiteEUI(kBtu/sf): double (nullable = true)\n",
      " |-- SiteEUIWN(kBtu/sf): double (nullable = true)\n",
      " |-- SourceEUI(kBtu/sf): double (nullable = true)\n",
      " |-- SourceEUIWN(kBtu/sf): double (nullable = true)\n",
      " |-- SiteEnergyUse(kBtu): double (nullable = true)\n",
      " |-- SiteEnergyUseWN(kBtu): double (nullable = true)\n",
      " |-- SteamUse(kBtu): double (nullable = true)\n",
      " |-- Electricity(kWh): double (nullable = true)\n",
      " |-- Electricity(kBtu): double (nullable = true)\n",
      " |-- NaturalGas(therms): double (nullable = true)\n",
      " |-- NaturalGas(kBtu): double (nullable = true)\n",
      " |-- DefaultData: boolean (nullable = true)\n",
      " |-- Comments: string (nullable = true)\n",
      " |-- ComplianceStatus: string (nullable = true)\n",
      " |-- Outlier: string (nullable = true)\n",
      " |-- TotalGHGEmissions: double (nullable = true)\n",
      " |-- GHGEmissionsIntensity: double (nullable = true)\n",
      "\n"
     ]
    }
   ],
   "source": [
    "# print columns\n",
    "df.cache()\n",
    "df.printSchema()"
   ]
  },
  {
   "cell_type": "code",
   "execution_count": 4,
   "id": "20d11800-ac2b-4144-9b6a-ab91581ac5e3",
   "metadata": {
    "execution": {
     "iopub.execute_input": "2024-03-21T19:43:07.342021Z",
     "iopub.status.busy": "2024-03-21T19:43:07.341730Z",
     "iopub.status.idle": "2024-03-21T19:43:08.617871Z",
     "shell.execute_reply": "2024-03-21T19:43:08.617585Z",
     "shell.execute_reply.started": "2024-03-21T19:43:07.342000Z"
    }
   },
   "outputs": [
    {
     "data": {
      "text/html": [
       "<div>\n",
       "<style scoped>\n",
       "    .dataframe tbody tr th:only-of-type {\n",
       "        vertical-align: middle;\n",
       "    }\n",
       "\n",
       "    .dataframe tbody tr th {\n",
       "        vertical-align: top;\n",
       "    }\n",
       "\n",
       "    .dataframe thead th {\n",
       "        text-align: right;\n",
       "    }\n",
       "</style>\n",
       "<table border=\"1\" class=\"dataframe\">\n",
       "  <thead>\n",
       "    <tr style=\"text-align: right;\">\n",
       "      <th></th>\n",
       "      <th>summary</th>\n",
       "      <th>OSEBuildingID</th>\n",
       "      <th>DataYear</th>\n",
       "      <th>BuildingType</th>\n",
       "      <th>PrimaryPropertyType</th>\n",
       "      <th>PropertyName</th>\n",
       "      <th>Address</th>\n",
       "      <th>City</th>\n",
       "      <th>State</th>\n",
       "      <th>ZipCode</th>\n",
       "      <th>...</th>\n",
       "      <th>SteamUse(kBtu)</th>\n",
       "      <th>Electricity(kWh)</th>\n",
       "      <th>Electricity(kBtu)</th>\n",
       "      <th>NaturalGas(therms)</th>\n",
       "      <th>NaturalGas(kBtu)</th>\n",
       "      <th>Comments</th>\n",
       "      <th>ComplianceStatus</th>\n",
       "      <th>Outlier</th>\n",
       "      <th>TotalGHGEmissions</th>\n",
       "      <th>GHGEmissionsIntensity</th>\n",
       "    </tr>\n",
       "  </thead>\n",
       "  <tbody>\n",
       "    <tr>\n",
       "      <th>0</th>\n",
       "      <td>count</td>\n",
       "      <td>3376</td>\n",
       "      <td>3376</td>\n",
       "      <td>3376</td>\n",
       "      <td>3376</td>\n",
       "      <td>3376</td>\n",
       "      <td>3376</td>\n",
       "      <td>3376</td>\n",
       "      <td>3376</td>\n",
       "      <td>3360</td>\n",
       "      <td>...</td>\n",
       "      <td>3367</td>\n",
       "      <td>3367</td>\n",
       "      <td>3367</td>\n",
       "      <td>3367</td>\n",
       "      <td>3367</td>\n",
       "      <td>0</td>\n",
       "      <td>3376</td>\n",
       "      <td>32</td>\n",
       "      <td>3367</td>\n",
       "      <td>3367</td>\n",
       "    </tr>\n",
       "    <tr>\n",
       "      <th>1</th>\n",
       "      <td>mean</td>\n",
       "      <td>21208.991113744076</td>\n",
       "      <td>2016.0</td>\n",
       "      <td>None</td>\n",
       "      <td>None</td>\n",
       "      <td>3354.230769230769</td>\n",
       "      <td>None</td>\n",
       "      <td>None</td>\n",
       "      <td>None</td>\n",
       "      <td>98116.94910714286</td>\n",
       "      <td>...</td>\n",
       "      <td>274595.8982093198</td>\n",
       "      <td>1086638.9665709417</td>\n",
       "      <td>3707612.1615942973</td>\n",
       "      <td>13685.04537626648</td>\n",
       "      <td>1368504.5414427682</td>\n",
       "      <td>None</td>\n",
       "      <td>None</td>\n",
       "      <td>None</td>\n",
       "      <td>119.72397089397079</td>\n",
       "      <td>1.1759162459162464</td>\n",
       "    </tr>\n",
       "    <tr>\n",
       "      <th>2</th>\n",
       "      <td>stddev</td>\n",
       "      <td>12223.7570149853</td>\n",
       "      <td>0.0</td>\n",
       "      <td>None</td>\n",
       "      <td>None</td>\n",
       "      <td>2224.754299312104</td>\n",
       "      <td>None</td>\n",
       "      <td>None</td>\n",
       "      <td>None</td>\n",
       "      <td>18.61520454431558</td>\n",
       "      <td>...</td>\n",
       "      <td>3912173.392696105</td>\n",
       "      <td>4352478.355209237</td>\n",
       "      <td>1.4850656138963334E7</td>\n",
       "      <td>67097.80829551257</td>\n",
       "      <td>6709780.834880091</td>\n",
       "      <td>None</td>\n",
       "      <td>None</td>\n",
       "      <td>None</td>\n",
       "      <td>538.8322265068628</td>\n",
       "      <td>1.821451787910054</td>\n",
       "    </tr>\n",
       "    <tr>\n",
       "      <th>3</th>\n",
       "      <td>min</td>\n",
       "      <td>1</td>\n",
       "      <td>2016</td>\n",
       "      <td>Campus</td>\n",
       "      <td>Distribution Center</td>\n",
       "      <td>#4706 Bitterlake</td>\n",
       "      <td>(ID23682) 3204 SW MORGAN ST</td>\n",
       "      <td>Seattle</td>\n",
       "      <td>WA</td>\n",
       "      <td>98006</td>\n",
       "      <td>...</td>\n",
       "      <td>0.0</td>\n",
       "      <td>-33826.80078</td>\n",
       "      <td>-115417.0</td>\n",
       "      <td>0.0</td>\n",
       "      <td>0.0</td>\n",
       "      <td>None</td>\n",
       "      <td>Compliant</td>\n",
       "      <td>High outlier</td>\n",
       "      <td>-0.8</td>\n",
       "      <td>-0.02</td>\n",
       "    </tr>\n",
       "    <tr>\n",
       "      <th>4</th>\n",
       "      <td>max</td>\n",
       "      <td>50226</td>\n",
       "      <td>2016</td>\n",
       "      <td>SPS-District K-12</td>\n",
       "      <td>Worship Facility</td>\n",
       "      <td>westwinds</td>\n",
       "      <td>Readiness Center - Pier 91</td>\n",
       "      <td>Seattle</td>\n",
       "      <td>WA</td>\n",
       "      <td>98272</td>\n",
       "      <td>...</td>\n",
       "      <td>1.34943456E8</td>\n",
       "      <td>1.92577488E8</td>\n",
       "      <td>6.57074389E8</td>\n",
       "      <td>2979090.0</td>\n",
       "      <td>2.97909E8</td>\n",
       "      <td>None</td>\n",
       "      <td>Non-Compliant</td>\n",
       "      <td>Low outlier</td>\n",
       "      <td>16870.98</td>\n",
       "      <td>34.09</td>\n",
       "    </tr>\n",
       "  </tbody>\n",
       "</table>\n",
       "<p>5 rows × 46 columns</p>\n",
       "</div>"
      ],
      "text/plain": [
       "  summary       OSEBuildingID DataYear       BuildingType  \\\n",
       "0   count                3376     3376               3376   \n",
       "1    mean  21208.991113744076   2016.0               None   \n",
       "2  stddev    12223.7570149853      0.0               None   \n",
       "3     min                   1     2016             Campus   \n",
       "4     max               50226     2016  SPS-District K-12   \n",
       "\n",
       "   PrimaryPropertyType       PropertyName                      Address  \\\n",
       "0                 3376               3376                         3376   \n",
       "1                 None  3354.230769230769                         None   \n",
       "2                 None  2224.754299312104                         None   \n",
       "3  Distribution Center   #4706 Bitterlake  (ID23682) 3204 SW MORGAN ST   \n",
       "4     Worship Facility          westwinds   Readiness Center - Pier 91   \n",
       "\n",
       "      City State            ZipCode  ...     SteamUse(kBtu)  \\\n",
       "0     3376  3376               3360  ...               3367   \n",
       "1     None  None  98116.94910714286  ...  274595.8982093198   \n",
       "2     None  None  18.61520454431558  ...  3912173.392696105   \n",
       "3  Seattle    WA              98006  ...                0.0   \n",
       "4  Seattle    WA              98272  ...       1.34943456E8   \n",
       "\n",
       "     Electricity(kWh)     Electricity(kBtu) NaturalGas(therms)  \\\n",
       "0                3367                  3367               3367   \n",
       "1  1086638.9665709417    3707612.1615942973  13685.04537626648   \n",
       "2   4352478.355209237  1.4850656138963334E7  67097.80829551257   \n",
       "3        -33826.80078             -115417.0                0.0   \n",
       "4        1.92577488E8          6.57074389E8          2979090.0   \n",
       "\n",
       "     NaturalGas(kBtu) Comments ComplianceStatus       Outlier  \\\n",
       "0                3367        0             3376            32   \n",
       "1  1368504.5414427682     None             None          None   \n",
       "2   6709780.834880091     None             None          None   \n",
       "3                 0.0     None        Compliant  High outlier   \n",
       "4           2.97909E8     None    Non-Compliant   Low outlier   \n",
       "\n",
       "    TotalGHGEmissions GHGEmissionsIntensity  \n",
       "0                3367                  3367  \n",
       "1  119.72397089397079    1.1759162459162464  \n",
       "2   538.8322265068628     1.821451787910054  \n",
       "3                -0.8                 -0.02  \n",
       "4            16870.98                 34.09  \n",
       "\n",
       "[5 rows x 46 columns]"
      ]
     },
     "execution_count": 4,
     "metadata": {},
     "output_type": "execute_result"
    }
   ],
   "source": [
    "# spark describe\n",
    "df.describe().toPandas()"
   ]
  },
  {
   "cell_type": "code",
   "execution_count": 5,
   "id": "1a7dfd64-6262-4798-bdc9-305cbf555129",
   "metadata": {
    "execution": {
     "iopub.execute_input": "2024-03-21T19:43:08.897165Z",
     "iopub.status.busy": "2024-03-21T19:43:08.897009Z",
     "iopub.status.idle": "2024-03-21T19:43:08.900519Z",
     "shell.execute_reply": "2024-03-21T19:43:08.900146Z",
     "shell.execute_reply.started": "2024-03-21T19:43:08.897154Z"
    }
   },
   "outputs": [
    {
     "data": {
      "text/plain": [
       "[('OSEBuildingID', 'int'),\n",
       " ('DataYear', 'int'),\n",
       " ('BuildingType', 'string'),\n",
       " ('PrimaryPropertyType', 'string'),\n",
       " ('PropertyName', 'string'),\n",
       " ('Address', 'string'),\n",
       " ('City', 'string'),\n",
       " ('State', 'string'),\n",
       " ('ZipCode', 'int'),\n",
       " ('TaxParcelIdentificationNumber', 'string'),\n",
       " ('CouncilDistrictCode', 'int'),\n",
       " ('Neighborhood', 'string'),\n",
       " ('Latitude', 'double'),\n",
       " ('Longitude', 'double'),\n",
       " ('YearBuilt', 'int'),\n",
       " ('NumberofBuildings', 'int'),\n",
       " ('NumberofFloors', 'int'),\n",
       " ('PropertyGFATotal', 'int'),\n",
       " ('PropertyGFAParking', 'int'),\n",
       " ('PropertyGFABuilding(s)', 'int'),\n",
       " ('ListOfAllPropertyUseTypes', 'string'),\n",
       " ('LargestPropertyUseType', 'string'),\n",
       " ('LargestPropertyUseTypeGFA', 'int'),\n",
       " ('SecondLargestPropertyUseType', 'string'),\n",
       " ('SecondLargestPropertyUseTypeGFA', 'double'),\n",
       " ('ThirdLargestPropertyUseType', 'string'),\n",
       " ('ThirdLargestPropertyUseTypeGFA', 'double'),\n",
       " ('YearsENERGYSTARCertified', 'double'),\n",
       " ('ENERGYSTARScore', 'string'),\n",
       " ('SiteEUI(kBtu/sf)', 'double'),\n",
       " ('SiteEUIWN(kBtu/sf)', 'double'),\n",
       " ('SourceEUI(kBtu/sf)', 'double'),\n",
       " ('SourceEUIWN(kBtu/sf)', 'double'),\n",
       " ('SiteEnergyUse(kBtu)', 'double'),\n",
       " ('SiteEnergyUseWN(kBtu)', 'double'),\n",
       " ('SteamUse(kBtu)', 'double'),\n",
       " ('Electricity(kWh)', 'double'),\n",
       " ('Electricity(kBtu)', 'double'),\n",
       " ('NaturalGas(therms)', 'double'),\n",
       " ('NaturalGas(kBtu)', 'double'),\n",
       " ('DefaultData', 'boolean'),\n",
       " ('Comments', 'string'),\n",
       " ('ComplianceStatus', 'string'),\n",
       " ('Outlier', 'string'),\n",
       " ('TotalGHGEmissions', 'double'),\n",
       " ('GHGEmissionsIntensity', 'double')]"
      ]
     },
     "execution_count": 5,
     "metadata": {},
     "output_type": "execute_result"
    }
   ],
   "source": [
    "df.dtypes"
   ]
  },
  {
   "cell_type": "code",
   "execution_count": 6,
   "id": "d2331605-48cc-4172-8080-4d973348bed6",
   "metadata": {
    "execution": {
     "iopub.execute_input": "2024-03-21T19:43:09.878621Z",
     "iopub.status.busy": "2024-03-21T19:43:09.878258Z",
     "iopub.status.idle": "2024-03-21T19:43:09.883339Z",
     "shell.execute_reply": "2024-03-21T19:43:09.882286Z",
     "shell.execute_reply.started": "2024-03-21T19:43:09.878594Z"
    }
   },
   "outputs": [],
   "source": [
    "# select numerical features\n",
    "# TODO: categorical and boolean features\n",
    "numeric_features = [c[0] for c in df.dtypes if c[1] == \"int\" or c[1] == \"double\"]"
   ]
  },
  {
   "cell_type": "code",
   "execution_count": 7,
   "id": "fb37a9e9-fcc3-4164-babf-d40472064e5a",
   "metadata": {
    "execution": {
     "iopub.execute_input": "2024-03-21T19:43:10.434406Z",
     "iopub.status.busy": "2024-03-21T19:43:10.434047Z",
     "iopub.status.idle": "2024-03-21T19:43:10.614599Z",
     "shell.execute_reply": "2024-03-21T19:43:10.614254Z",
     "shell.execute_reply.started": "2024-03-21T19:43:10.434382Z"
    }
   },
   "outputs": [
    {
     "name": "stderr",
     "output_type": "stream",
     "text": [
      "24/03/21 20:43:10 WARN GarbageCollectionMetrics: To enable non-built-in garbage collector(s) List(G1 Concurrent GC), users should configure it(them) to spark.eventLog.gcMetrics.youngGenerationGarbageCollectors or spark.eventLog.gcMetrics.oldGenerationGarbageCollectors\n"
     ]
    },
    {
     "name": "stdout",
     "output_type": "stream",
     "text": [
      "+-------------+--------+-------+-------------------+--------+---------+---------+-----------------+--------------+----------------+------------------+----------------------+-------------------------+-------------------------------+------------------------------+------------------------+----------------+------------------+------------------+--------------------+-------------------+---------------------+--------------+----------------+-----------------+------------------+----------------+-----------------+---------------------+\n",
      "|OSEBuildingID|DataYear|ZipCode|CouncilDistrictCode|Latitude|Longitude|YearBuilt|NumberofBuildings|NumberofFloors|PropertyGFATotal|PropertyGFAParking|PropertyGFABuilding(s)|LargestPropertyUseTypeGFA|SecondLargestPropertyUseTypeGFA|ThirdLargestPropertyUseTypeGFA|YearsENERGYSTARCertified|SiteEUI(kBtu/sf)|SiteEUIWN(kBtu/sf)|SourceEUI(kBtu/sf)|SourceEUIWN(kBtu/sf)|SiteEnergyUse(kBtu)|SiteEnergyUseWN(kBtu)|SteamUse(kBtu)|Electricity(kWh)|Electricity(kBtu)|NaturalGas(therms)|NaturalGas(kBtu)|TotalGHGEmissions|GHGEmissionsIntensity|\n",
      "+-------------+--------+-------+-------------------+--------+---------+---------+-----------------+--------------+----------------+------------------+----------------------+-------------------------+-------------------------------+------------------------------+------------------------+----------------+------------------+------------------+--------------------+-------------------+---------------------+--------------+----------------+-----------------+------------------+----------------+-----------------+---------------------+\n",
      "|            0|       0|      0|                  0|       0|        0|        0|                0|             0|               0|                 0|                     0|                        0|                              0|                             0|                       0|               0|                 0|                 0|                   0|                  0|                    0|             0|               0|                0|                 0|               0|                0|                    0|\n",
      "+-------------+--------+-------+-------------------+--------+---------+---------+-----------------+--------------+----------------+------------------+----------------------+-------------------------+-------------------------------+------------------------------+------------------------+----------------+------------------+------------------+--------------------+-------------------+---------------------+--------------+----------------+-----------------+------------------+----------------+-----------------+---------------------+\n",
      "\n"
     ]
    }
   ],
   "source": [
    "### Get count of nan or missing values in pyspark\n",
    "df.select([count(when(isnan(c), c)).alias(c) for c in numeric_features]).show()"
   ]
  },
  {
   "cell_type": "code",
   "execution_count": 64,
   "id": "4af50dc1-1fef-41ac-b7e6-4ef504c062f6",
   "metadata": {
    "execution": {
     "iopub.execute_input": "2024-03-21T19:34:19.923760Z",
     "iopub.status.busy": "2024-03-21T19:34:19.923414Z",
     "iopub.status.idle": "2024-03-21T19:34:19.927997Z",
     "shell.execute_reply": "2024-03-21T19:34:19.927672Z",
     "shell.execute_reply.started": "2024-03-21T19:34:19.923735Z"
    }
   },
   "outputs": [
    {
     "data": {
      "text/plain": [
       "[('OSEBuildingID', 'int'),\n",
       " ('DataYear', 'int'),\n",
       " ('BuildingType', 'string'),\n",
       " ('PrimaryPropertyType', 'string'),\n",
       " ('PropertyName', 'string'),\n",
       " ('Address', 'string'),\n",
       " ('City', 'string'),\n",
       " ('State', 'string'),\n",
       " ('ZipCode', 'int'),\n",
       " ('TaxParcelIdentificationNumber', 'string'),\n",
       " ('CouncilDistrictCode', 'int'),\n",
       " ('Neighborhood', 'string'),\n",
       " ('Latitude', 'double'),\n",
       " ('Longitude', 'double'),\n",
       " ('YearBuilt', 'int'),\n",
       " ('NumberofBuildings', 'int'),\n",
       " ('NumberofFloors', 'int'),\n",
       " ('PropertyGFATotal', 'int'),\n",
       " ('PropertyGFAParking', 'int'),\n",
       " ('PropertyGFABuilding(s)', 'int'),\n",
       " ('ListOfAllPropertyUseTypes', 'string'),\n",
       " ('LargestPropertyUseType', 'string'),\n",
       " ('LargestPropertyUseTypeGFA', 'int'),\n",
       " ('SecondLargestPropertyUseType', 'string'),\n",
       " ('SecondLargestPropertyUseTypeGFA', 'double'),\n",
       " ('ThirdLargestPropertyUseType', 'string'),\n",
       " ('ThirdLargestPropertyUseTypeGFA', 'double'),\n",
       " ('YearsENERGYSTARCertified', 'double'),\n",
       " ('ENERGYSTARScore', 'string'),\n",
       " ('SiteEUI(kBtu/sf)', 'double'),\n",
       " ('SiteEUIWN(kBtu/sf)', 'double'),\n",
       " ('SourceEUI(kBtu/sf)', 'double'),\n",
       " ('SourceEUIWN(kBtu/sf)', 'double'),\n",
       " ('SiteEnergyUse(kBtu)', 'double'),\n",
       " ('SiteEnergyUseWN(kBtu)', 'double'),\n",
       " ('SteamUse(kBtu)', 'double'),\n",
       " ('Electricity(kWh)', 'double'),\n",
       " ('Electricity(kBtu)', 'double'),\n",
       " ('NaturalGas(therms)', 'double'),\n",
       " ('NaturalGas(kBtu)', 'double'),\n",
       " ('DefaultData', 'boolean'),\n",
       " ('Comments', 'string'),\n",
       " ('ComplianceStatus', 'string'),\n",
       " ('Outlier', 'string'),\n",
       " ('TotalGHGEmissions', 'double'),\n",
       " ('GHGEmissionsIntensity', 'double')]"
      ]
     },
     "execution_count": 64,
     "metadata": {},
     "output_type": "execute_result"
    }
   ],
   "source": [
    "df.dtypes"
   ]
  },
  {
   "cell_type": "code",
   "execution_count": 8,
   "id": "752e9585-af21-4bd3-9fc9-6b4d3b723d86",
   "metadata": {
    "execution": {
     "iopub.execute_input": "2024-03-21T19:44:04.674777Z",
     "iopub.status.busy": "2024-03-21T19:44:04.674471Z",
     "iopub.status.idle": "2024-03-21T19:44:05.173212Z",
     "shell.execute_reply": "2024-03-21T19:44:05.172767Z",
     "shell.execute_reply.started": "2024-03-21T19:44:04.674756Z"
    }
   },
   "outputs": [
    {
     "name": "stdout",
     "output_type": "stream",
     "text": [
      "+-------+------------------+--------+-----------------+-------------------+-----------------+--------------------+-------+-----+-----------------+-----------------------------+-------------------+------------+-------------------+-------------------+-----------------+------------------+-----------------+------------------+------------------+----------------------+-------------------------+----------------------+-------------------------+----------------------------+-------------------------------+---------------------------+------------------------------+------------------------+-----------------+------------------+------------------+------------------+--------------------+--------------------+---------------------+-----------------+------------------+--------------------+------------------+------------------+--------+----------------+------------+------------------+---------------------+\n",
      "|summary|     OSEBuildingID|DataYear|     BuildingType|PrimaryPropertyType|     PropertyName|             Address|   City|State|          ZipCode|TaxParcelIdentificationNumber|CouncilDistrictCode|Neighborhood|           Latitude|          Longitude|        YearBuilt| NumberofBuildings|   NumberofFloors|  PropertyGFATotal|PropertyGFAParking|PropertyGFABuilding(s)|ListOfAllPropertyUseTypes|LargestPropertyUseType|LargestPropertyUseTypeGFA|SecondLargestPropertyUseType|SecondLargestPropertyUseTypeGFA|ThirdLargestPropertyUseType|ThirdLargestPropertyUseTypeGFA|YearsENERGYSTARCertified|  ENERGYSTARScore|  SiteEUI(kBtu/sf)|SiteEUIWN(kBtu/sf)|SourceEUI(kBtu/sf)|SourceEUIWN(kBtu/sf)| SiteEnergyUse(kBtu)|SiteEnergyUseWN(kBtu)|   SteamUse(kBtu)|  Electricity(kWh)|   Electricity(kBtu)|NaturalGas(therms)|  NaturalGas(kBtu)|Comments|ComplianceStatus|     Outlier| TotalGHGEmissions|GHGEmissionsIntensity|\n",
      "+-------+------------------+--------+-----------------+-------------------+-----------------+--------------------+-------+-----+-----------------+-----------------------------+-------------------+------------+-------------------+-------------------+-----------------+------------------+-----------------+------------------+------------------+----------------------+-------------------------+----------------------+-------------------------+----------------------------+-------------------------------+---------------------------+------------------------------+------------------------+-----------------+------------------+------------------+------------------+--------------------+--------------------+---------------------+-----------------+------------------+--------------------+------------------+------------------+--------+----------------+------------+------------------+---------------------+\n",
      "|  count|              3376|    3376|             3376|               3376|             3376|                3376|   3376| 3376|             3360|                         3376|               3376|        3376|               3376|               3376|             3376|              3368|             3376|              3376|              3376|                  3376|                     3367|                  3367|                     3356|                        1690|                           1679|                        607|                           596|                     119|             2541|              3369|              3370|              3367|                3367|                3371|                 3370|             3367|              3367|                3367|              3367|              3367|       0|            3376|          32|              3367|                 3367|\n",
      "|   mean|21208.991113744076|  2016.0|             NULL|               NULL|3354.230769230769|                NULL|   NULL| NULL|98116.94910714286|          4.297012415112066E9|  4.439277251184834|        NULL|   47.6240331209894|-122.33479519780795|1968.573163507109|1.1068883610451306|4.709123222748815| 94833.53732227487| 8001.526066350711|     86832.01125592417|                     NULL|                  NULL|        79177.63855780692|                        NULL|             28444.075817081597|                       NULL|             11738.67516557718|    1.694287008658847...|67.91867350967233|54.732116399095844|   57.033798229049|134.23284824327024|  137.78393227123797|   5403667.294533333|    5276725.714394523|274595.8982093198|1086638.9665709417|  3707612.1615942973| 13685.04537626648|1368504.5414427682|    NULL|            NULL|        NULL|119.72397089397079|   1.1759162459162464|\n",
      "| stddev|  12223.7570149853|     0.0|             NULL|               NULL|2224.754299312104|                NULL|   NULL| NULL|18.61520454431558|         2.9608471762360415E9| 2.1206254728258607|        NULL|0.04775842494896955|0.02720328527953121|33.08815578001581| 2.108401750567238|5.494464797303886|218837.60712036688|32326.723928492225|     207939.8119228214|                     NULL|                  NULL|       201703.40749216883|                        NULL|               54392.9179283075|                       NULL|            29331.199286041487|    1.848248903063547E58|26.87327088925207| 56.27312409322111|57.163330208430324|139.28755379293523|   139.1098066793485|2.1610628627638537E7| 1.5938786484121464E7|3912173.392696105| 4352478.355209237|1.4850656138963334E7| 67097.80829551257| 6709780.834880091|    NULL|            NULL|        NULL| 538.8322265068628|    1.821451787910054|\n",
      "|    min|                 1|    2016|           Campus|Distribution Center| #4706 Bitterlake|(ID23682) 3204 SW...|Seattle|   WA|            98006|                   0000000000|                  1|     BALLARD|           47.49917|         -122.41425|             1900|                 0|                0|             11285|                 0|                  3636|          Adult Education|       Adult Education|                     5656|             Adult Education|                            0.0|                Bank Branch|                           0.0|                  2007.0|                1|               0.0|               0.0|               0.0|        -2.099999905|                 0.0|                  0.0|              0.0|      -33826.80078|           -115417.0|               0.0|               0.0|    NULL|       Compliant|High outlier|              -0.8|                -0.02|\n",
      "|    max|             50226|    2016|SPS-District K-12|   Worship Facility|        westwinds|Readiness Center ...|Seattle|   WA|            98272|                   9835200050|                  7|   SOUTHWEST|           47.73387|       -122.2209659|             2015|               111|               99|           9320156|            512608|               9320156|         Worship Facility|      Worship Facility|                  9320156|            Worship Facility|                       686750.0|           Worship Facility|                      459748.0|    2.016201520142013...|             NULL|       834.4000244|       834.4000244|            2620.0|              2620.0|        8.73923712E8|         4.71613856E8|     1.34943456E8|      1.92577488E8|        6.57074389E8|         2979090.0|         2.97909E8|    NULL|   Non-Compliant| Low outlier|          16870.98|                34.09|\n",
      "+-------+------------------+--------+-----------------+-------------------+-----------------+--------------------+-------+-----+-----------------+-----------------------------+-------------------+------------+-------------------+-------------------+-----------------+------------------+-----------------+------------------+------------------+----------------------+-------------------------+----------------------+-------------------------+----------------------------+-------------------------------+---------------------------+------------------------------+------------------------+-----------------+------------------+------------------+------------------+--------------------+--------------------+---------------------+-----------------+------------------+--------------------+------------------+------------------+--------+----------------+------------+------------------+---------------------+\n",
      "\n"
     ]
    }
   ],
   "source": [
    "df.describe().show()"
   ]
  },
  {
   "cell_type": "code",
   "execution_count": 10,
   "id": "7aff4c74-e904-475f-bb2a-681022040848",
   "metadata": {
    "execution": {
     "iopub.execute_input": "2024-03-21T19:45:06.698197Z",
     "iopub.status.busy": "2024-03-21T19:45:06.697934Z",
     "iopub.status.idle": "2024-03-21T19:45:06.703149Z",
     "shell.execute_reply": "2024-03-21T19:45:06.702354Z",
     "shell.execute_reply.started": "2024-03-21T19:45:06.698179Z"
    }
   },
   "outputs": [
    {
     "data": {
      "text/plain": [
       "46"
      ]
     },
     "execution_count": 10,
     "metadata": {},
     "output_type": "execute_result"
    }
   ],
   "source": [
    "# number of columns\n",
    "len(df.columns)"
   ]
  },
  {
   "cell_type": "code",
   "execution_count": null,
   "id": "4eab6d4d-1057-45e1-a722-726f69173ac6",
   "metadata": {
    "execution": {
     "iopub.execute_input": "2024-03-21T19:44:52.981888Z",
     "iopub.status.busy": "2024-03-21T19:44:52.981178Z",
     "iopub.status.idle": "2024-03-21T19:44:52.985739Z",
     "shell.execute_reply": "2024-03-21T19:44:52.985366Z",
     "shell.execute_reply.started": "2024-03-21T19:44:52.981844Z"
    }
   },
   "outputs": [
    {
     "name": "stdout",
     "output_type": "stream",
     "text": [
      "Counter({'double': 18, 'string': 16, 'int': 11, 'boolean': 1})\n"
     ]
    }
   ],
   "source": [
    "# count dtypes\n",
    "print(Counter((x[1] for x in df.dtypes)))"
   ]
  },
  {
   "cell_type": "code",
   "execution_count": 52,
   "id": "da71fe65-32af-41f3-b176-14c9b088787c",
   "metadata": {
    "execution": {
     "iopub.execute_input": "2024-03-21T19:31:47.558614Z",
     "iopub.status.busy": "2024-03-21T19:31:47.558264Z",
     "iopub.status.idle": "2024-03-21T19:31:47.564584Z",
     "shell.execute_reply": "2024-03-21T19:31:47.563545Z",
     "shell.execute_reply.started": "2024-03-21T19:31:47.558590Z"
    }
   },
   "outputs": [
    {
     "data": {
      "text/plain": [
       "29"
      ]
     },
     "execution_count": 52,
     "metadata": {},
     "output_type": "execute_result"
    }
   ],
   "source": [
    "len(numeric_features)"
   ]
  },
  {
   "cell_type": "code",
   "execution_count": 32,
   "id": "7c29578b-be63-4396-8ad1-9d4696352cf2",
   "metadata": {
    "execution": {
     "iopub.execute_input": "2024-03-21T19:25:35.238136Z",
     "iopub.status.busy": "2024-03-21T19:25:35.237989Z",
     "iopub.status.idle": "2024-03-21T19:25:35.256489Z",
     "shell.execute_reply": "2024-03-21T19:25:35.255944Z",
     "shell.execute_reply.started": "2024-03-21T19:25:35.238126Z"
    }
   },
   "outputs": [],
   "source": [
    "# drop non numerical features\n",
    "df = df[numeric_features]"
   ]
  },
  {
   "cell_type": "code",
   "execution_count": 44,
   "id": "bf00f3f1-5b6f-45e8-aca3-62bd06533a5d",
   "metadata": {
    "execution": {
     "iopub.execute_input": "2024-03-21T19:29:39.107470Z",
     "iopub.status.busy": "2024-03-21T19:29:39.107128Z",
     "iopub.status.idle": "2024-03-21T19:29:39.188356Z",
     "shell.execute_reply": "2024-03-21T19:29:39.187868Z",
     "shell.execute_reply.started": "2024-03-21T19:29:39.107455Z"
    }
   },
   "outputs": [
    {
     "data": {
      "text/plain": [
       "3376"
      ]
     },
     "execution_count": 44,
     "metadata": {},
     "output_type": "execute_result"
    }
   ],
   "source": [
    "df.count()"
   ]
  },
  {
   "cell_type": "code",
   "execution_count": 11,
   "id": "30ae876a-aaad-47ea-8034-aaf2a8f42bc6",
   "metadata": {
    "execution": {
     "iopub.execute_input": "2024-03-21T19:46:17.346818Z",
     "iopub.status.busy": "2024-03-21T19:46:17.346565Z",
     "iopub.status.idle": "2024-03-21T19:46:17.359607Z",
     "shell.execute_reply": "2024-03-21T19:46:17.358814Z",
     "shell.execute_reply.started": "2024-03-21T19:46:17.346800Z"
    }
   },
   "outputs": [],
   "source": [
    "# impute missing values\n",
    "df = df.fillna(0)"
   ]
  },
  {
   "cell_type": "code",
   "execution_count": 13,
   "id": "171d6423-bdd1-4024-8a22-bc1d129bc54b",
   "metadata": {
    "execution": {
     "iopub.execute_input": "2024-03-21T19:47:15.272855Z",
     "iopub.status.busy": "2024-03-21T19:47:15.272516Z",
     "iopub.status.idle": "2024-03-21T19:47:15.278561Z",
     "shell.execute_reply": "2024-03-21T19:47:15.277871Z",
     "shell.execute_reply.started": "2024-03-21T19:47:15.272832Z"
    }
   },
   "outputs": [
    {
     "data": {
      "text/plain": [
       "['OSEBuildingID',\n",
       " 'DataYear',\n",
       " 'ZipCode',\n",
       " 'CouncilDistrictCode',\n",
       " 'Latitude',\n",
       " 'Longitude',\n",
       " 'YearBuilt',\n",
       " 'NumberofBuildings',\n",
       " 'NumberofFloors',\n",
       " 'PropertyGFATotal',\n",
       " 'PropertyGFAParking',\n",
       " 'PropertyGFABuilding(s)',\n",
       " 'LargestPropertyUseTypeGFA',\n",
       " 'SecondLargestPropertyUseTypeGFA',\n",
       " 'ThirdLargestPropertyUseTypeGFA',\n",
       " 'YearsENERGYSTARCertified',\n",
       " 'SiteEUI(kBtu/sf)',\n",
       " 'SiteEUIWN(kBtu/sf)',\n",
       " 'SourceEUI(kBtu/sf)',\n",
       " 'SourceEUIWN(kBtu/sf)',\n",
       " 'SiteEnergyUse(kBtu)',\n",
       " 'SiteEnergyUseWN(kBtu)',\n",
       " 'SteamUse(kBtu)',\n",
       " 'Electricity(kWh)',\n",
       " 'Electricity(kBtu)',\n",
       " 'NaturalGas(therms)',\n",
       " 'NaturalGas(kBtu)',\n",
       " 'TotalGHGEmissions',\n",
       " 'GHGEmissionsIntensity']"
      ]
     },
     "execution_count": 13,
     "metadata": {},
     "output_type": "execute_result"
    }
   ],
   "source": [
    "numeric_features"
   ]
  },
  {
   "cell_type": "code",
   "execution_count": 14,
   "id": "a486d74d-6a8b-46ce-b63e-ad02d96f462a",
   "metadata": {
    "execution": {
     "iopub.execute_input": "2024-03-21T19:50:40.310265Z",
     "iopub.status.busy": "2024-03-21T19:50:40.309941Z",
     "iopub.status.idle": "2024-03-21T19:50:40.314474Z",
     "shell.execute_reply": "2024-03-21T19:50:40.313735Z",
     "shell.execute_reply.started": "2024-03-21T19:50:40.310242Z"
    }
   },
   "outputs": [],
   "source": [
    "import re"
   ]
  },
  {
   "cell_type": "code",
   "execution_count": 31,
   "id": "4c31643c-2749-48a2-9e06-e19318ffe11e",
   "metadata": {
    "execution": {
     "iopub.execute_input": "2024-03-21T19:56:55.079753Z",
     "iopub.status.busy": "2024-03-21T19:56:55.079435Z",
     "iopub.status.idle": "2024-03-21T19:56:55.084674Z",
     "shell.execute_reply": "2024-03-21T19:56:55.083951Z",
     "shell.execute_reply.started": "2024-03-21T19:56:55.079731Z"
    }
   },
   "outputs": [],
   "source": [
    "# exclude energy targets from features\n",
    "targets = [\n",
    "    c for c in numeric_features if bool(re.search(\"kBtu|kWh|\\\\(therms|Emissions\", c))\n",
    "]\n",
    "features = [\n",
    "    c\n",
    "    for c in numeric_features\n",
    "    if not bool(re.search(\"kBtu|kWh|\\\\(therms|Emissions\", c))\n",
    "]"
   ]
  },
  {
   "cell_type": "code",
   "execution_count": 32,
   "id": "bf903c23-dfa1-466e-a240-840b79cb3940",
   "metadata": {
    "execution": {
     "iopub.execute_input": "2024-03-21T19:56:57.292177Z",
     "iopub.status.busy": "2024-03-21T19:56:57.291901Z",
     "iopub.status.idle": "2024-03-21T19:56:57.321592Z",
     "shell.execute_reply": "2024-03-21T19:56:57.321313Z",
     "shell.execute_reply.started": "2024-03-21T19:56:57.292157Z"
    },
    "scrolled": true
   },
   "outputs": [],
   "source": [
    "# assemble all numerical columns in a vector\n",
    "vectorAssembler = VectorAssembler(inputCols=features, outputCol=\"features\")\n",
    "v_df = vectorAssembler.transform(df)\n",
    "# select features vector and target\n",
    "v_df = v_df.select([\"features\", \"SiteEnergyUseWN(kBtu)\"])\n",
    "# v_df.show(3)"
   ]
  },
  {
   "cell_type": "code",
   "execution_count": 37,
   "id": "7bf9e53f-597d-4af6-b4e5-8dcba12df806",
   "metadata": {
    "execution": {
     "iopub.execute_input": "2024-03-21T19:59:15.853846Z",
     "iopub.status.busy": "2024-03-21T19:59:15.853500Z",
     "iopub.status.idle": "2024-03-21T19:59:15.884833Z",
     "shell.execute_reply": "2024-03-21T19:59:15.884444Z",
     "shell.execute_reply.started": "2024-03-21T19:59:15.853813Z"
    }
   },
   "outputs": [
    {
     "name": "stdout",
     "output_type": "stream",
     "text": [
      "+--------------------+---------------------+\n",
      "|            features|SiteEnergyUseWN(kBtu)|\n",
      "+--------------------+---------------------+\n",
      "|[1.0,2016.0,98101...|            7456910.0|\n",
      "|[2.0,2016.0,98101...|            8664479.0|\n",
      "|[3.0,2016.0,98101...|          7.3937112E7|\n",
      "|[5.0,2016.0,98101...|            6946800.5|\n",
      "|[8.0,2016.0,98121...|          1.4656503E7|\n",
      "|[9.0,2016.0,98101...|          1.2581712E7|\n",
      "|[10.0,2016.0,9810...|            6062767.5|\n",
      "|[11.0,2016.0,9810...|            7067881.5|\n",
      "|[12.0,2016.0,9810...|          1.4194054E7|\n",
      "|[13.0,2016.0,9810...|            4807679.5|\n",
      "|[15.0,2016.0,9810...|           1.664693E7|\n",
      "|[16.0,2016.0,9810...|          2.7070114E7|\n",
      "|[17.0,2016.0,9810...|            6358719.5|\n",
      "|[18.0,2016.0,9810...|          2.2524948E7|\n",
      "|[19.0,2016.0,9810...|          1.1179203E7|\n",
      "|[21.0,2016.0,9815...|          1.8706912E7|\n",
      "|[22.0,2016.0,9810...|          1.0192124E7|\n",
      "|[23.0,2016.0,9810...|           3.435192E7|\n",
      "|[24.0,2016.0,9810...|            7877219.0|\n",
      "|[25.0,2016.0,9810...|          1.0154608E7|\n",
      "+--------------------+---------------------+\n",
      "only showing top 20 rows\n",
      "\n"
     ]
    }
   ],
   "source": [
    "v_df.show()"
   ]
  },
  {
   "cell_type": "code",
   "execution_count": 49,
   "id": "135f213a-73d3-4a1a-a036-19221db803cf",
   "metadata": {
    "execution": {
     "iopub.execute_input": "2024-03-21T20:08:50.727271Z",
     "iopub.status.busy": "2024-03-21T20:08:50.726960Z",
     "iopub.status.idle": "2024-03-21T20:08:50.735771Z",
     "shell.execute_reply": "2024-03-21T20:08:50.735247Z",
     "shell.execute_reply.started": "2024-03-21T20:08:50.727250Z"
    }
   },
   "outputs": [],
   "source": [
    "train_df, test_df = v_df.randomSplit([0.7, 0.3])"
   ]
  },
  {
   "cell_type": "code",
   "execution_count": 50,
   "id": "00584f68-5dab-4dac-bd53-8c234b3146f4",
   "metadata": {
    "execution": {
     "iopub.execute_input": "2024-03-21T20:08:51.691723Z",
     "iopub.status.busy": "2024-03-21T20:08:51.691573Z",
     "iopub.status.idle": "2024-03-21T20:08:51.758959Z",
     "shell.execute_reply": "2024-03-21T20:08:51.758634Z",
     "shell.execute_reply.started": "2024-03-21T20:08:51.691713Z"
    }
   },
   "outputs": [
    {
     "data": {
      "text/plain": [
       "2435"
      ]
     },
     "execution_count": 50,
     "metadata": {},
     "output_type": "execute_result"
    }
   ],
   "source": [
    "train_df.count()"
   ]
  },
  {
   "cell_type": "code",
   "execution_count": 51,
   "id": "5c4cb2e5-ea66-4a2e-a0ea-cb53500c0239",
   "metadata": {
    "execution": {
     "iopub.execute_input": "2024-03-21T20:08:55.143565Z",
     "iopub.status.busy": "2024-03-21T20:08:55.143417Z",
     "iopub.status.idle": "2024-03-21T20:08:55.217304Z",
     "shell.execute_reply": "2024-03-21T20:08:55.217036Z",
     "shell.execute_reply.started": "2024-03-21T20:08:55.143555Z"
    }
   },
   "outputs": [
    {
     "data": {
      "text/plain": [
       "941"
      ]
     },
     "execution_count": 51,
     "metadata": {},
     "output_type": "execute_result"
    }
   ],
   "source": [
    "test_df.count()"
   ]
  },
  {
   "cell_type": "code",
   "execution_count": 52,
   "id": "472947c2-0361-4cb9-a328-181722bc9bb9",
   "metadata": {
    "execution": {
     "iopub.execute_input": "2024-03-21T20:08:56.806528Z",
     "iopub.status.busy": "2024-03-21T20:08:56.806348Z",
     "iopub.status.idle": "2024-03-21T20:08:57.019657Z",
     "shell.execute_reply": "2024-03-21T20:08:57.019280Z",
     "shell.execute_reply.started": "2024-03-21T20:08:56.806517Z"
    }
   },
   "outputs": [
    {
     "name": "stdout",
     "output_type": "stream",
     "text": [
      "Coefficients: [-151.07954359371521,0.0,-53.51730378157163,-240554.4896691815,8212322.653426656,10486418.26409136,-673.0120424320967,-1653700.1162544375,217778.52265853234,-2.16218422315188,-84.81031719628625,-0.0,33.23002323360613,139.22501191859666,407.55695809713234,-1.3963113958138527e-52]\n",
      "Intercept: 904104916.2293359\n"
     ]
    }
   ],
   "source": [
    "# train linear regression model\n",
    "lr = LinearRegression(\n",
    "    featuresCol=\"features\",\n",
    "    labelCol=\"SiteEnergyUseWN(kBtu)\",\n",
    "    maxIter=10,\n",
    "    regParam=0.3,\n",
    "    elasticNetParam=0.8,\n",
    ")\n",
    "lr_model = lr.fit(train_df)\n",
    "print(\"Coefficients: \" + str(lr_model.coefficients))\n",
    "print(\"Intercept: \" + str(lr_model.intercept))"
   ]
  },
  {
   "cell_type": "code",
   "execution_count": 53,
   "id": "bd992231-9b5b-42bc-acd1-0687cb9b4428",
   "metadata": {
    "execution": {
     "iopub.execute_input": "2024-03-21T20:08:59.924881Z",
     "iopub.status.busy": "2024-03-21T20:08:59.923927Z",
     "iopub.status.idle": "2024-03-21T20:08:59.929733Z",
     "shell.execute_reply": "2024-03-21T20:08:59.929243Z",
     "shell.execute_reply.started": "2024-03-21T20:08:59.924851Z"
    }
   },
   "outputs": [
    {
     "name": "stdout",
     "output_type": "stream",
     "text": [
      "RMSE: 12917246.730128\n",
      "r2: 0.455302\n"
     ]
    }
   ],
   "source": [
    "# training score\n",
    "trainingSummary = lr_model.summary\n",
    "print(\"RMSE: %f\" % trainingSummary.rootMeanSquaredError)\n",
    "print(\"r2: %f\" % trainingSummary.r2)"
   ]
  },
  {
   "cell_type": "code",
   "execution_count": 54,
   "id": "15ec09ab-d168-4fcb-b67f-1689ba513625",
   "metadata": {
    "execution": {
     "iopub.execute_input": "2024-03-21T20:09:01.107098Z",
     "iopub.status.busy": "2024-03-21T20:09:01.106881Z",
     "iopub.status.idle": "2024-03-21T20:09:01.188165Z",
     "shell.execute_reply": "2024-03-21T20:09:01.187504Z",
     "shell.execute_reply.started": "2024-03-21T20:09:01.107083Z"
    }
   },
   "outputs": [
    {
     "name": "stdout",
     "output_type": "stream",
     "text": [
      "+-------+---------------------+\n",
      "|summary|SiteEnergyUseWN(kBtu)|\n",
      "+-------+---------------------+\n",
      "|  count|                 2435|\n",
      "|   mean|    5398252.014250308|\n",
      "| stddev| 1.7505775193069838E7|\n",
      "|    min|                  0.0|\n",
      "|    max|         4.71613856E8|\n",
      "+-------+---------------------+\n",
      "\n"
     ]
    }
   ],
   "source": [
    "train_df.describe().show()"
   ]
  },
  {
   "cell_type": "code",
   "execution_count": 57,
   "id": "9a5727d9-47b2-4ba4-ba51-7bcb6f4fd6d6",
   "metadata": {
    "execution": {
     "iopub.execute_input": "2024-03-21T20:09:44.267725Z",
     "iopub.status.busy": "2024-03-21T20:09:44.266616Z",
     "iopub.status.idle": "2024-03-21T20:09:44.340281Z",
     "shell.execute_reply": "2024-03-21T20:09:44.339718Z",
     "shell.execute_reply.started": "2024-03-21T20:09:44.267691Z"
    }
   },
   "outputs": [
    {
     "name": "stdout",
     "output_type": "stream",
     "text": [
      "+--------------------+---------------------+--------------------+\n",
      "|          prediction|SiteEnergyUseWN(kBtu)|            features|\n",
      "+--------------------+---------------------+--------------------+\n",
      "| 1.764028689962101E7|          7.3937112E7|[3.0,2016.0,98101...|\n",
      "|  2360176.4152789116|          1.2581712E7|[9.0,2016.0,98101...|\n",
      "|   7184788.142513275|           1.664693E7|[15.0,2016.0,9810...|\n",
      "|2.1202014952000618E7|          4.7023088E7|[26.0,2016.0,9810...|\n",
      "|1.9397328736707926E7|          4.9539212E7|[27.0,2016.0,9810...|\n",
      "+--------------------+---------------------+--------------------+\n",
      "only showing top 5 rows\n",
      "\n"
     ]
    }
   ],
   "source": [
    "lr_predictions = lr_model.transform(test_df)\n",
    "lr_predictions.select(\"prediction\", \"SiteEnergyUseWN(kBtu)\", \"features\").show(5)"
   ]
  },
  {
   "cell_type": "code",
   "execution_count": 58,
   "id": "e77fa9e4-c547-4f18-8f1e-9d38f95e9ed3",
   "metadata": {
    "execution": {
     "iopub.execute_input": "2024-03-21T20:10:35.027354Z",
     "iopub.status.busy": "2024-03-21T20:10:35.026667Z",
     "iopub.status.idle": "2024-03-21T20:10:35.100643Z",
     "shell.execute_reply": "2024-03-21T20:10:35.100257Z",
     "shell.execute_reply.started": "2024-03-21T20:10:35.027333Z"
    }
   },
   "outputs": [
    {
     "name": "stdout",
     "output_type": "stream",
     "text": [
      "R Squared (R2) on test data = 0.116433\n"
     ]
    }
   ],
   "source": [
    "from pyspark.ml.evaluation import RegressionEvaluator\n",
    "\n",
    "lr_evaluator = RegressionEvaluator(\n",
    "    predictionCol=\"prediction\", labelCol=\"SiteEnergyUseWN(kBtu)\", metricName=\"r2\"\n",
    ")\n",
    "print(\"R Squared (R2) on test data = %g\" % lr_evaluator.evaluate(lr_predictions))"
   ]
  },
  {
   "cell_type": "code",
   "execution_count": 59,
   "id": "a23cb597-5b16-4c83-b3ff-243495a94264",
   "metadata": {
    "execution": {
     "iopub.execute_input": "2024-03-21T20:11:15.946718Z",
     "iopub.status.busy": "2024-03-21T20:11:15.946282Z",
     "iopub.status.idle": "2024-03-21T20:11:16.043020Z",
     "shell.execute_reply": "2024-03-21T20:11:16.042495Z",
     "shell.execute_reply.started": "2024-03-21T20:11:15.946690Z"
    }
   },
   "outputs": [
    {
     "name": "stdout",
     "output_type": "stream",
     "text": [
      "Root Mean Squared Error (RMSE) on test data = 1.01625e+07\n"
     ]
    }
   ],
   "source": [
    "test_result = lr_model.evaluate(test_df)\n",
    "print(\n",
    "    \"Root Mean Squared Error (RMSE) on test data = %g\"\n",
    "    % test_result.rootMeanSquaredError\n",
    ")"
   ]
  },
  {
   "cell_type": "code",
   "execution_count": 60,
   "id": "943541e5-84e3-4d90-a557-6f2aeba69e02",
   "metadata": {
    "execution": {
     "iopub.execute_input": "2024-03-21T20:11:26.920558Z",
     "iopub.status.busy": "2024-03-21T20:11:26.920208Z",
     "iopub.status.idle": "2024-03-21T20:11:27.003940Z",
     "shell.execute_reply": "2024-03-21T20:11:27.003366Z",
     "shell.execute_reply.started": "2024-03-21T20:11:26.920533Z"
    }
   },
   "outputs": [
    {
     "name": "stdout",
     "output_type": "stream",
     "text": [
      "numIterations: 10\n",
      "objectiveHistory: [0.4999999999999999, 0.4513405332379861, 0.3496288720705346, 0.3132059678991644, 0.2979175219459393, 0.29099582620176784, 0.28634347984746333, 0.2816542883456642, 0.278035308123612, 0.275071666865442, 0.27234891682937795]\n",
      "+--------------------+\n",
      "|           residuals|\n",
      "+--------------------+\n",
      "| -243489.84001803398|\n",
      "| -1341477.7421656847|\n",
      "|  494338.07420897484|\n",
      "|   515201.9758192301|\n",
      "| -1263634.9673179388|\n",
      "| -283987.53382360935|\n",
      "|  3499325.4105563164|\n",
      "| -436322.10798954964|\n",
      "|1.4048734492967248E7|\n",
      "|  37952.919716358185|\n",
      "|   738110.4384701252|\n",
      "|  3012087.1990534067|\n",
      "|  362873.19047009945|\n",
      "| -1783005.3338081837|\n",
      "|1.0624193788422823E7|\n",
      "|  -2121161.340616703|\n",
      "|   2397479.845118284|\n",
      "|  -4644345.676080108|\n",
      "|  -3645164.687152028|\n",
      "|   -7219776.80274415|\n",
      "+--------------------+\n",
      "only showing top 20 rows\n",
      "\n"
     ]
    }
   ],
   "source": [
    "print(\"numIterations: %d\" % trainingSummary.totalIterations)\n",
    "print(\"objectiveHistory: %s\" % str(trainingSummary.objectiveHistory))\n",
    "trainingSummary.residuals.show()"
   ]
  }
 ],
 "metadata": {
  "kernelspec": {
   "display_name": "Python 3 (ipykernel)",
   "language": "python",
   "name": "python3"
  },
  "language_info": {
   "codemirror_mode": {
    "name": "ipython",
    "version": 3
   },
   "file_extension": ".py",
   "mimetype": "text/x-python",
   "name": "python",
   "nbconvert_exporter": "python",
   "pygments_lexer": "ipython3",
   "version": "3.12.2"
  }
 },
 "nbformat": 4,
 "nbformat_minor": 5
}
