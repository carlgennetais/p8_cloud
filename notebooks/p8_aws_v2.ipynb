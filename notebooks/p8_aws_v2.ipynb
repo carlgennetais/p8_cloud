{
 "cells": [
  {
   "cell_type": "markdown",
   "id": "eb772d3a-7925-494c-87ba-22b3e590a7f8",
   "metadata": {},
   "source": [
    "### 4.10.1 Démarrage de la session Spark"
   ]
  },
  {
   "cell_type": "code",
   "execution_count": 1,
   "id": "8b25a17a-7d48-40fb-8e60-2b2c6521d10f",
   "metadata": {},
   "outputs": [
    {
     "name": "stdout",
     "output_type": "stream",
     "text": [
      "Starting Spark application\n"
     ]
    },
    {
     "data": {
      "text/html": [
       "<table>\n",
       "<tr><th>ID</th><th>YARN Application ID</th><th>Kind</th><th>State</th><th>Spark UI</th><th>Driver log</th><th>User</th><th>Current session?</th></tr><tr><td>2</td><td>application_1713722877457_0003</td><td>pyspark</td><td>idle</td><td><a target=\"_blank\" href=\"http://ip-172-31-38-166.eu-north-1.compute.internal:20888/proxy/application_1713722877457_0003/\">Link</a></td><td><a target=\"_blank\" href=\"http://ip-172-31-45-225.eu-north-1.compute.internal:8042/node/containerlogs/container_1713722877457_0003_01_000001/livy\">Link</a></td><td>None</td><td>✔</td></tr></table>"
      ],
      "text/plain": [
       "<IPython.core.display.HTML object>"
      ]
     },
     "metadata": {},
     "output_type": "display_data"
    },
    {
     "data": {
      "application/vnd.jupyter.widget-view+json": {
       "model_id": "",
       "version_major": 2,
       "version_minor": 0
      },
      "text/plain": [
       "FloatProgress(value=0.0, bar_style='info', description='Progress:', layout=Layout(height='25px', width='50%'),…"
      ]
     },
     "metadata": {},
     "output_type": "display_data"
    },
    {
     "name": "stdout",
     "output_type": "stream",
     "text": [
      "SparkSession available as 'spark'.\n"
     ]
    },
    {
     "data": {
      "application/vnd.jupyter.widget-view+json": {
       "model_id": "",
       "version_major": 2,
       "version_minor": 0
      },
      "text/plain": [
       "FloatProgress(value=0.0, bar_style='info', description='Progress:', layout=Layout(height='25px', width='50%'),…"
      ]
     },
     "metadata": {},
     "output_type": "display_data"
    }
   ],
   "source": [
    "# L'exécution de cette cellule démarre l'application Spark"
   ]
  },
  {
   "cell_type": "markdown",
   "id": "98f16fb8-41ca-4b3c-9055-a2dd62d78e76",
   "metadata": {},
   "source": [
    "<u>Affichage des informations sur la session en cours et liens vers Spark UI</u> :"
   ]
  },
  {
   "cell_type": "code",
   "execution_count": 2,
   "id": "017b1a2d-583d-41b3-b24e-414d12c28478",
   "metadata": {},
   "outputs": [
    {
     "data": {
      "text/html": [
       "Current session configs: <tt>{'driverMemory': '1000M', 'executorCores': 2, 'proxyUser': 'jovyan', 'kind': 'pyspark'}</tt><br>"
      ],
      "text/plain": [
       "<IPython.core.display.HTML object>"
      ]
     },
     "metadata": {},
     "output_type": "display_data"
    },
    {
     "data": {
      "text/html": [
       "<table>\n",
       "<tr><th>ID</th><th>YARN Application ID</th><th>Kind</th><th>State</th><th>Spark UI</th><th>Driver log</th><th>User</th><th>Current session?</th></tr><tr><td>2</td><td>application_1713722877457_0003</td><td>pyspark</td><td>idle</td><td><a target=\"_blank\" href=\"http://ip-172-31-38-166.eu-north-1.compute.internal:20888/proxy/application_1713722877457_0003/\">Link</a></td><td><a target=\"_blank\" href=\"http://ip-172-31-45-225.eu-north-1.compute.internal:8042/node/containerlogs/container_1713722877457_0003_01_000001/livy\">Link</a></td><td>None</td><td>✔</td></tr></table>"
      ],
      "text/plain": [
       "<IPython.core.display.HTML object>"
      ]
     },
     "metadata": {},
     "output_type": "display_data"
    }
   ],
   "source": [
    "%%info"
   ]
  },
  {
   "cell_type": "markdown",
   "id": "13ff7245-e071-41d7-88be-22cef9f60d64",
   "metadata": {},
   "source": [
    "### 4.10.2 Installation des packages\n",
    "\n",
    "Les packages nécessaires ont été installé via l'étape de **bootstrap** à l'instanciation du serveur.\n",
    "```bash\n",
    "#!/bin/bash\n",
    "# install requirements on all cluster nodes, not only master\n",
    "# update pip to prevent pyarrow installation error\n",
    "sudo python3 -m pip install -U setuptools\n",
    "sudo python3 -m pip install -U pip\n",
    "sudo python3 -m pip install wheel\n",
    "sudo python3 -m pip install pillow\n",
    "# same version of tensorflow and keras to avoid module not found error\n",
    "sudo python3 -m pip install tensorflow==2.11.0\n",
    "sudo python3 -m pip install keras==2.11.0\n",
    "sudo python3 -m pip install pandas==1.2.5\n",
    "sudo python3 -m pip install pyarrow\n",
    "sudo python3 -m pip install boto3\n",
    "sudo python3 -m pip install s3fs\n",
    "sudo python3 -m pip install fsspec\n",
    "\n",
    "```\n",
    "\n",
    "### 4.10.3 Import des librairies"
   ]
  },
  {
   "cell_type": "code",
   "execution_count": 3,
   "id": "fbb2a9f3-05a9-40f8-9879-b24f30350846",
   "metadata": {},
   "outputs": [
    {
     "data": {
      "application/vnd.jupyter.widget-view+json": {
       "model_id": "",
       "version_major": 2,
       "version_minor": 0
      },
      "text/plain": [
       "FloatProgress(value=0.0, bar_style='info', description='Progress:', layout=Layout(height='25px', width='50%'),…"
      ]
     },
     "metadata": {},
     "output_type": "display_data"
    }
   ],
   "source": [
    "import io\n",
    "\n",
    "import numpy as np\n",
    "import pandas as pd\n",
    "from PIL import Image\n",
    "from pyspark.ml.feature import PCA, StandardScaler, VectorAssembler\n",
    "from pyspark.ml.linalg import Vectors, VectorUDT\n",
    "from pyspark.sql.functions import PandasUDFType, col, element_at, pandas_udf, split, udf\n",
    "from pyspark.sql.types import *\n",
    "from tensorflow.keras import Model\n",
    "from tensorflow.keras.applications.mobilenet_v2 import MobileNetV2, preprocess_input\n",
    "from tensorflow.keras.preprocessing.image import img_to_array"
   ]
  },
  {
   "cell_type": "markdown",
   "id": "973c020b-3c19-4e3f-8bd6-08715088eb08",
   "metadata": {},
   "source": [
    "### 4.10.4 Définition des PATH pour charger les images et enregistrer les résultats\n",
    "\n",
    "Nous accédons directement à nos **données sur S3** comme si elles étaient **stockées localement**."
   ]
  },
  {
   "cell_type": "code",
   "execution_count": 4,
   "id": "8296d187-ad76-4e70-ac35-97f6d115b46c",
   "metadata": {},
   "outputs": [
    {
     "data": {
      "application/vnd.jupyter.widget-view+json": {
       "model_id": "",
       "version_major": 2,
       "version_minor": 0
      },
      "text/plain": [
       "FloatProgress(value=0.0, bar_style='info', description='Progress:', layout=Layout(height='25px', width='50%'),…"
      ]
     },
     "metadata": {},
     "output_type": "display_data"
    },
    {
     "name": "stdout",
     "output_type": "stream",
     "text": [
      "PATH:        s3://carl-p8-v2\n",
      "PATH_Data:   s3://carl-p8-v2/sample_test\n",
      "PATH_Result: s3://carl-p8-v2/Results"
     ]
    }
   ],
   "source": [
    "# define s3 path for reading data and writing results\n",
    "BUCKET = \"s3://carl-p8-v2\"\n",
    "PATH_Data = BUCKET + \"/sample_test\"\n",
    "PATH_Result = BUCKET + \"/Results\"\n",
    "\n",
    "print(\n",
    "    \"PATH:        \"\n",
    "    + BUCKET\n",
    "    + \"\\nPATH_Data:   \"\n",
    "    + PATH_Data\n",
    "    + \"\\nPATH_Result: \"\n",
    "    + PATH_Result\n",
    ")"
   ]
  },
  {
   "cell_type": "markdown",
   "id": "8a7d0cd6-b9f1-46ed-bbf6-097672ca7c2a",
   "metadata": {},
   "source": [
    "### 4.10.5 Traitement des données"
   ]
  },
  {
   "cell_type": "markdown",
   "id": "406bf337-4048-46d0-b763-7482629d7a8b",
   "metadata": {},
   "source": [
    "#### 4.10.5.1 Chargement des données"
   ]
  },
  {
   "cell_type": "code",
   "execution_count": 5,
   "id": "dc4c08e6-f1ed-4d1f-bfd4-13ed9dd96fd1",
   "metadata": {},
   "outputs": [
    {
     "data": {
      "application/vnd.jupyter.widget-view+json": {
       "model_id": "",
       "version_major": 2,
       "version_minor": 0
      },
      "text/plain": [
       "FloatProgress(value=0.0, bar_style='info', description='Progress:', layout=Layout(height='25px', width='50%'),…"
      ]
     },
     "metadata": {},
     "output_type": "display_data"
    }
   ],
   "source": [
    "# Load images using Spark\n",
    "images = (\n",
    "    spark.read.format(\"binaryFile\")\n",
    "    .option(\"pathGlobFilter\", \"*.jpg\")\n",
    "    .option(\"recursiveFileLookup\", \"true\")\n",
    "    .load(PATH_Data)\n",
    ")"
   ]
  },
  {
   "cell_type": "code",
   "execution_count": 6,
   "id": "7adfacfc",
   "metadata": {},
   "outputs": [
    {
     "data": {
      "application/vnd.jupyter.widget-view+json": {
       "model_id": "",
       "version_major": 2,
       "version_minor": 0
      },
      "text/plain": [
       "FloatProgress(value=0.0, bar_style='info', description='Progress:', layout=Layout(height='25px', width='50%'),…"
      ]
     },
     "metadata": {},
     "output_type": "display_data"
    }
   ],
   "source": [
    "print((images.count(), len(images.columns)))"
   ]
  },
  {
   "cell_type": "code",
   "execution_count": 7,
   "id": "dca2fb2e-d040-4411-a533-7eeb33fa909d",
   "metadata": {},
   "outputs": [
    {
     "data": {
      "application/vnd.jupyter.widget-view+json": {
       "model_id": "",
       "version_major": 2,
       "version_minor": 0
      },
      "text/plain": [
       "FloatProgress(value=0.0, bar_style='info', description='Progress:', layout=Layout(height='25px', width='50%'),…"
      ]
     },
     "metadata": {},
     "output_type": "display_data"
    }
   ],
   "source": [
    "images.show(5)"
   ]
  },
  {
   "cell_type": "markdown",
   "id": "b7ca1357-f691-4240-bb00-8880ed962b5a",
   "metadata": {},
   "source": [
    "<u>Je ne conserve que le **path** de l'image et j'ajoute <br />\n",
    "    une colonne contenant les **labels** de chaque image</u> :"
   ]
  },
  {
   "cell_type": "code",
   "execution_count": 8,
   "id": "0409ed44-2c2b-48ef-9896-77b3b640c8bb",
   "metadata": {},
   "outputs": [
    {
     "data": {
      "application/vnd.jupyter.widget-view+json": {
       "model_id": "",
       "version_major": 2,
       "version_minor": 0
      },
      "text/plain": [
       "FloatProgress(value=0.0, bar_style='info', description='Progress:', layout=Layout(height='25px', width='50%'),…"
      ]
     },
     "metadata": {},
     "output_type": "display_data"
    }
   ],
   "source": [
    "# keep only path and add label column\n",
    "images = images.withColumn(\"label\", element_at(split(images[\"path\"], \"/\"), -2))\n",
    "print(images.printSchema())\n",
    "print(images.select(\"path\", \"label\").show(5, False))"
   ]
  },
  {
   "cell_type": "code",
   "execution_count": 9,
   "id": "71ceed59",
   "metadata": {},
   "outputs": [
    {
     "data": {
      "application/vnd.jupyter.widget-view+json": {
       "model_id": "",
       "version_major": 2,
       "version_minor": 0
      },
      "text/plain": [
       "FloatProgress(value=0.0, bar_style='info', description='Progress:', layout=Layout(height='25px', width='50%'),…"
      ]
     },
     "metadata": {},
     "output_type": "display_data"
    }
   ],
   "source": [
    "images.show()"
   ]
  },
  {
   "cell_type": "markdown",
   "id": "246a1287-7c5e-41e1-9080-7b2426003f55",
   "metadata": {},
   "source": [
    "#### 4.10.5.2 Préparation du modèle"
   ]
  },
  {
   "cell_type": "code",
   "execution_count": 10,
   "id": "b8b928ca-6bfd-4dc9-b791-4cd9b2719a6d",
   "metadata": {},
   "outputs": [
    {
     "data": {
      "application/vnd.jupyter.widget-view+json": {
       "model_id": "",
       "version_major": 2,
       "version_minor": 0
      },
      "text/plain": [
       "FloatProgress(value=0.0, bar_style='info', description='Progress:', layout=Layout(height='25px', width='50%'),…"
      ]
     },
     "metadata": {},
     "output_type": "display_data"
    }
   ],
   "source": [
    "# use MobileNetV2 to extract features\n",
    "model = MobileNetV2(weights=\"imagenet\", include_top=True, input_shape=(224, 224, 3))"
   ]
  },
  {
   "cell_type": "code",
   "execution_count": 11,
   "id": "d17d3980-f6cd-4436-8ea1-9032060551b6",
   "metadata": {},
   "outputs": [
    {
     "data": {
      "application/vnd.jupyter.widget-view+json": {
       "model_id": "",
       "version_major": 2,
       "version_minor": 0
      },
      "text/plain": [
       "FloatProgress(value=0.0, bar_style='info', description='Progress:', layout=Layout(height='25px', width='50%'),…"
      ]
     },
     "metadata": {},
     "output_type": "display_data"
    }
   ],
   "source": [
    "# remove top layer\n",
    "new_model = Model(inputs=model.input, outputs=model.layers[-2].output)"
   ]
  },
  {
   "cell_type": "code",
   "execution_count": 12,
   "id": "9309f2be-0b68-4edc-9ef0-a9657418f136",
   "metadata": {},
   "outputs": [
    {
     "data": {
      "application/vnd.jupyter.widget-view+json": {
       "model_id": "",
       "version_major": 2,
       "version_minor": 0
      },
      "text/plain": [
       "FloatProgress(value=0.0, bar_style='info', description='Progress:', layout=Layout(height='25px', width='50%'),…"
      ]
     },
     "metadata": {},
     "output_type": "display_data"
    }
   ],
   "source": [
    "# Broadcast the model's weights to the workers to ensure that they are always available.\n",
    "brodcast_weights = sc.broadcast(new_model.get_weights())"
   ]
  },
  {
   "cell_type": "code",
   "execution_count": 13,
   "id": "f8d7f554-1f60-4d2c-a5c7-eeb07bc08b29",
   "metadata": {
    "scrolled": true
   },
   "outputs": [
    {
     "data": {
      "application/vnd.jupyter.widget-view+json": {
       "model_id": "",
       "version_major": 2,
       "version_minor": 0
      },
      "text/plain": [
       "FloatProgress(value=0.0, bar_style='info', description='Progress:', layout=Layout(height='25px', width='50%'),…"
      ]
     },
     "metadata": {},
     "output_type": "display_data"
    },
    {
     "name": "stdout",
     "output_type": "stream",
     "text": [
      "Model: \"model\"\n",
      "__________________________________________________________________________________________________\n",
      " Layer (type)                   Output Shape         Param #     Connected to                     \n",
      "==================================================================================================\n",
      " input_1 (InputLayer)           [(None, 224, 224, 3  0           []                               \n",
      "                                )]                                                                \n",
      "                                                                                                  \n",
      " Conv1 (Conv2D)                 (None, 112, 112, 32  864         ['input_1[0][0]']                \n",
      "                                )                                                                 \n",
      "                                                                                                  \n",
      " bn_Conv1 (BatchNormalization)  (None, 112, 112, 32  128         ['Conv1[0][0]']                  \n",
      "                                )                                                                 \n",
      "                                                                                                  \n",
      " Conv1_relu (ReLU)              (None, 112, 112, 32  0           ['bn_Conv1[0][0]']               \n",
      "                                )                                                                 \n",
      "                                                                                                  \n",
      " expanded_conv_depthwise (Depth  (None, 112, 112, 32  288        ['Conv1_relu[0][0]']             \n",
      " wiseConv2D)                    )                                                                 \n",
      "                                                                                                  \n",
      " expanded_conv_depthwise_BN (Ba  (None, 112, 112, 32  128        ['expanded_conv_depthwise[0][0]']\n",
      " tchNormalization)              )                                                                 \n",
      "                                                                                                  \n",
      " expanded_conv_depthwise_relu (  (None, 112, 112, 32  0          ['expanded_conv_depthwise_BN[0][0\n",
      " ReLU)                          )                                ]']                              \n",
      "                                                                                                  \n",
      " expanded_conv_project (Conv2D)  (None, 112, 112, 16  512        ['expanded_conv_depthwise_relu[0]\n",
      "                                )                                [0]']                            \n",
      "                                                                                                  \n",
      " expanded_conv_project_BN (Batc  (None, 112, 112, 16  64         ['expanded_conv_project[0][0]']  \n",
      " hNormalization)                )                                                                 \n",
      "                                                                                                  \n",
      " block_1_expand (Conv2D)        (None, 112, 112, 96  1536        ['expanded_conv_project_BN[0][0]'\n",
      "                                )                                ]                                \n",
      "                                                                                                  \n",
      " block_1_expand_BN (BatchNormal  (None, 112, 112, 96  384        ['block_1_expand[0][0]']         \n",
      " ization)                       )                                                                 \n",
      "                                                                                                  \n",
      " block_1_expand_relu (ReLU)     (None, 112, 112, 96  0           ['block_1_expand_BN[0][0]']      \n",
      "                                )                                                                 \n",
      "                                                                                                  \n",
      " block_1_pad (ZeroPadding2D)    (None, 113, 113, 96  0           ['block_1_expand_relu[0][0]']    \n",
      "                                )                                                                 \n",
      "                                                                                                  \n",
      " block_1_depthwise (DepthwiseCo  (None, 56, 56, 96)  864         ['block_1_pad[0][0]']            \n",
      " nv2D)                                                                                            \n",
      "                                                                                                  \n",
      " block_1_depthwise_BN (BatchNor  (None, 56, 56, 96)  384         ['block_1_depthwise[0][0]']      \n",
      " malization)                                                                                      \n",
      "                                                                                                  \n",
      " block_1_depthwise_relu (ReLU)  (None, 56, 56, 96)   0           ['block_1_depthwise_BN[0][0]']   \n",
      "                                                                                                  \n",
      " block_1_project (Conv2D)       (None, 56, 56, 24)   2304        ['block_1_depthwise_relu[0][0]'] \n",
      "                                                                                                  \n",
      " block_1_project_BN (BatchNorma  (None, 56, 56, 24)  96          ['block_1_project[0][0]']        \n",
      " lization)                                                                                        \n",
      "                                                                                                  \n",
      " block_2_expand (Conv2D)        (None, 56, 56, 144)  3456        ['block_1_project_BN[0][0]']     \n",
      "                                                                                                  \n",
      " block_2_expand_BN (BatchNormal  (None, 56, 56, 144)  576        ['block_2_expand[0][0]']         \n",
      " ization)                                                                                         \n",
      "                                                                                                  \n",
      " block_2_expand_relu (ReLU)     (None, 56, 56, 144)  0           ['block_2_expand_BN[0][0]']      \n",
      "                                                                                                  \n",
      " block_2_depthwise (DepthwiseCo  (None, 56, 56, 144)  1296       ['block_2_expand_relu[0][0]']    \n",
      " nv2D)                                                                                            \n",
      "                                                                                                  \n",
      " block_2_depthwise_BN (BatchNor  (None, 56, 56, 144)  576        ['block_2_depthwise[0][0]']      \n",
      " malization)                                                                                      \n",
      "                                                                                                  \n",
      " block_2_depthwise_relu (ReLU)  (None, 56, 56, 144)  0           ['block_2_depthwise_BN[0][0]']   \n",
      "                                                                                                  \n",
      " block_2_project (Conv2D)       (None, 56, 56, 24)   3456        ['block_2_depthwise_relu[0][0]'] \n",
      "                                                                                                  \n",
      " block_2_project_BN (BatchNorma  (None, 56, 56, 24)  96          ['block_2_project[0][0]']        \n",
      " lization)                                                                                        \n",
      "                                                                                                  \n",
      " block_2_add (Add)              (None, 56, 56, 24)   0           ['block_1_project_BN[0][0]',     \n",
      "                                                                  'block_2_project_BN[0][0]']     \n",
      "                                                                                                  \n",
      " block_3_expand (Conv2D)        (None, 56, 56, 144)  3456        ['block_2_add[0][0]']            \n",
      "                                                                                                  \n",
      " block_3_expand_BN (BatchNormal  (None, 56, 56, 144)  576        ['block_3_expand[0][0]']         \n",
      " ization)                                                                                         \n",
      "                                                                                                  \n",
      " block_3_expand_relu (ReLU)     (None, 56, 56, 144)  0           ['block_3_expand_BN[0][0]']      \n",
      "                                                                                                  \n",
      " block_3_pad (ZeroPadding2D)    (None, 57, 57, 144)  0           ['block_3_expand_relu[0][0]']    \n",
      "                                                                                                  \n",
      " block_3_depthwise (DepthwiseCo  (None, 28, 28, 144)  1296       ['block_3_pad[0][0]']            \n",
      " nv2D)                                                                                            \n",
      "                                                                                                  \n",
      " block_3_depthwise_BN (BatchNor  (None, 28, 28, 144)  576        ['block_3_depthwise[0][0]']      \n",
      " malization)                                                                                      \n",
      "                                                                                                  \n",
      " block_3_depthwise_relu (ReLU)  (None, 28, 28, 144)  0           ['block_3_depthwise_BN[0][0]']   \n",
      "                                                                                                  \n",
      " block_3_project (Conv2D)       (None, 28, 28, 32)   4608        ['block_3_depthwise_relu[0][0]'] \n",
      "                                                                                                  \n",
      " block_3_project_BN (BatchNorma  (None, 28, 28, 32)  128         ['block_3_project[0][0]']        \n",
      " lization)                                                                                        \n",
      "                                                                                                  \n",
      " block_4_expand (Conv2D)        (None, 28, 28, 192)  6144        ['block_3_project_BN[0][0]']     \n",
      "                                                                                                  \n",
      " block_4_expand_BN (BatchNormal  (None, 28, 28, 192)  768        ['block_4_expand[0][0]']         \n",
      " ization)                                                                                         \n",
      "                                                                                                  \n",
      " block_4_expand_relu (ReLU)     (None, 28, 28, 192)  0           ['block_4_expand_BN[0][0]']      \n",
      "                                                                                                  \n",
      " block_4_depthwise (DepthwiseCo  (None, 28, 28, 192)  1728       ['block_4_expand_relu[0][0]']    \n",
      " nv2D)                                                                                            \n",
      "                                                                                                  \n",
      " block_4_depthwise_BN (BatchNor  (None, 28, 28, 192)  768        ['block_4_depthwise[0][0]']      \n",
      " malization)                                                                                      \n",
      "                                                                                                  \n",
      " block_4_depthwise_relu (ReLU)  (None, 28, 28, 192)  0           ['block_4_depthwise_BN[0][0]']   \n",
      "                                                                                                  \n",
      " block_4_project (Conv2D)       (None, 28, 28, 32)   6144        ['block_4_depthwise_relu[0][0]'] \n",
      "                                                                                                  \n",
      " block_4_project_BN (BatchNorma  (None, 28, 28, 32)  128         ['block_4_project[0][0]']        \n",
      " lization)                                                                                        \n",
      "                                                                                                  \n",
      " block_4_add (Add)              (None, 28, 28, 32)   0           ['block_3_project_BN[0][0]',     \n",
      "                                                                  'block_4_project_BN[0][0]']     \n",
      "                                                                                                  \n",
      " block_5_expand (Conv2D)        (None, 28, 28, 192)  6144        ['block_4_add[0][0]']            \n",
      "                                                                                                  \n",
      " block_5_expand_BN (BatchNormal  (None, 28, 28, 192)  768        ['block_5_expand[0][0]']         \n",
      " ization)                                                                                         \n",
      "                                                                                                  \n",
      " block_5_expand_relu (ReLU)     (None, 28, 28, 192)  0           ['block_5_expand_BN[0][0]']      \n",
      "                                                                                                  \n",
      " block_5_depthwise (DepthwiseCo  (None, 28, 28, 192)  1728       ['block_5_expand_relu[0][0]']    \n",
      " nv2D)                                                                                            \n",
      "                                                                                                  \n",
      " block_5_depthwise_BN (BatchNor  (None, 28, 28, 192)  768        ['block_5_depthwise[0][0]']      \n",
      " malization)                                                                                      \n",
      "                                                                                                  \n",
      " block_5_depthwise_relu (ReLU)  (None, 28, 28, 192)  0           ['block_5_depthwise_BN[0][0]']   \n",
      "                                                                                                  \n",
      " block_5_project (Conv2D)       (None, 28, 28, 32)   6144        ['block_5_depthwise_relu[0][0]'] \n",
      "                                                                                                  \n",
      " block_5_project_BN (BatchNorma  (None, 28, 28, 32)  128         ['block_5_project[0][0]']        \n",
      " lization)                                                                                        \n",
      "                                                                                                  \n",
      " block_5_add (Add)              (None, 28, 28, 32)   0           ['block_4_add[0][0]',            \n",
      "                                                                  'block_5_project_BN[0][0]']     \n",
      "                                                                                                  \n",
      " block_6_expand (Conv2D)        (None, 28, 28, 192)  6144        ['block_5_add[0][0]']            \n",
      "                                                                                                  \n",
      " block_6_expand_BN (BatchNormal  (None, 28, 28, 192)  768        ['block_6_expand[0][0]']         \n",
      " ization)                                                                                         \n",
      "                                                                                                  \n",
      " block_6_expand_relu (ReLU)     (None, 28, 28, 192)  0           ['block_6_expand_BN[0][0]']      \n",
      "                                                                                                  \n",
      " block_6_pad (ZeroPadding2D)    (None, 29, 29, 192)  0           ['block_6_expand_relu[0][0]']    \n",
      "                                                                                                  \n",
      " block_6_depthwise (DepthwiseCo  (None, 14, 14, 192)  1728       ['block_6_pad[0][0]']            \n",
      " nv2D)                                                                                            \n",
      "                                                                                                  \n",
      " block_6_depthwise_BN (BatchNor  (None, 14, 14, 192)  768        ['block_6_depthwise[0][0]']      \n",
      " malization)                                                                                      \n",
      "                                                                                                  \n",
      " block_6_depthwise_relu (ReLU)  (None, 14, 14, 192)  0           ['block_6_depthwise_BN[0][0]']   \n",
      "                                                                                                  \n",
      " block_6_project (Conv2D)       (None, 14, 14, 64)   12288       ['block_6_depthwise_relu[0][0]'] \n",
      "                                                                                                  \n",
      " block_6_project_BN (BatchNorma  (None, 14, 14, 64)  256         ['block_6_project[0][0]']        \n",
      " lization)                                                                                        \n",
      "                                                                                                  \n",
      " block_7_expand (Conv2D)        (None, 14, 14, 384)  24576       ['block_6_project_BN[0][0]']     \n",
      "                                                                                                  \n",
      " block_7_expand_BN (BatchNormal  (None, 14, 14, 384)  1536       ['block_7_expand[0][0]']         \n",
      " ization)                                                                                         \n",
      "                                                                                                  \n",
      " block_7_expand_relu (ReLU)     (None, 14, 14, 384)  0           ['block_7_expand_BN[0][0]']      \n",
      "                                                                                                  \n",
      " block_7_depthwise (DepthwiseCo  (None, 14, 14, 384)  3456       ['block_7_expand_relu[0][0]']    \n",
      " nv2D)                                                                                            \n",
      "                                                                                                  \n",
      " block_7_depthwise_BN (BatchNor  (None, 14, 14, 384)  1536       ['block_7_depthwise[0][0]']      \n",
      " malization)                                                                                      \n",
      "                                                                                                  \n",
      " block_7_depthwise_relu (ReLU)  (None, 14, 14, 384)  0           ['block_7_depthwise_BN[0][0]']   \n",
      "                                                                                                  \n",
      " block_7_project (Conv2D)       (None, 14, 14, 64)   24576       ['block_7_depthwise_relu[0][0]'] \n",
      "                                                                                                  \n",
      " block_7_project_BN (BatchNorma  (None, 14, 14, 64)  256         ['block_7_project[0][0]']        \n",
      " lization)                                                                                        \n",
      "                                                                                                  \n",
      " block_7_add (Add)              (None, 14, 14, 64)   0           ['block_6_project_BN[0][0]',     \n",
      "                                                                  'block_7_project_BN[0][0]']     \n",
      "                                                                                                  \n",
      " block_8_expand (Conv2D)        (None, 14, 14, 384)  24576       ['block_7_add[0][0]']            \n",
      "                                                                                                  \n",
      " block_8_expand_BN (BatchNormal  (None, 14, 14, 384)  1536       ['block_8_expand[0][0]']         \n",
      " ization)                                                                                         \n",
      "                                                                                                  \n",
      " block_8_expand_relu (ReLU)     (None, 14, 14, 384)  0           ['block_8_expand_BN[0][0]']      \n",
      "                                                                                                  \n",
      " block_8_depthwise (DepthwiseCo  (None, 14, 14, 384)  3456       ['block_8_expand_relu[0][0]']    \n",
      " nv2D)                                                                                            \n",
      "                                                                                                  \n",
      " block_8_depthwise_BN (BatchNor  (None, 14, 14, 384)  1536       ['block_8_depthwise[0][0]']      \n",
      " malization)                                                                                      \n",
      "                                                                                                  \n",
      " block_8_depthwise_relu (ReLU)  (None, 14, 14, 384)  0           ['block_8_depthwise_BN[0][0]']   \n",
      "                                                                                                  \n",
      " block_8_project (Conv2D)       (None, 14, 14, 64)   24576       ['block_8_depthwise_relu[0][0]'] \n",
      "                                                                                                  \n",
      " block_8_project_BN (BatchNorma  (None, 14, 14, 64)  256         ['block_8_project[0][0]']        \n",
      " lization)                                                                                        \n",
      "                                                                                                  \n",
      " block_8_add (Add)              (None, 14, 14, 64)   0           ['block_7_add[0][0]',            \n",
      "                                                                  'block_8_project_BN[0][0]']     \n",
      "                                                                                                  \n",
      " block_9_expand (Conv2D)        (None, 14, 14, 384)  24576       ['block_8_add[0][0]']            \n",
      "                                                                                                  \n",
      " block_9_expand_BN (BatchNormal  (None, 14, 14, 384)  1536       ['block_9_expand[0][0]']         \n",
      " ization)                                                                                         \n",
      "                                                                                                  \n",
      " block_9_expand_relu (ReLU)     (None, 14, 14, 384)  0           ['block_9_expand_BN[0][0]']      \n",
      "                                                                                                  \n",
      " block_9_depthwise (DepthwiseCo  (None, 14, 14, 384)  3456       ['block_9_expand_relu[0][0]']    \n",
      " nv2D)                                                                                            \n",
      "                                                                                                  \n",
      " block_9_depthwise_BN (BatchNor  (None, 14, 14, 384)  1536       ['block_9_depthwise[0][0]']      \n",
      " malization)                                                                                      \n",
      "                                                                                                  \n",
      " block_9_depthwise_relu (ReLU)  (None, 14, 14, 384)  0           ['block_9_depthwise_BN[0][0]']   \n",
      "                                                                                                  \n",
      " block_9_project (Conv2D)       (None, 14, 14, 64)   24576       ['block_9_depthwise_relu[0][0]'] \n",
      "                                                                                                  \n",
      " block_9_project_BN (BatchNorma  (None, 14, 14, 64)  256         ['block_9_project[0][0]']        \n",
      " lization)                                                                                        \n",
      "                                                                                                  \n",
      " block_9_add (Add)              (None, 14, 14, 64)   0           ['block_8_add[0][0]',            \n",
      "                                                                  'block_9_project_BN[0][0]']     \n",
      "                                                                                                  \n",
      " block_10_expand (Conv2D)       (None, 14, 14, 384)  24576       ['block_9_add[0][0]']            \n",
      "                                                                                                  \n",
      " block_10_expand_BN (BatchNorma  (None, 14, 14, 384)  1536       ['block_10_expand[0][0]']        \n",
      " lization)                                                                                        \n",
      "                                                                                                  \n",
      " block_10_expand_relu (ReLU)    (None, 14, 14, 384)  0           ['block_10_expand_BN[0][0]']     \n",
      "                                                                                                  \n",
      " block_10_depthwise (DepthwiseC  (None, 14, 14, 384)  3456       ['block_10_expand_relu[0][0]']   \n",
      " onv2D)                                                                                           \n",
      "                                                                                                  \n",
      " block_10_depthwise_BN (BatchNo  (None, 14, 14, 384)  1536       ['block_10_depthwise[0][0]']     \n",
      " rmalization)                                                                                     \n",
      "                                                                                                  \n",
      " block_10_depthwise_relu (ReLU)  (None, 14, 14, 384)  0          ['block_10_depthwise_BN[0][0]']  \n",
      "                                                                                                  \n",
      " block_10_project (Conv2D)      (None, 14, 14, 96)   36864       ['block_10_depthwise_relu[0][0]']\n",
      "                                                                                                  \n",
      " block_10_project_BN (BatchNorm  (None, 14, 14, 96)  384         ['block_10_project[0][0]']       \n",
      " alization)                                                                                       \n",
      "                                                                                                  \n",
      " block_11_expand (Conv2D)       (None, 14, 14, 576)  55296       ['block_10_project_BN[0][0]']    \n",
      "                                                                                                  \n",
      " block_11_expand_BN (BatchNorma  (None, 14, 14, 576)  2304       ['block_11_expand[0][0]']        \n",
      " lization)                                                                                        \n",
      "                                                                                                  \n",
      " block_11_expand_relu (ReLU)    (None, 14, 14, 576)  0           ['block_11_expand_BN[0][0]']     \n",
      "                                                                                                  \n",
      " block_11_depthwise (DepthwiseC  (None, 14, 14, 576)  5184       ['block_11_expand_relu[0][0]']   \n",
      " onv2D)                                                                                           \n",
      "                                                                                                  \n",
      " block_11_depthwise_BN (BatchNo  (None, 14, 14, 576)  2304       ['block_11_depthwise[0][0]']     \n",
      " rmalization)                                                                                     \n",
      "                                                                                                  \n",
      " block_11_depthwise_relu (ReLU)  (None, 14, 14, 576)  0          ['block_11_depthwise_BN[0][0]']  \n",
      "                                                                                                  \n",
      " block_11_project (Conv2D)      (None, 14, 14, 96)   55296       ['block_11_depthwise_relu[0][0]']\n",
      "                                                                                                  \n",
      " block_11_project_BN (BatchNorm  (None, 14, 14, 96)  384         ['block_11_project[0][0]']       \n",
      " alization)                                                                                       \n",
      "                                                                                                  \n",
      " block_11_add (Add)             (None, 14, 14, 96)   0           ['block_10_project_BN[0][0]',    \n",
      "                                                                  'block_11_project_BN[0][0]']    \n",
      "                                                                                                  \n",
      " block_12_expand (Conv2D)       (None, 14, 14, 576)  55296       ['block_11_add[0][0]']           \n",
      "                                                                                                  \n",
      " block_12_expand_BN (BatchNorma  (None, 14, 14, 576)  2304       ['block_12_expand[0][0]']        \n",
      " lization)                                                                                        \n",
      "                                                                                                  \n",
      " block_12_expand_relu (ReLU)    (None, 14, 14, 576)  0           ['block_12_expand_BN[0][0]']     \n",
      "                                                                                                  \n",
      " block_12_depthwise (DepthwiseC  (None, 14, 14, 576)  5184       ['block_12_expand_relu[0][0]']   \n",
      " onv2D)                                                                                           \n",
      "                                                                                                  \n",
      " block_12_depthwise_BN (BatchNo  (None, 14, 14, 576)  2304       ['block_12_depthwise[0][0]']     \n",
      " rmalization)                                                                                     \n",
      "                                                                                                  \n",
      " block_12_depthwise_relu (ReLU)  (None, 14, 14, 576)  0          ['block_12_depthwise_BN[0][0]']  \n",
      "                                                                                                  \n",
      " block_12_project (Conv2D)      (None, 14, 14, 96)   55296       ['block_12_depthwise_relu[0][0]']\n",
      "                                                                                                  \n",
      " block_12_project_BN (BatchNorm  (None, 14, 14, 96)  384         ['block_12_project[0][0]']       \n",
      " alization)                                                                                       \n",
      "                                                                                                  \n",
      " block_12_add (Add)             (None, 14, 14, 96)   0           ['block_11_add[0][0]',           \n",
      "                                                                  'block_12_project_BN[0][0]']    \n",
      "                                                                                                  \n",
      " block_13_expand (Conv2D)       (None, 14, 14, 576)  55296       ['block_12_add[0][0]']           \n",
      "                                                                                                  \n",
      " block_13_expand_BN (BatchNorma  (None, 14, 14, 576)  2304       ['block_13_expand[0][0]']        \n",
      " lization)                                                                                        \n",
      "                                                                                                  \n",
      " block_13_expand_relu (ReLU)    (None, 14, 14, 576)  0           ['block_13_expand_BN[0][0]']     \n",
      "                                                                                                  \n",
      " block_13_pad (ZeroPadding2D)   (None, 15, 15, 576)  0           ['block_13_expand_relu[0][0]']   \n",
      "                                                                                                  \n",
      " block_13_depthwise (DepthwiseC  (None, 7, 7, 576)   5184        ['block_13_pad[0][0]']           \n",
      " onv2D)                                                                                           \n",
      "                                                                                                  \n",
      " block_13_depthwise_BN (BatchNo  (None, 7, 7, 576)   2304        ['block_13_depthwise[0][0]']     \n",
      " rmalization)                                                                                     \n",
      "                                                                                                  \n",
      " block_13_depthwise_relu (ReLU)  (None, 7, 7, 576)   0           ['block_13_depthwise_BN[0][0]']  \n",
      "                                                                                                  \n",
      " block_13_project (Conv2D)      (None, 7, 7, 160)    92160       ['block_13_depthwise_relu[0][0]']\n",
      "                                                                                                  \n",
      " block_13_project_BN (BatchNorm  (None, 7, 7, 160)   640         ['block_13_project[0][0]']       \n",
      " alization)                                                                                       \n",
      "                                                                                                  \n",
      " block_14_expand (Conv2D)       (None, 7, 7, 960)    153600      ['block_13_project_BN[0][0]']    \n",
      "                                                                                                  \n",
      " block_14_expand_BN (BatchNorma  (None, 7, 7, 960)   3840        ['block_14_expand[0][0]']        \n",
      " lization)                                                                                        \n",
      "                                                                                                  \n",
      " block_14_expand_relu (ReLU)    (None, 7, 7, 960)    0           ['block_14_expand_BN[0][0]']     \n",
      "                                                                                                  \n",
      " block_14_depthwise (DepthwiseC  (None, 7, 7, 960)   8640        ['block_14_expand_relu[0][0]']   \n",
      " onv2D)                                                                                           \n",
      "                                                                                                  \n",
      " block_14_depthwise_BN (BatchNo  (None, 7, 7, 960)   3840        ['block_14_depthwise[0][0]']     \n",
      " rmalization)                                                                                     \n",
      "                                                                                                  \n",
      " block_14_depthwise_relu (ReLU)  (None, 7, 7, 960)   0           ['block_14_depthwise_BN[0][0]']  \n",
      "                                                                                                  \n",
      " block_14_project (Conv2D)      (None, 7, 7, 160)    153600      ['block_14_depthwise_relu[0][0]']\n",
      "                                                                                                  \n",
      " block_14_project_BN (BatchNorm  (None, 7, 7, 160)   640         ['block_14_project[0][0]']       \n",
      " alization)                                                                                       \n",
      "                                                                                                  \n",
      " block_14_add (Add)             (None, 7, 7, 160)    0           ['block_13_project_BN[0][0]',    \n",
      "                                                                  'block_14_project_BN[0][0]']    \n",
      "                                                                                                  \n",
      " block_15_expand (Conv2D)       (None, 7, 7, 960)    153600      ['block_14_add[0][0]']           \n",
      "                                                                                                  \n",
      " block_15_expand_BN (BatchNorma  (None, 7, 7, 960)   3840        ['block_15_expand[0][0]']        \n",
      " lization)                                                                                        \n",
      "                                                                                                  \n",
      " block_15_expand_relu (ReLU)    (None, 7, 7, 960)    0           ['block_15_expand_BN[0][0]']     \n",
      "                                                                                                  \n",
      " block_15_depthwise (DepthwiseC  (None, 7, 7, 960)   8640        ['block_15_expand_relu[0][0]']   \n",
      " onv2D)                                                                                           \n",
      "                                                                                                  \n",
      " block_15_depthwise_BN (BatchNo  (None, 7, 7, 960)   3840        ['block_15_depthwise[0][0]']     \n",
      " rmalization)                                                                                     \n",
      "                                                                                                  \n",
      " block_15_depthwise_relu (ReLU)  (None, 7, 7, 960)   0           ['block_15_depthwise_BN[0][0]']  \n",
      "                                                                                                  \n",
      " block_15_project (Conv2D)      (None, 7, 7, 160)    153600      ['block_15_depthwise_relu[0][0]']\n",
      "                                                                                                  \n",
      " block_15_project_BN (BatchNorm  (None, 7, 7, 160)   640         ['block_15_project[0][0]']       \n",
      " alization)                                                                                       \n",
      "                                                                                                  \n",
      " block_15_add (Add)             (None, 7, 7, 160)    0           ['block_14_add[0][0]',           \n",
      "                                                                  'block_15_project_BN[0][0]']    \n",
      "                                                                                                  \n",
      " block_16_expand (Conv2D)       (None, 7, 7, 960)    153600      ['block_15_add[0][0]']           \n",
      "                                                                                                  \n",
      " block_16_expand_BN (BatchNorma  (None, 7, 7, 960)   3840        ['block_16_expand[0][0]']        \n",
      " lization)                                                                                        \n",
      "                                                                                                  \n",
      " block_16_expand_relu (ReLU)    (None, 7, 7, 960)    0           ['block_16_expand_BN[0][0]']     \n",
      "                                                                                                  \n",
      " block_16_depthwise (DepthwiseC  (None, 7, 7, 960)   8640        ['block_16_expand_relu[0][0]']   \n",
      " onv2D)                                                                                           \n",
      "                                                                                                  \n",
      " block_16_depthwise_BN (BatchNo  (None, 7, 7, 960)   3840        ['block_16_depthwise[0][0]']     \n",
      " rmalization)                                                                                     \n",
      "                                                                                                  \n",
      " block_16_depthwise_relu (ReLU)  (None, 7, 7, 960)   0           ['block_16_depthwise_BN[0][0]']  \n",
      "                                                                                                  \n",
      " block_16_project (Conv2D)      (None, 7, 7, 320)    307200      ['block_16_depthwise_relu[0][0]']\n",
      "                                                                                                  \n",
      " block_16_project_BN (BatchNorm  (None, 7, 7, 320)   1280        ['block_16_project[0][0]']       \n",
      " alization)                                                                                       \n",
      "                                                                                                  \n",
      " Conv_1 (Conv2D)                (None, 7, 7, 1280)   409600      ['block_16_project_BN[0][0]']    \n",
      "                                                                                                  \n",
      " Conv_1_bn (BatchNormalization)  (None, 7, 7, 1280)  5120        ['Conv_1[0][0]']                 \n",
      "                                                                                                  \n",
      " out_relu (ReLU)                (None, 7, 7, 1280)   0           ['Conv_1_bn[0][0]']              \n",
      "                                                                                                  \n",
      " global_average_pooling2d (Glob  (None, 1280)        0           ['out_relu[0][0]']               \n",
      " alAveragePooling2D)                                                                              \n",
      "                                                                                                  \n",
      "==================================================================================================\n",
      "Total params: 2,257,984\n",
      "Trainable params: 2,223,872\n",
      "Non-trainable params: 34,112\n",
      "__________________________________________________________________________________________________"
     ]
    }
   ],
   "source": [
    "new_model.summary()"
   ]
  },
  {
   "cell_type": "code",
   "execution_count": 14,
   "id": "f9992261-791f-4e40-bdc7-4e8ac5939a75",
   "metadata": {},
   "outputs": [
    {
     "data": {
      "application/vnd.jupyter.widget-view+json": {
       "model_id": "",
       "version_major": 2,
       "version_minor": 0
      },
      "text/plain": [
       "FloatProgress(value=0.0, bar_style='info', description='Progress:', layout=Layout(height='25px', width='50%'),…"
      ]
     },
     "metadata": {},
     "output_type": "display_data"
    }
   ],
   "source": [
    "def model_fn():\n",
    "    \"\"\"\n",
    "    Returns a MobileNetV2 model with top layer removed\n",
    "    and broadcasted pretrained weights.\n",
    "    \"\"\"\n",
    "    model = MobileNetV2(weights=\"imagenet\", include_top=True, input_shape=(224, 224, 3))\n",
    "    for layer in model.layers:\n",
    "        layer.trainable = False\n",
    "    new_model = Model(inputs=model.input, outputs=model.layers[-2].output)\n",
    "    new_model.set_weights(brodcast_weights.value)\n",
    "    return new_model"
   ]
  },
  {
   "cell_type": "markdown",
   "id": "da9e3b35-2809-4e53-bece-dca126a47e08",
   "metadata": {},
   "source": [
    "#### 4.10.5.3 Définition du processus de chargement des images <br/> et application de leur featurisation à travers l'utilisation de pandas UDF"
   ]
  },
  {
   "cell_type": "code",
   "execution_count": 15,
   "id": "de45f71f-3174-410e-8317-ad7902ee4413",
   "metadata": {
    "scrolled": true
   },
   "outputs": [
    {
     "data": {
      "application/vnd.jupyter.widget-view+json": {
       "model_id": "",
       "version_major": 2,
       "version_minor": 0
      },
      "text/plain": [
       "FloatProgress(value=0.0, bar_style='info', description='Progress:', layout=Layout(height='25px', width='50%'),…"
      ]
     },
     "metadata": {},
     "output_type": "display_data"
    },
    {
     "name": "stdout",
     "output_type": "stream",
     "text": [
      "/mnt1/yarn/usercache/livy/appcache/application_1713722877457_0003/container_1713722877457_0003_01_000001/pyspark.zip/pyspark/sql/pandas/functions.py:407: UserWarning: In Python 3.6+ and Spark 3.0+, it is preferred to specify type hints for pandas UDF instead of specifying pandas UDF type which will be deprecated in the future releases. See SPARK-28264 for more details."
     ]
    }
   ],
   "source": [
    "def preprocess(content):\n",
    "    \"\"\"\n",
    "    Preprocesses raw image bytes for prediction.\n",
    "    \"\"\"\n",
    "    img = Image.open(io.BytesIO(content)).resize([224, 224])\n",
    "    arr = img_to_array(img)\n",
    "    return preprocess_input(arr)\n",
    "\n",
    "\n",
    "def featurize_series(model, content_series):\n",
    "    \"\"\"\n",
    "    Featurize a pd.Series of raw images using the input model.\n",
    "    :return: a pd.Series of image features\n",
    "    \"\"\"\n",
    "    input = np.stack(content_series.map(preprocess))\n",
    "    preds = model.predict(input)\n",
    "    # For some layers, output features will be multi-dimensional tensors.\n",
    "    # We flatten the feature tensors to vectors for easier storage in Spark DataFrames.\n",
    "    output = [p.flatten() for p in preds]\n",
    "    return pd.Series(output)\n",
    "\n",
    "\n",
    "@pandas_udf(\"array<float>\", PandasUDFType.SCALAR_ITER)\n",
    "def featurize_udf(content_series_iter):\n",
    "    \"\"\"\n",
    "    This method is a Scalar Iterator pandas UDF wrapping our featurization function.\n",
    "    The decorator specifies that this returns a Spark DataFrame column of type ArrayType(FloatType).\n",
    "\n",
    "    :param content_series_iter: This argument is an iterator over batches of data, where each batch\n",
    "                              is a pandas Series of image data.\n",
    "    \"\"\"\n",
    "    # With Scalar Iterator pandas UDFs, we can load the model once and then re-use it\n",
    "    # for multiple data batches.  This amortizes the overhead of loading big models.\n",
    "    model = model_fn()\n",
    "    for content_series in content_series_iter:\n",
    "        yield featurize_series(model, content_series)"
   ]
  },
  {
   "cell_type": "markdown",
   "id": "22056a88-2949-4fe0-9d4b-a0c6ffc7cc56",
   "metadata": {},
   "source": [
    "#### 4.10.5.4 Exécutions des actions d'extractions de features"
   ]
  },
  {
   "cell_type": "code",
   "execution_count": 16,
   "id": "b765b4ee-0671-4b40-9ab1-f7c013f4ae03",
   "metadata": {},
   "outputs": [
    {
     "data": {
      "application/vnd.jupyter.widget-view+json": {
       "model_id": "",
       "version_major": 2,
       "version_minor": 0
      },
      "text/plain": [
       "FloatProgress(value=0.0, bar_style='info', description='Progress:', layout=Layout(height='25px', width='50%'),…"
      ]
     },
     "metadata": {},
     "output_type": "display_data"
    }
   ],
   "source": [
    "# spark.conf.set(\"spark.sql.execution.arrow.maxRecordsPerBatch\", \"1024\")"
   ]
  },
  {
   "cell_type": "code",
   "execution_count": 17,
   "id": "aa844cc2",
   "metadata": {},
   "outputs": [
    {
     "data": {
      "application/vnd.jupyter.widget-view+json": {
       "model_id": "",
       "version_major": 2,
       "version_minor": 0
      },
      "text/plain": [
       "FloatProgress(value=0.0, bar_style='info', description='Progress:', layout=Layout(height='25px', width='50%'),…"
      ]
     },
     "metadata": {},
     "output_type": "display_data"
    }
   ],
   "source": [
    "images.show()"
   ]
  },
  {
   "cell_type": "code",
   "execution_count": 39,
   "id": "d6306056-0540-4960-9390-c7656226c06f",
   "metadata": {},
   "outputs": [
    {
     "data": {
      "application/vnd.jupyter.widget-view+json": {
       "model_id": "",
       "version_major": 2,
       "version_minor": 0
      },
      "text/plain": [
       "FloatProgress(value=0.0, bar_style='info', description='Progress:', layout=Layout(height='25px', width='50%'),…"
      ]
     },
     "metadata": {},
     "output_type": "display_data"
    }
   ],
   "source": [
    "# partition the images DataFrame to 4 partitions\n",
    "# apply the UDF to the images DataFrame\n",
    "features_df = images.repartition(4).select(\n",
    "    col(\"path\"), col(\"label\"), featurize_udf(\"content\").alias(\"features\")\n",
    ")"
   ]
  },
  {
   "cell_type": "code",
   "execution_count": 31,
   "id": "18160103",
   "metadata": {},
   "outputs": [
    {
     "data": {
      "application/vnd.jupyter.widget-view+json": {
       "model_id": "",
       "version_major": 2,
       "version_minor": 0
      },
      "text/plain": [
       "FloatProgress(value=0.0, bar_style='info', description='Progress:', layout=Layout(height='25px', width='50%'),…"
      ]
     },
     "metadata": {},
     "output_type": "display_data"
    },
    {
     "name": "stdout",
     "output_type": "stream",
     "text": [
      "<class 'pyspark.sql.dataframe.DataFrame'>"
     ]
    }
   ],
   "source": [
    "type(features_df)"
   ]
  },
  {
   "cell_type": "code",
   "execution_count": 19,
   "id": "15a56ccc-0772-4c26-a887-cc3bf39c5704",
   "metadata": {},
   "outputs": [
    {
     "data": {
      "application/vnd.jupyter.widget-view+json": {
       "model_id": "",
       "version_major": 2,
       "version_minor": 0
      },
      "text/plain": [
       "FloatProgress(value=0.0, bar_style='info', description='Progress:', layout=Layout(height='25px', width='50%'),…"
      ]
     },
     "metadata": {},
     "output_type": "display_data"
    },
    {
     "name": "stdout",
     "output_type": "stream",
     "text": [
      "s3://carl-p8-v2/Results"
     ]
    }
   ],
   "source": [
    "print(PATH_Result)"
   ]
  },
  {
   "cell_type": "code",
   "execution_count": 20,
   "id": "203f7735-a7bc-475f-b807-65c893a6ce67",
   "metadata": {},
   "outputs": [
    {
     "data": {
      "application/vnd.jupyter.widget-view+json": {
       "model_id": "",
       "version_major": 2,
       "version_minor": 0
      },
      "text/plain": [
       "FloatProgress(value=0.0, bar_style='info', description='Progress:', layout=Layout(height='25px', width='50%'),…"
      ]
     },
     "metadata": {},
     "output_type": "display_data"
    }
   ],
   "source": [
    "# save the result to parquet\n",
    "features_df.write.mode(\"overwrite\").parquet(PATH_Result)"
   ]
  },
  {
   "cell_type": "code",
   "execution_count": 24,
   "id": "d584ac51",
   "metadata": {},
   "outputs": [
    {
     "data": {
      "application/vnd.jupyter.widget-view+json": {
       "model_id": "",
       "version_major": 2,
       "version_minor": 0
      },
      "text/plain": [
       "FloatProgress(value=0.0, bar_style='info', description='Progress:', layout=Layout(height='25px', width='50%'),…"
      ]
     },
     "metadata": {},
     "output_type": "display_data"
    },
    {
     "name": "stdout",
     "output_type": "stream",
     "text": [
      "Row(path='s3://carl-p8-v2/sample_test/Cantaloupe 1/r_124_100.jpg', label='Cantaloupe 1', features=[0.01395356934517622, 0.0, 0.0, 0.0, 0.0, 0.5506893992424011, 0.11148536205291748, 0.0, 0.0813228189945221, 0.0, 0.0, 0.028242111206054688, 0.0, 0.0, 0.027744263410568237, 2.2419822216033936, 0.0, 0.026646282523870468, 0.03873852267861366, 0.0, 0.0, 0.0, 0.0, 0.0, 0.0, 0.0, 0.0, 0.0, 0.007424850948154926, 0.3810492157936096, 0.22255054116249084, 0.0, 0.0, 0.0, 0.0, 0.0, 0.5949232578277588, 0.9085151553153992, 3.4851419925689697, 0.0, 0.0, 0.0, 0.0, 0.0, 0.05613243207335472, 0.0, 0.36973631381988525, 1.578869104385376, 0.09867190569639206, 0.0, 0.004996591713279486, 0.7225787043571472, 0.0, 0.0, 0.0, 1.180759072303772, 0.15176866948604584, 0.0, 0.0, 0.0, 0.0, 0.06988798081874847, 0.0006442167214117944, 0.0, 0.22822539508342743, 0.023661185055971146, 0.0015062701422721148, 0.0026557494420558214, 0.0, 0.7860575318336487, 0.0, 0.0, 0.0, 0.0022411346435546875, 1.2454360723495483, 0.0, 0.0, 0.0, 0.0, 0.0, 0.0, 0.2585980296134949, 0.0, 0.0, 0.0, 0.02045414410531521, 0.0, 0.0, 0.0, 1.5037667751312256, 0.1299750804901123, 0.013633542694151402, 0.0, 0.0, 0.08158430457115173, 0.0, 0.0, 0.0, 0.0, 0.0, 0.6053484678268433, 0.002605769084766507, 0.0, 0.0, 0.0, 0.0, 0.6059222221374512, 1.0926319360733032, 0.0, 0.0, 0.0, 0.0, 0.0, 1.4722723960876465, 0.0, 0.0, 0.3475792407989502, 0.0, 0.008471401408314705, 0.6556505560874939, 0.27224263548851013, 0.05196727067232132, 0.0, 1.3121023178100586, 0.0, 0.06004594266414642, 1.2652734518051147, 0.7881780862808228, 0.3767167031764984, 0.006958689074963331, 0.0, 2.2865750789642334, 0.0, 0.0, 0.8464691638946533, 0.0, 0.0, 0.0, 0.6660046577453613, 0.004607570357620716, 0.5948240160942078, 0.0, 0.0, 0.025083055719733238, 0.0, 0.0, 0.0, 0.1169489175081253, 0.04116492345929146, 1.4459996223449707, 0.0, 0.0, 0.0, 0.0, 0.0, 0.05646522715687752, 0.0, 0.0, 0.0, 0.0, 0.0, 0.2258003056049347, 0.0, 0.46541813015937805, 0.38471755385398865, 1.1655964851379395, 0.0, 0.008140778169035912, 0.06042512506246567, 0.06929417699575424, 0.620049238204956, 0.0, 0.0, 0.0, 0.0, 0.29063600301742554, 0.3276485204696655, 0.23174583911895752, 0.01376050803810358, 0.0, 0.0, 0.04632483795285225, 0.7381589412689209, 0.0, 1.7784489393234253, 0.7553609013557434, 0.0, 0.42963460087776184, 0.0, 0.0, 0.0, 0.0006450925720855594, 0.0, 0.0, 0.0, 0.0, 0.0, 0.0, 0.0, 2.177210807800293, 0.0, 0.0, 0.0, 2.422374725341797, 0.8695752024650574, 0.6248380541801453, 0.0, 0.0, 0.022535255178809166, 0.0, 0.0, 0.0, 0.0, 0.0, 0.0, 0.6061974167823792, 0.643680989742279, 0.0, 0.0, 0.0, 0.5734356045722961, 0.0, 0.10683126002550125, 0.5177790522575378, 0.0, 0.0, 0.5212618112564087, 0.3089621067047119, 0.9281255006790161, 0.0, 0.0, 0.18892060220241547, 0.0, 0.0, 0.0, 0.05020032450556755, 0.005748836323618889, 0.0, 0.005970400292426348, 1.167105793952942, 0.052186284214258194, 0.0, 0.0, 0.0, 1.2603470087051392, 0.08697909116744995, 1.2847113609313965, 0.047440432012081146, 0.0, 1.9167215824127197, 0.0027518272399902344, 0.0, 0.0, 0.0, 0.11197277158498764, 0.2640603184700012, 2.143479585647583, 0.6830953359603882, 0.0, 0.0, 0.0, 4.432636737823486, 0.011085772886872292, 0.0, 0.017542283982038498, 0.0, 0.0, 0.4766232967376709, 0.08996137976646423, 0.2594866156578064, 0.6945680975914001, 0.0, 0.15583620965480804, 0.020835312083363533, 0.18156708776950836, 0.005899302661418915, 0.0, 0.028948578983545303, 0.027853557839989662, 0.0, 0.07837683707475662, 0.0, 1.070749282836914, 0.02183348871767521, 0.029369840398430824, 0.4341140687465668, 0.0, 0.0, 0.0, 0.0, 0.0, 0.3812507688999176, 0.0, 0.0, 0.0, 0.44764959812164307, 0.0, 0.0, 0.0, 0.0, 0.772783100605011, 0.0, 0.0, 0.0, 0.113050676882267, 0.07535043358802795, 0.0, 0.0, 0.4633541405200958, 0.0, 1.2701563835144043, 0.7061293721199036, 0.0, 0.0, 0.10360569506883621, 0.0, 0.009820091538131237, 0.0, 0.0, 0.19956141710281372, 0.8797821998596191, 0.0313909687101841, 0.5645120739936829, 0.04235203564167023, 0.0, 0.0052795507945120335, 0.0, 0.0, 0.0, 0.006087468471378088, 0.0, 0.0, 0.024813681840896606, 0.6933276653289795, 0.0, 0.0, 0.3086368441581726, 0.0, 0.0, 0.0, 0.0, 0.0, 0.0, 0.0, 0.04031258076429367, 3.1890759468078613, 0.0, 0.0, 0.0026772168930619955, 0.0, 0.0, 0.0305319894105196, 0.03459395095705986, 1.6680750846862793, 0.0, 0.0, 0.0, 0.0, 0.0, 0.0, 0.0, 0.018215052783489227, 0.0, 0.19549986720085144, 0.16027724742889404, 1.6688307523727417, 0.45558279752731323, 0.0, 0.0, 0.0, 0.0, 0.0, 0.010656249709427357, 0.0, 2.5164735317230225, 0.0, 0.0, 0.06327307969331741, 0.0, 0.20376791059970856, 0.0, 0.0, 0.01413994375616312, 0.0, 0.0, 0.0, 0.3371613025665283, 0.0, 0.07150860875844955, 0.12819206714630127, 0.49780046939849854, 0.0, 0.0, 0.0, 0.0, 0.0, 0.1313895732164383, 0.0, 0.0, 0.0, 0.011308942921459675, 0.6307784914970398, 0.0, 0.0, 0.30582526326179504, 1.1070539951324463, 0.15043692290782928, 0.0004945190739817917, 0.0, 0.0, 0.0, 3.5785672664642334, 0.0842863917350769, 0.0, 0.0, 0.0, 0.0, 1.9163637161254883, 0.0, 0.3372570872306824, 0.04221688583493233, 0.6809899210929871, 0.0, 0.0, 0.0, 0.10196860879659653, 0.6402953267097473, 0.007567648775875568, 0.0, 0.0, 0.0, 0.023895924910902977, 0.0, 0.0, 0.11972945928573608, 0.0, 0.0, 0.0, 0.0, 0.0, 0.0, 0.0, 0.3987133502960205, 0.6795896291732788, 0.23994135856628418, 0.28998464345932007, 0.10317979753017426, 0.056904520839452744, 0.025399548932909966, 0.0, 0.0, 0.0210541021078825, 0.0, 0.11122292280197144, 0.027169082313776016, 0.6071628928184509, 0.0, 0.0, 0.20269140601158142, 0.0, 0.43550851941108704, 0.0, 0.0, 0.12288707494735718, 0.005898339208215475, 0.0, 0.31745031476020813, 0.0, 0.18330714106559753, 0.0, 0.0, 0.0, 0.0, 0.0486324168741703, 0.12064556032419205, 0.0, 0.020641423761844635, 0.0, 0.0, 0.12342519313097, 0.0, 0.0, 0.0, 0.00630542216822505, 1.4270601272583008, 2.2101330757141113, 1.9525407552719116, 0.0, 0.0, 0.014491918496787548, 0.0007331711822189391, 0.0, 0.0, 0.42904239892959595, 1.1469371318817139, 0.2303185760974884, 1.0463796854019165, 1.217992901802063, 0.0, 0.0, 0.950534999370575, 1.2151193618774414, 0.0, 0.05557649955153465, 0.09838887304067612, 0.0, 0.0, 0.0, 0.0, 0.0, 0.0, 0.01575102098286152, 0.0, 1.6732655763626099, 0.0, 1.893716812133789, 0.0, 0.0, 0.47336262464523315, 0.0, 0.030636826530098915, 0.18370044231414795, 0.0, 0.31882405281066895, 0.0, 0.0, 0.0, 0.0, 1.4455500841140747, 0.0, 1.3800474405288696, 2.6284780502319336, 0.0, 0.004518771544098854, 0.16103044152259827, 0.20319697260856628, 0.0, 0.0, 0.0, 0.0, 0.0, 0.023257022723555565, 1.2512320280075073, 0.0, 0.0, 0.14161789417266846, 0.0, 0.5357070565223694, 0.15933749079704285, 3.369614362716675, 0.0, 0.0, 0.05780334770679474, 1.380929946899414, 0.0, 0.0, 0.0, 0.0, 0.17630475759506226, 1.162627100944519, 0.0017952724592760205, 0.0, 0.18998923897743225, 0.0, 0.0, 0.0, 0.4830330014228821, 0.0, 0.0, 0.0, 0.0, 0.0, 0.0, 0.0, 0.0, 0.0, 0.0, 0.0, 0.0, 0.0, 0.0, 0.0, 0.0, 0.0, 0.0, 0.050419680774211884, 0.7593299150466919, 0.0, 0.24624139070510864, 0.0, 0.0, 0.014475802890956402, 0.0, 1.897670865058899, 0.050828076899051666, 0.009156986139714718, 0.004241047892719507, 0.10937318205833435, 0.006874755956232548, 0.0, 0.0, 0.05351771041750908, 0.09432496875524521, 0.0, 0.0, 0.0, 0.0, 0.0, 0.0, 0.0, 0.8559489250183105, 0.0046996776945889, 0.20698462426662445, 0.0, 0.0, 0.0, 0.0, 0.10072415322065353, 0.0, 0.0, 0.061172328889369965, 0.0, 0.8302647471427917, 0.09687384963035583, 0.0, 0.0, 0.05706169083714485, 0.0, 0.0, 0.0, 0.09885035455226898, 0.014182304963469505, 0.080756276845932, 0.0, 0.0, 0.0, 0.0, 2.04472279548645, 0.024890266358852386, 3.090510368347168, 0.9821606874465942, 0.03991995006799698, 0.04541036859154701, 0.0, 0.4228532612323761, 0.576752781867981, 0.0, 0.0, 0.0, 0.0, 0.0, 0.0, 0.0, 0.0, 0.6004828810691833, 0.0, 1.3167275190353394, 0.0, 0.0, 0.14527150988578796, 0.2875739336013794, 0.0, 0.003833897178992629, 0.0, 0.0, 0.0, 0.0, 0.0, 0.0, 0.0, 0.47255757451057434, 1.2287276983261108, 0.8892436027526855, 0.0, 0.14756380021572113, 2.1928515434265137, 0.0, 0.5192110538482666, 0.38889098167419434, 0.0, 1.581412434577942, 0.0, 0.0, 0.011992201209068298, 0.0, 0.20752809941768646, 2.4759299755096436, 0.06754250079393387, 0.0, 1.963767170906067, 0.02391699329018593, 0.0, 0.0, 0.0, 0.006938914768397808, 0.32659903168678284, 0.0, 0.0, 0.18031375110149384, 0.0, 0.0, 0.0, 0.014849157072603703, 0.0, 0.0, 0.0, 0.0, 0.0, 0.34322628378868103, 0.0, 0.0, 0.029200535267591476, 0.23339329659938812, 0.0, 0.059702202677726746, 0.0, 1.6293811798095703, 0.06484302133321762, 0.0, 0.8728398084640503, 0.0, 0.1448526680469513, 0.04439710080623627, 0.0, 0.0, 0.0, 0.0, 0.0, 0.0, 0.014816819690167904, 0.0, 0.0016792063834145665, 0.6348456740379333, 0.0, 0.0, 2.085543155670166, 0.0, 0.0, 0.0, 0.0, 0.006848461925983429, 0.6565493941307068, 0.15236257016658783, 0.7898638248443604, 0.15428535640239716, 0.0031509108375757933, 0.086285300552845, 0.05564370006322861, 0.0, 0.0, 0.0, 0.0, 0.15280970931053162, 0.7954630255699158, 0.09766394644975662, 0.0, 0.4901168942451477, 0.0, 0.0, 0.0, 0.0, 0.04715421423316002, 0.0, 0.0, 0.0, 0.0, 0.031350914388895035, 0.1330878883600235, 0.0, 0.0, 1.2577966451644897, 0.0033400009851902723, 0.0, 0.0, 0.0, 0.2724754214286804, 0.008661104366183281, 0.0, 0.04448411986231804, 0.1320570409297943, 0.014338064938783646, 0.1667092740535736, 0.0, 0.014989648945629597, 0.0, 0.0, 0.0, 0.0, 0.0, 0.015411230735480785, 0.0, 0.2934929430484772, 0.0, 0.0, 0.0, 0.08725204318761826, 0.0, 0.01658822037279606, 0.0, 0.11094357073307037, 0.21339474618434906, 0.0, 0.0, 0.0, 0.08432918787002563, 0.0, 2.1830761432647705, 0.0, 0.09819859266281128, 0.0, 0.0, 0.9975549578666687, 0.0, 0.0, 0.17023557424545288, 0.1254139244556427, 0.03351273015141487, 0.0, 0.0, 1.2245932817459106, 0.1374538242816925, 0.0, 0.0, 0.20667147636413574, 0.059136807918548584, 0.0, 0.0, 1.5885992050170898, 0.0, 0.06693705916404724, 0.0, 0.005558938253670931, 0.0, 0.0, 0.0, 0.23344086110591888, 0.13689953088760376, 0.45097339153289795, 0.48898783326148987, 0.1425640732049942, 0.0, 0.8103599548339844, 0.2737772464752197, 0.0, 0.476571261882782, 0.23955416679382324, 0.0, 0.4202716648578644, 0.0, 0.0, 0.0011945063015446067, 1.6983897686004639, 0.03891640156507492, 1.6966460943222046, 0.2396031767129898, 0.0, 0.0025019936729222536, 0.0, 0.013213381171226501, 0.0, 1.2379074096679688, 0.442910760641098, 0.1828237771987915, 0.019798988476395607, 0.0, 0.0, 0.0, 0.0, 0.042378980666399, 0.0, 0.021591711789369583, 0.0, 0.14165079593658447, 0.022581635043025017, 0.968012273311615, 0.0, 0.0, 1.3784196376800537, 0.09051162004470825, 0.0, 0.0, 0.00044707863708026707, 0.0, 0.16764698922634125, 0.0, 1.4862645864486694, 0.6134940385818481, 0.019279995933175087, 1.001700520515442, 0.0, 0.132412388920784, 0.0, 0.0, 0.12461535632610321, 0.0, 0.0, 0.010190233588218689, 0.0, 0.10316319018602371, 0.23732540011405945, 0.0, 0.0, 0.0, 0.0, 0.09570509940385818, 0.0, 0.0, 0.0, 0.0, 0.30500712990760803, 0.0, 0.0, 0.0, 0.6065249443054199, 0.0, 0.0, 0.0, 0.2754439115524292, 0.6972811818122864, 0.0, 0.0, 0.03758098557591438, 0.15419651567935944, 0.0, 0.127883642911911, 0.0, 0.5328046083450317, 0.5261417627334595, 0.0, 0.0, 0.0, 0.022002726793289185, 0.0, 0.03131931647658348, 0.0, 0.0002041154948528856, 2.1561450958251953, 0.0, 0.0, 0.020071301609277725, 0.0, 0.0, 0.0, 1.5108273029327393, 0.0, 0.37605831027030945, 0.7773497700691223, 0.0, 0.0, 0.0, 0.0, 0.0, 0.0, 0.0, 0.0, 0.0, 0.0, 0.0, 0.0, 0.042450301349163055, 0.014184163883328438, 0.006758757866919041, 0.027764787897467613, 0.0, 0.09508717060089111, 0.0, 0.0, 0.0, 0.0, 0.0, 0.06270100176334381, 0.3841795325279236, 0.0, 3.2596113681793213, 0.05749870836734772, 0.0, 0.0, 0.0, 0.0, 0.0, 0.7519987225532532, 0.05883125215768814, 0.018766334280371666, 0.0, 0.0, 0.0, 0.0, 0.0, 0.0, 0.0, 0.013257114216685295, 0.15218377113342285, 0.0, 0.0, 1.2648706436157227, 0.0, 0.0, 0.0, 0.0, 0.6044044494628906, 0.0, 0.0, 0.0, 0.0, 0.0, 0.0925387442111969, 0.0, 0.0, 0.0, 0.02187441848218441, 0.0, 0.0, 0.0, 0.0, 0.0, 0.0, 0.1485680341720581, 0.016906067728996277, 0.0, 0.0, 0.9886787533760071, 0.8679710030555725, 0.7616658806800842, 0.0, 0.02387993596494198, 0.0, 0.0, 0.052214156836271286, 0.0, 0.0, 0.020153727382421494, 0.0, 0.734429657459259, 0.2086842954158783, 0.21054323017597198, 0.0, 0.0, 0.0, 0.01595166325569153, 0.11120643466711044, 0.0, 0.28125154972076416, 0.0, 0.07208443433046341, 0.0, 0.012759179808199406, 0.0, 0.0, 0.03166496381163597, 0.0, 0.0, 0.0, 0.03435412049293518, 0.0, 0.5918174386024475, 0.0, 0.003829041263088584, 0.3656099736690521, 0.0, 0.0, 0.30263909697532654, 0.05404895544052124, 0.0, 0.0, 0.0, 0.0, 0.0, 0.0, 0.16562621295452118, 0.0, 0.0, 0.0, 0.0, 0.8069445490837097, 0.0, 0.0, 0.0, 0.07894748449325562, 0.17984390258789062, 0.0, 0.0, 0.012911884114146233, 0.0, 0.0, 0.5122774243354797, 0.0, 0.0, 0.0, 0.09239308536052704, 0.33694013953208923, 0.0, 0.0, 0.021246209740638733, 0.0, 0.0, 0.0, 0.01781962811946869, 0.0, 0.13095609843730927, 0.1122179701924324, 0.0, 0.0, 0.0, 0.0, 0.10895345360040665, 0.0, 0.9390079975128174, 0.0, 0.0, 0.0, 0.06244143843650818, 0.008015087805688381, 0.12419912964105606, 0.0, 0.0015561337349936366, 0.007527565583586693, 0.0, 0.32546842098236084, 0.0, 0.0, 0.022596018388867378, 0.0, 0.018268074840307236, 0.0, 0.043152838945388794, 0.0, 0.011372001841664314, 2.1567869186401367, 0.0, 0.0, 0.0, 0.739472508430481, 0.0034103880170732737, 0.0, 2.749906063079834, 0.07329750806093216, 0.0, 0.0, 0.0, 0.0, 0.012719543650746346, 0.0, 0.0, 0.0, 0.016548721119761467, 0.03584835305809975, 0.0, 0.0, 0.0, 0.0, 1.9946049451828003, 0.012009688653051853, 2.129870653152466, 0.03573160618543625, 0.05847242847084999, 0.1599375605583191, 1.0255935192108154, 0.2814481258392334, 0.6201127767562866, 0.0, 2.0153298377990723, 1.5066213607788086, 0.0, 0.007310380693525076, 0.00020752147247549146, 0.08323246240615845, 0.0, 0.10470453649759293, 0.0, 0.04475965350866318, 0.0, 0.0, 0.00466005178168416, 0.0, 0.0, 0.27070391178131104, 0.0, 0.0, 0.0, 0.0, 0.0, 1.5231703519821167, 0.006234383210539818, 0.0, 0.2026207149028778, 0.0, 0.11326377093791962, 0.3709259033203125, 0.0, 0.0, 0.0, 0.05245998129248619, 0.0022435870487242937, 0.0, 0.17901548743247986, 0.04511762037873268, 0.0, 0.0, 0.0, 0.21632741391658783, 0.0, 0.2006850391626358, 0.0, 0.8162798285484314, 1.1661423444747925, 0.0, 0.0, 0.0, 0.155176043510437, 0.0, 0.00399829912930727, 0.2787516713142395, 0.0, 0.024775788187980652, 0.008652988821268082, 0.0, 0.3420741558074951, 0.0, 0.6398964524269104, 0.0, 0.16437670588493347, 1.2162226438522339, 1.1017937660217285, 0.12765228748321533, 0.0010502581717446446, 0.8980544805526733, 0.0, 0.0, 0.0, 0.03156701847910881, 0.6754829287528992, 0.0, 0.4075426757335663, 0.04005592688918114, 0.1442253589630127, 0.5365448594093323, 0.0, 0.0, 0.0, 0.03391372039914131, 0.0, 0.0, 0.0, 0.0, 0.0, 0.0882287546992302, 0.17914515733718872, 0.9155569076538086, 0.0, 0.0, 0.04018811881542206, 0.0, 0.25217580795288086, 0.013342536054551601, 0.03951679915189743, 0.1674097776412964, 0.0, 0.0, 0.0, 1.0551238059997559, 0.0, 0.934666633605957, 0.0, 0.026105521246790886, 0.0, 0.0, 0.0, 0.15195511281490326, 0.0, 1.596477746963501, 0.0, 0.0, 0.03762096166610718, 0.1939735859632492, 0.0, 0.0, 0.0, 0.0, 0.8191807866096497, 0.0])"
     ]
    }
   ],
   "source": [
    "# features_df.head()"
   ]
  },
  {
   "cell_type": "markdown",
   "id": "dbf7a580-58f6-4d42-a47e-d45d4dd2ea05",
   "metadata": {},
   "source": [
    "### 4.10.6 Chargement des données enregistrées et validation du résultat"
   ]
  },
  {
   "cell_type": "code",
   "execution_count": 25,
   "id": "6befde14-eb13-49ff-837a-f30ca0c66dc8",
   "metadata": {},
   "outputs": [
    {
     "data": {
      "application/vnd.jupyter.widget-view+json": {
       "model_id": "",
       "version_major": 2,
       "version_minor": 0
      },
      "text/plain": [
       "FloatProgress(value=0.0, bar_style='info', description='Progress:', layout=Layout(height='25px', width='50%'),…"
      ]
     },
     "metadata": {},
     "output_type": "display_data"
    }
   ],
   "source": [
    "# read the result back\n",
    "df = pd.read_parquet(PATH_Result, engine=\"pyarrow\")"
   ]
  },
  {
   "cell_type": "code",
   "execution_count": 36,
   "id": "342a7486-a768-4ccc-852e-c26da6ff289b",
   "metadata": {},
   "outputs": [
    {
     "data": {
      "application/vnd.jupyter.widget-view+json": {
       "model_id": "",
       "version_major": 2,
       "version_minor": 0
      },
      "text/plain": [
       "FloatProgress(value=0.0, bar_style='info', description='Progress:', layout=Layout(height='25px', width='50%'),…"
      ]
     },
     "metadata": {},
     "output_type": "display_data"
    },
    {
     "name": "stdout",
     "output_type": "stream",
     "text": [
      "                                                path  ...                                           features\n",
      "0  s3://carl-p8-v2/sample_test/Strawberry/327_100...  ...  [1.4755306, 0.0, 0.0, 0.0, 0.0, 0.3159332, 1.7...\n",
      "1  s3://carl-p8-v2/sample_test/Apple Braeburn/r_9...  ...  [0.0, 0.006487224, 0.0, 0.0, 0.0, 0.5786728, 0...\n",
      "2  s3://carl-p8-v2/sample_test/Apple Braeburn/r_4...  ...  [0.70797396, 0.051301703, 0.0, 0.0, 0.0, 0.447...\n",
      "3  s3://carl-p8-v2/sample_test/Apple Braeburn/r_9...  ...  [0.9978231, 0.037637126, 0.0, 0.0, 0.0, 1.2061...\n",
      "4  s3://carl-p8-v2/sample_test/Apple Braeburn/r_8...  ...  [1.4039954, 0.19252859, 0.0, 0.0, 0.03644992, ...\n",
      "\n",
      "[5 rows x 3 columns]"
     ]
    }
   ],
   "source": [
    "df.head()"
   ]
  },
  {
   "cell_type": "code",
   "execution_count": 37,
   "id": "4bc01d83-f344-4c78-ad1b-ab6e8641eb70",
   "metadata": {},
   "outputs": [
    {
     "data": {
      "application/vnd.jupyter.widget-view+json": {
       "model_id": "",
       "version_major": 2,
       "version_minor": 0
      },
      "text/plain": [
       "FloatProgress(value=0.0, bar_style='info', description='Progress:', layout=Layout(height='25px', width='50%'),…"
      ]
     },
     "metadata": {},
     "output_type": "display_data"
    },
    {
     "name": "stdout",
     "output_type": "stream",
     "text": [
      "(1280,)"
     ]
    }
   ],
   "source": [
    "df.loc[0, \"features\"].shape"
   ]
  },
  {
   "cell_type": "code",
   "execution_count": 38,
   "id": "172a71d5-8b90-40f3-bbfc-8684b42ae33c",
   "metadata": {},
   "outputs": [
    {
     "data": {
      "application/vnd.jupyter.widget-view+json": {
       "model_id": "",
       "version_major": 2,
       "version_minor": 0
      },
      "text/plain": [
       "FloatProgress(value=0.0, bar_style='info', description='Progress:', layout=Layout(height='25px', width='50%'),…"
      ]
     },
     "metadata": {},
     "output_type": "display_data"
    },
    {
     "name": "stdout",
     "output_type": "stream",
     "text": [
      "(494, 3)"
     ]
    }
   ],
   "source": [
    "df.shape"
   ]
  },
  {
   "cell_type": "markdown",
   "id": "5a86bce8",
   "metadata": {},
   "source": [
    "# 5. PCA"
   ]
  },
  {
   "cell_type": "code",
   "execution_count": 40,
   "id": "9a3fe99d",
   "metadata": {},
   "outputs": [
    {
     "data": {
      "application/vnd.jupyter.widget-view+json": {
       "model_id": "",
       "version_major": 2,
       "version_minor": 0
      },
      "text/plain": [
       "FloatProgress(value=0.0, bar_style='info', description='Progress:', layout=Layout(height='25px', width='50%'),…"
      ]
     },
     "metadata": {},
     "output_type": "display_data"
    }
   ],
   "source": [
    "# First, convert the array of floats to a single vector column\n",
    "# assembler = VectorAssembler(inputCols=[\"features\"], outputCol=\"features_vector\")\n",
    "# features_df = assembler.transform(features_df)\n",
    "\n",
    "# Now, drop the original features columns and rename the new vector column\n",
    "# features_df = features_df.drop(*features_cols).withColumnRenamed(\"features_vector\", \"features\")"
   ]
  },
  {
   "cell_type": "code",
   "execution_count": 32,
   "id": "4d05fba5",
   "metadata": {},
   "outputs": [
    {
     "data": {
      "application/vnd.jupyter.widget-view+json": {
       "model_id": "",
       "version_major": 2,
       "version_minor": 0
      },
      "text/plain": [
       "FloatProgress(value=0.0, bar_style='info', description='Progress:', layout=Layout(height='25px', width='50%'),…"
      ]
     },
     "metadata": {},
     "output_type": "display_data"
    }
   ],
   "source": [
    "# from pyspark.ml.feature import VectorAssembler"
   ]
  },
  {
   "cell_type": "code",
   "execution_count": 41,
   "id": "5328c00b",
   "metadata": {},
   "outputs": [
    {
     "data": {
      "application/vnd.jupyter.widget-view+json": {
       "model_id": "",
       "version_major": 2,
       "version_minor": 0
      },
      "text/plain": [
       "FloatProgress(value=0.0, bar_style='info', description='Progress:', layout=Layout(height='25px', width='50%'),…"
      ]
     },
     "metadata": {},
     "output_type": "display_data"
    }
   ],
   "source": [
    "# VectorAssembler(inputCols=[\"features\"], outputCol=\"features_vector\")"
   ]
  },
  {
   "cell_type": "code",
   "execution_count": 42,
   "id": "39e2f096",
   "metadata": {},
   "outputs": [
    {
     "data": {
      "application/vnd.jupyter.widget-view+json": {
       "model_id": "",
       "version_major": 2,
       "version_minor": 0
      },
      "text/plain": [
       "FloatProgress(value=0.0, bar_style='info', description='Progress:', layout=Layout(height='25px', width='50%'),…"
      ]
     },
     "metadata": {},
     "output_type": "display_data"
    }
   ],
   "source": [
    "# \"features\" column created by featurize_udf is of type ArrayType\n",
    "# pyspark.mk needs a VectorUDT instead\n",
    "\n",
    "# Define UDF to convert ArrayType to VectorUDT\n",
    "array_to_vector_udf = udf(lambda vs: Vectors.dense(vs), VectorUDT())\n",
    "\n",
    "# Apply the UDF to the \"features\" column\n",
    "features_df = features_df.withColumn(\"features\", array_to_vector_udf(\"features\"))"
   ]
  },
  {
   "cell_type": "code",
   "execution_count": 43,
   "id": "f79d81b5",
   "metadata": {},
   "outputs": [
    {
     "data": {
      "application/vnd.jupyter.widget-view+json": {
       "model_id": "",
       "version_major": 2,
       "version_minor": 0
      },
      "text/plain": [
       "FloatProgress(value=0.0, bar_style='info', description='Progress:', layout=Layout(height='25px', width='50%'),…"
      ]
     },
     "metadata": {},
     "output_type": "display_data"
    }
   ],
   "source": [
    "# scale the data\n",
    "scaler = StandardScaler(\n",
    "    inputCol=\"features\", outputCol=\"scaledFeatures\", withStd=True, withMean=True\n",
    ")\n",
    "scalerModel = scaler.fit(features_df)\n",
    "scaledData = scalerModel.transform(features_df)"
   ]
  },
  {
   "cell_type": "code",
   "execution_count": 45,
   "id": "80b46d95",
   "metadata": {},
   "outputs": [
    {
     "data": {
      "application/vnd.jupyter.widget-view+json": {
       "model_id": "",
       "version_major": 2,
       "version_minor": 0
      },
      "text/plain": [
       "FloatProgress(value=0.0, bar_style='info', description='Progress:', layout=Layout(height='25px', width='50%'),…"
      ]
     },
     "metadata": {},
     "output_type": "display_data"
    }
   ],
   "source": [
    "# apply PCA\n",
    "N_PC = 100\n",
    "pca = PCA(k=N_PC, inputCol=\"scaledFeatures\", outputCol=\"pcaFeatures\")\n",
    "pcaModel = pca.fit(scaledData)\n",
    "pcaData = pcaModel.transform(scaledData).select(\"pcaFeatures\")"
   ]
  },
  {
   "cell_type": "code",
   "execution_count": 51,
   "id": "e9711b8e",
   "metadata": {},
   "outputs": [
    {
     "data": {
      "application/vnd.jupyter.widget-view+json": {
       "model_id": "",
       "version_major": 2,
       "version_minor": 0
      },
      "text/plain": [
       "FloatProgress(value=0.0, bar_style='info', description='Progress:', layout=Layout(height='25px', width='50%'),…"
      ]
     },
     "metadata": {},
     "output_type": "display_data"
    },
    {
     "name": "stdout",
     "output_type": "stream",
     "text": [
      "(494, 1)"
     ]
    }
   ],
   "source": [
    "# print((pcaData.count(), len(pcaData.columns)))"
   ]
  },
  {
   "cell_type": "code",
   "execution_count": null,
   "id": "5d95a8bf-ae33-489c-a5eb-05b8a546bec8",
   "metadata": {},
   "outputs": [],
   "source": [
    "expVariance = pcaModel.explainedVariance\n",
    "# print(expVariance)\n",
    "# pd.Series(v for v in expVariance).cumsum()\n",
    "\n",
    "# total explained Variance\n",
    "print(\n",
    "    f\"{N_PC} principal components explain {pd.Series(v for v in expVariance).sum()} % of the variance\"\n",
    ")"
   ]
  },
  {
   "cell_type": "code",
   "execution_count": 52,
   "id": "7a7d54e5",
   "metadata": {},
   "outputs": [
    {
     "data": {
      "application/vnd.jupyter.widget-view+json": {
       "model_id": "",
       "version_major": 2,
       "version_minor": 0
      },
      "text/plain": [
       "FloatProgress(value=0.0, bar_style='info', description='Progress:', layout=Layout(height='25px', width='50%'),…"
      ]
     },
     "metadata": {},
     "output_type": "display_data"
    },
    {
     "name": "stdout",
     "output_type": "stream",
     "text": [
      "Row(pcaFeatures=DenseVector([-11.2006, 12.2269]))"
     ]
    }
   ],
   "source": [
    "# pcaData.head()"
   ]
  },
  {
   "cell_type": "markdown",
   "id": "a3645c91-4bc5-428d-a80f-9aec2d995e6f",
   "metadata": {},
   "source": [
    "# 6. Save PCA results"
   ]
  },
  {
   "cell_type": "code",
   "execution_count": null,
   "id": "2d890a68",
   "metadata": {},
   "outputs": [],
   "source": [
    "# Define a function to split the list into multiple columns\n",
    "def split_list_to_columns(lst):\n",
    "    return tuple(lst)\n",
    "\n",
    "\n",
    "# Register the UDF\n",
    "split_list_udf = udf(split_list_to_columns, ArrayType(IntegerType()))\n",
    "\n",
    "# Apply the UDF to the DataFrame column containing the list\n",
    "pca_split = pcaData.withColumn(\"pcaFeatures\", split_list_udf(\"col\"))\n",
    "\n",
    "# Select the split columns\n",
    "pca_split = pca_split.select(\n",
    "    *[col(\"pcaFeatures\").getItem(i).alias(f\"col{i+1}\") for i in range(N_PC)]\n",
    ")\n",
    "\n",
    "# Show the DataFrame with split columns\n",
    "pca_split.show()"
   ]
  },
  {
   "cell_type": "code",
   "execution_count": null,
   "id": "8670e4f5-4cf0-4d98-bf7d-1e85d67870e8",
   "metadata": {},
   "outputs": [],
   "source": [
    "# concat pca features to image dataframe\n",
    "results_concat = images.join(pca_split)"
   ]
  },
  {
   "cell_type": "code",
   "execution_count": 46,
   "id": "36b21d43",
   "metadata": {},
   "outputs": [
    {
     "data": {
      "application/vnd.jupyter.widget-view+json": {
       "model_id": "",
       "version_major": 2,
       "version_minor": 0
      },
      "text/plain": [
       "FloatProgress(value=0.0, bar_style='info', description='Progress:', layout=Layout(height='25px', width='50%'),…"
      ]
     },
     "metadata": {},
     "output_type": "display_data"
    }
   ],
   "source": [
    "# save PCA result to csv\n",
    "results_concat.toPandas().to_csv(PATH_Result + \"/pcaFeatures_v2.csv\")"
   ]
  }
 ],
 "metadata": {
  "kernelspec": {
   "display_name": "Python 3 (ipykernel)",
   "language": "python",
   "name": "python3"
  },
  "language_info": {
   "codemirror_mode": {
    "name": "ipython",
    "version": 3
   },
   "file_extension": ".py",
   "mimetype": "text/x-python",
   "name": "python",
   "nbconvert_exporter": "python",
   "pygments_lexer": "ipython3",
   "version": "3.11.5"
  }
 },
 "nbformat": 4,
 "nbformat_minor": 5
}
