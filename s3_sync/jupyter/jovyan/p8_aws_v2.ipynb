{
 "cells": [
  {
   "cell_type": "markdown",
   "id": "eb772d3a-7925-494c-87ba-22b3e590a7f8",
   "metadata": {},
   "source": [
    "### 4.10.1 Démarrage de la session Spark"
   ]
  },
  {
   "cell_type": "code",
   "execution_count": 1,
   "id": "8b25a17a-7d48-40fb-8e60-2b2c6521d10f",
   "metadata": {},
   "outputs": [
    {
     "name": "stdout",
     "output_type": "stream",
     "text": [
      "Starting Spark application\n"
     ]
    },
    {
     "data": {
      "text/html": [
       "<table>\n",
       "<tr><th>ID</th><th>YARN Application ID</th><th>Kind</th><th>State</th><th>Spark UI</th><th>Driver log</th><th>User</th><th>Current session?</th></tr><tr><td>3</td><td>application_1713982757102_0004</td><td>pyspark</td><td>idle</td><td><a target=\"_blank\" href=\"http://ip-172-31-34-94.eu-north-1.compute.internal:20888/proxy/application_1713982757102_0004/\">Link</a></td><td><a target=\"_blank\" href=\"http://ip-172-31-35-223.eu-north-1.compute.internal:8042/node/containerlogs/container_1713982757102_0004_01_000001/livy\">Link</a></td><td>None</td><td>✔</td></tr></table>"
      ],
      "text/plain": [
       "<IPython.core.display.HTML object>"
      ]
     },
     "metadata": {},
     "output_type": "display_data"
    },
    {
     "data": {
      "application/vnd.jupyter.widget-view+json": {
       "model_id": "",
       "version_major": 2,
       "version_minor": 0
      },
      "text/plain": [
       "FloatProgress(value=0.0, bar_style='info', description='Progress:', layout=Layout(height='25px', width='50%'),…"
      ]
     },
     "metadata": {},
     "output_type": "display_data"
    },
    {
     "name": "stdout",
     "output_type": "stream",
     "text": [
      "SparkSession available as 'spark'.\n"
     ]
    },
    {
     "data": {
      "application/vnd.jupyter.widget-view+json": {
       "model_id": "",
       "version_major": 2,
       "version_minor": 0
      },
      "text/plain": [
       "FloatProgress(value=0.0, bar_style='info', description='Progress:', layout=Layout(height='25px', width='50%'),…"
      ]
     },
     "metadata": {},
     "output_type": "display_data"
    }
   ],
   "source": [
    "# L'exécution de cette cellule démarre l'application Spark"
   ]
  },
  {
   "cell_type": "markdown",
   "id": "98f16fb8-41ca-4b3c-9055-a2dd62d78e76",
   "metadata": {},
   "source": [
    "<u>Affichage des informations sur la session en cours et liens vers Spark UI</u> :"
   ]
  },
  {
   "cell_type": "code",
   "execution_count": 2,
   "id": "017b1a2d-583d-41b3-b24e-414d12c28478",
   "metadata": {},
   "outputs": [
    {
     "data": {
      "text/html": [
       "Current session configs: <tt>{'driverMemory': '1000M', 'executorCores': 2, 'proxyUser': 'jovyan', 'kind': 'pyspark'}</tt><br>"
      ],
      "text/plain": [
       "<IPython.core.display.HTML object>"
      ]
     },
     "metadata": {},
     "output_type": "display_data"
    },
    {
     "data": {
      "text/html": [
       "<table>\n",
       "<tr><th>ID</th><th>YARN Application ID</th><th>Kind</th><th>State</th><th>Spark UI</th><th>Driver log</th><th>User</th><th>Current session?</th></tr><tr><td>3</td><td>application_1713982757102_0004</td><td>pyspark</td><td>idle</td><td><a target=\"_blank\" href=\"http://ip-172-31-34-94.eu-north-1.compute.internal:20888/proxy/application_1713982757102_0004/\">Link</a></td><td><a target=\"_blank\" href=\"http://ip-172-31-35-223.eu-north-1.compute.internal:8042/node/containerlogs/container_1713982757102_0004_01_000001/livy\">Link</a></td><td>None</td><td>✔</td></tr></table>"
      ],
      "text/plain": [
       "<IPython.core.display.HTML object>"
      ]
     },
     "metadata": {},
     "output_type": "display_data"
    }
   ],
   "source": [
    "%%info"
   ]
  },
  {
   "cell_type": "markdown",
   "id": "13ff7245-e071-41d7-88be-22cef9f60d64",
   "metadata": {},
   "source": [
    "### 4.10.2 Installation des packages\n",
    "\n",
    "Les packages nécessaires ont été installé via l'étape de **bootstrap** à l'instanciation du serveur.\n",
    "```bash\n",
    "#!/bin/bash\n",
    "# install requirements on all cluster nodes, not only master\n",
    "# update pip to prevent pyarrow installation error\n",
    "sudo python3 -m pip install -U setuptools\n",
    "sudo python3 -m pip install -U pip\n",
    "sudo python3 -m pip install wheel\n",
    "sudo python3 -m pip install pillow\n",
    "# same version of tensorflow and keras to avoid module not found error\n",
    "sudo python3 -m pip install tensorflow==2.11.0\n",
    "sudo python3 -m pip install keras==2.11.0\n",
    "sudo python3 -m pip install pandas==1.2.5\n",
    "sudo python3 -m pip install pyarrow\n",
    "sudo python3 -m pip install boto3\n",
    "sudo python3 -m pip install s3fs\n",
    "sudo python3 -m pip install fsspec\n",
    "\n",
    "```\n",
    "\n",
    "### 4.10.3 Import des librairies"
   ]
  },
  {
   "cell_type": "code",
   "execution_count": 3,
   "id": "fbb2a9f3-05a9-40f8-9879-b24f30350846",
   "metadata": {},
   "outputs": [
    {
     "data": {
      "application/vnd.jupyter.widget-view+json": {
       "model_id": "",
       "version_major": 2,
       "version_minor": 0
      },
      "text/plain": [
       "FloatProgress(value=0.0, bar_style='info', description='Progress:', layout=Layout(height='25px', width='50%'),…"
      ]
     },
     "metadata": {},
     "output_type": "display_data"
    }
   ],
   "source": [
    "import io\n",
    "\n",
    "import numpy as np\n",
    "import pandas as pd\n",
    "from PIL import Image\n",
    "from pyspark.ml.feature import PCA, StandardScaler, VectorAssembler\n",
    "from pyspark.ml.linalg import Vectors, VectorUDT\n",
    "from pyspark.sql.functions import PandasUDFType, col, element_at, pandas_udf, split, udf\n",
    "from pyspark.sql.types import *\n",
    "from tensorflow.keras import Model\n",
    "from tensorflow.keras.applications.mobilenet_v2 import MobileNetV2, preprocess_input\n",
    "from tensorflow.keras.preprocessing.image import img_to_array"
   ]
  },
  {
   "cell_type": "markdown",
   "id": "973c020b-3c19-4e3f-8bd6-08715088eb08",
   "metadata": {},
   "source": [
    "### 4.10.4 Définition des PATH pour charger les images et enregistrer les résultats\n",
    "\n",
    "Nous accédons directement à nos **données sur S3** comme si elles étaient **stockées localement**."
   ]
  },
  {
   "cell_type": "code",
   "execution_count": 4,
   "id": "8296d187-ad76-4e70-ac35-97f6d115b46c",
   "metadata": {},
   "outputs": [
    {
     "data": {
      "application/vnd.jupyter.widget-view+json": {
       "model_id": "",
       "version_major": 2,
       "version_minor": 0
      },
      "text/plain": [
       "FloatProgress(value=0.0, bar_style='info', description='Progress:', layout=Layout(height='25px', width='50%'),…"
      ]
     },
     "metadata": {},
     "output_type": "display_data"
    },
    {
     "name": "stdout",
     "output_type": "stream",
     "text": [
      "PATH:        s3://carl-p8-v2\n",
      "PATH_Data:   s3://carl-p8-v2/sample_test\n",
      "PATH_Result: s3://carl-p8-v2/Results"
     ]
    }
   ],
   "source": [
    "# define s3 path for reading data and writing results\n",
    "BUCKET = \"s3://carl-p8-v2\"\n",
    "PATH_Data = BUCKET + \"/sample_test\"\n",
    "PATH_Result = BUCKET + \"/Results\"\n",
    "\n",
    "print(\n",
    "    \"PATH:        \"\n",
    "    + BUCKET\n",
    "    + \"\\nPATH_Data:   \"\n",
    "    + PATH_Data\n",
    "    + \"\\nPATH_Result: \"\n",
    "    + PATH_Result\n",
    ")"
   ]
  },
  {
   "cell_type": "markdown",
   "id": "8a7d0cd6-b9f1-46ed-bbf6-097672ca7c2a",
   "metadata": {},
   "source": [
    "### 4.10.5 Traitement des données"
   ]
  },
  {
   "cell_type": "markdown",
   "id": "406bf337-4048-46d0-b763-7482629d7a8b",
   "metadata": {},
   "source": [
    "#### 4.10.5.1 Chargement des données"
   ]
  },
  {
   "cell_type": "code",
   "execution_count": 5,
   "id": "dc4c08e6-f1ed-4d1f-bfd4-13ed9dd96fd1",
   "metadata": {},
   "outputs": [
    {
     "data": {
      "application/vnd.jupyter.widget-view+json": {
       "model_id": "",
       "version_major": 2,
       "version_minor": 0
      },
      "text/plain": [
       "FloatProgress(value=0.0, bar_style='info', description='Progress:', layout=Layout(height='25px', width='50%'),…"
      ]
     },
     "metadata": {},
     "output_type": "display_data"
    }
   ],
   "source": [
    "# Load images using Spark\n",
    "images = (\n",
    "    spark.read.format(\"binaryFile\")\n",
    "    .option(\"pathGlobFilter\", \"*.jpg\")\n",
    "    .option(\"recursiveFileLookup\", \"true\")\n",
    "    .load(PATH_Data)\n",
    ")"
   ]
  },
  {
   "cell_type": "code",
   "execution_count": 6,
   "id": "7adfacfc",
   "metadata": {},
   "outputs": [
    {
     "data": {
      "application/vnd.jupyter.widget-view+json": {
       "model_id": "",
       "version_major": 2,
       "version_minor": 0
      },
      "text/plain": [
       "FloatProgress(value=0.0, bar_style='info', description='Progress:', layout=Layout(height='25px', width='50%'),…"
      ]
     },
     "metadata": {},
     "output_type": "display_data"
    },
    {
     "name": "stdout",
     "output_type": "stream",
     "text": [
      "(2142, 4)"
     ]
    }
   ],
   "source": [
    "print((images.count(), len(images.columns)))"
   ]
  },
  {
   "cell_type": "code",
   "execution_count": 7,
   "id": "dca2fb2e-d040-4411-a533-7eeb33fa909d",
   "metadata": {},
   "outputs": [
    {
     "data": {
      "application/vnd.jupyter.widget-view+json": {
       "model_id": "",
       "version_major": 2,
       "version_minor": 0
      },
      "text/plain": [
       "FloatProgress(value=0.0, bar_style='info', description='Progress:', layout=Layout(height='25px', width='50%'),…"
      ]
     },
     "metadata": {},
     "output_type": "display_data"
    },
    {
     "name": "stdout",
     "output_type": "stream",
     "text": [
      "+--------------------+-------------------+------+--------------------+\n",
      "|                path|   modificationTime|length|             content|\n",
      "+--------------------+-------------------+------+--------------------+\n",
      "|s3://carl-p8-v2/s...|2024-04-21 17:02:55|  5883|[FF D8 FF E0 00 1...|\n",
      "|s3://carl-p8-v2/s...|2024-04-21 17:02:55|  5851|[FF D8 FF E0 00 1...|\n",
      "|s3://carl-p8-v2/s...|2024-04-21 17:02:54|  5815|[FF D8 FF E0 00 1...|\n",
      "|s3://carl-p8-v2/s...|2024-04-21 17:02:54|  5810|[FF D8 FF E0 00 1...|\n",
      "|s3://carl-p8-v2/s...|2024-04-21 17:02:54|  5801|[FF D8 FF E0 00 1...|\n",
      "+--------------------+-------------------+------+--------------------+\n",
      "only showing top 5 rows"
     ]
    }
   ],
   "source": [
    "images.show(5)"
   ]
  },
  {
   "cell_type": "markdown",
   "id": "b7ca1357-f691-4240-bb00-8880ed962b5a",
   "metadata": {},
   "source": [
    "<u>Je ne conserve que le **path** de l'image et j'ajoute <br />\n",
    "    une colonne contenant les **labels** de chaque image</u> :"
   ]
  },
  {
   "cell_type": "code",
   "execution_count": 8,
   "id": "0409ed44-2c2b-48ef-9896-77b3b640c8bb",
   "metadata": {},
   "outputs": [
    {
     "data": {
      "application/vnd.jupyter.widget-view+json": {
       "model_id": "",
       "version_major": 2,
       "version_minor": 0
      },
      "text/plain": [
       "FloatProgress(value=0.0, bar_style='info', description='Progress:', layout=Layout(height='25px', width='50%'),…"
      ]
     },
     "metadata": {},
     "output_type": "display_data"
    },
    {
     "name": "stdout",
     "output_type": "stream",
     "text": [
      "root\n",
      " |-- path: string (nullable = true)\n",
      " |-- modificationTime: timestamp (nullable = true)\n",
      " |-- length: long (nullable = true)\n",
      " |-- content: binary (nullable = true)\n",
      " |-- label: string (nullable = true)\n",
      "\n",
      "None\n",
      "+---------------------------------------------------+---------+\n",
      "|path                                               |label    |\n",
      "+---------------------------------------------------+---------+\n",
      "|s3://carl-p8-v2/sample_test/Nectarine/r_33_100.jpg |Nectarine|\n",
      "|s3://carl-p8-v2/sample_test/Nectarine/r_32_100.jpg |Nectarine|\n",
      "|s3://carl-p8-v2/sample_test/Nectarine/r_326_100.jpg|Nectarine|\n",
      "|s3://carl-p8-v2/sample_test/Nectarine/r_322_100.jpg|Nectarine|\n",
      "|s3://carl-p8-v2/sample_test/Nectarine/r_324_100.jpg|Nectarine|\n",
      "+---------------------------------------------------+---------+\n",
      "only showing top 5 rows\n",
      "\n",
      "None"
     ]
    }
   ],
   "source": [
    "# keep only path and add label column\n",
    "images = images.withColumn(\"label\", element_at(split(images[\"path\"], \"/\"), -2))\n",
    "print(images.printSchema())\n",
    "print(images.select(\"path\", \"label\").show(5, False))"
   ]
  },
  {
   "cell_type": "code",
   "execution_count": 9,
   "id": "71ceed59",
   "metadata": {},
   "outputs": [
    {
     "data": {
      "application/vnd.jupyter.widget-view+json": {
       "model_id": "",
       "version_major": 2,
       "version_minor": 0
      },
      "text/plain": [
       "FloatProgress(value=0.0, bar_style='info', description='Progress:', layout=Layout(height='25px', width='50%'),…"
      ]
     },
     "metadata": {},
     "output_type": "display_data"
    },
    {
     "name": "stdout",
     "output_type": "stream",
     "text": [
      "+--------------------+-------------------+------+--------------------+---------+\n",
      "|                path|   modificationTime|length|             content|    label|\n",
      "+--------------------+-------------------+------+--------------------+---------+\n",
      "|s3://carl-p8-v2/s...|2024-04-21 17:02:55|  5883|[FF D8 FF E0 00 1...|Nectarine|\n",
      "|s3://carl-p8-v2/s...|2024-04-21 17:02:55|  5851|[FF D8 FF E0 00 1...|Nectarine|\n",
      "|s3://carl-p8-v2/s...|2024-04-21 17:02:54|  5815|[FF D8 FF E0 00 1...|Nectarine|\n",
      "|s3://carl-p8-v2/s...|2024-04-21 17:02:54|  5810|[FF D8 FF E0 00 1...|Nectarine|\n",
      "|s3://carl-p8-v2/s...|2024-04-21 17:02:54|  5801|[FF D8 FF E0 00 1...|Nectarine|\n",
      "|s3://carl-p8-v2/s...|2024-04-21 17:02:55|  5801|[FF D8 FF E0 00 1...|Nectarine|\n",
      "|s3://carl-p8-v2/s...|2024-04-21 17:02:54|  5798|[FF D8 FF E0 00 1...|Nectarine|\n",
      "|s3://carl-p8-v2/s...|2024-04-21 17:02:54|  5795|[FF D8 FF E0 00 1...|Nectarine|\n",
      "|s3://carl-p8-v2/s...|2024-04-21 17:02:55|  5793|[FF D8 FF E0 00 1...|Nectarine|\n",
      "|s3://carl-p8-v2/s...|2024-04-21 17:02:54|  5792|[FF D8 FF E0 00 1...|Nectarine|\n",
      "|s3://carl-p8-v2/s...|2024-04-21 17:02:55|  5788|[FF D8 FF E0 00 1...|Nectarine|\n",
      "|s3://carl-p8-v2/s...|2024-04-21 17:02:55|  5783|[FF D8 FF E0 00 1...|Nectarine|\n",
      "|s3://carl-p8-v2/s...|2024-04-21 17:02:55|  5783|[FF D8 FF E0 00 1...|Nectarine|\n",
      "|s3://carl-p8-v2/s...|2024-04-21 17:02:55|  5778|[FF D8 FF E0 00 1...|Nectarine|\n",
      "|s3://carl-p8-v2/s...|2024-04-21 17:02:55|  5766|[FF D8 FF E0 00 1...|Nectarine|\n",
      "|s3://carl-p8-v2/s...|2024-04-21 17:02:55|  5765|[FF D8 FF E0 00 1...|Nectarine|\n",
      "|s3://carl-p8-v2/s...|2024-04-21 17:02:54|  5762|[FF D8 FF E0 00 1...|Nectarine|\n",
      "|s3://carl-p8-v2/s...|2024-04-21 17:02:55|  5754|[FF D8 FF E0 00 1...|Nectarine|\n",
      "|s3://carl-p8-v2/s...|2024-04-21 17:02:55|  5737|[FF D8 FF E0 00 1...|Nectarine|\n",
      "|s3://carl-p8-v2/s...|2024-04-21 17:02:55|  5726|[FF D8 FF E0 00 1...|Nectarine|\n",
      "+--------------------+-------------------+------+--------------------+---------+\n",
      "only showing top 20 rows"
     ]
    }
   ],
   "source": [
    "images.show()"
   ]
  },
  {
   "cell_type": "markdown",
   "id": "246a1287-7c5e-41e1-9080-7b2426003f55",
   "metadata": {},
   "source": [
    "#### 4.10.5.2 Préparation du modèle"
   ]
  },
  {
   "cell_type": "code",
   "execution_count": 10,
   "id": "b8b928ca-6bfd-4dc9-b791-4cd9b2719a6d",
   "metadata": {},
   "outputs": [
    {
     "data": {
      "application/vnd.jupyter.widget-view+json": {
       "model_id": "",
       "version_major": 2,
       "version_minor": 0
      },
      "text/plain": [
       "FloatProgress(value=0.0, bar_style='info', description='Progress:', layout=Layout(height='25px', width='50%'),…"
      ]
     },
     "metadata": {},
     "output_type": "display_data"
    }
   ],
   "source": [
    "# use MobileNetV2 to extract features\n",
    "model = MobileNetV2(weights=\"imagenet\", include_top=True, input_shape=(224, 224, 3))"
   ]
  },
  {
   "cell_type": "code",
   "execution_count": 11,
   "id": "d17d3980-f6cd-4436-8ea1-9032060551b6",
   "metadata": {},
   "outputs": [
    {
     "data": {
      "application/vnd.jupyter.widget-view+json": {
       "model_id": "",
       "version_major": 2,
       "version_minor": 0
      },
      "text/plain": [
       "FloatProgress(value=0.0, bar_style='info', description='Progress:', layout=Layout(height='25px', width='50%'),…"
      ]
     },
     "metadata": {},
     "output_type": "display_data"
    }
   ],
   "source": [
    "# remove top layer\n",
    "new_model = Model(inputs=model.input, outputs=model.layers[-2].output)"
   ]
  },
  {
   "cell_type": "code",
   "execution_count": 12,
   "id": "9309f2be-0b68-4edc-9ef0-a9657418f136",
   "metadata": {},
   "outputs": [
    {
     "data": {
      "application/vnd.jupyter.widget-view+json": {
       "model_id": "",
       "version_major": 2,
       "version_minor": 0
      },
      "text/plain": [
       "FloatProgress(value=0.0, bar_style='info', description='Progress:', layout=Layout(height='25px', width='50%'),…"
      ]
     },
     "metadata": {},
     "output_type": "display_data"
    }
   ],
   "source": [
    "# Broadcast the model's weights to the workers to ensure that they are always available.\n",
    "brodcast_weights = sc.broadcast(new_model.get_weights())"
   ]
  },
  {
   "cell_type": "code",
   "execution_count": 13,
   "id": "f8d7f554-1f60-4d2c-a5c7-eeb07bc08b29",
   "metadata": {
    "scrolled": true
   },
   "outputs": [
    {
     "data": {
      "application/vnd.jupyter.widget-view+json": {
       "model_id": "",
       "version_major": 2,
       "version_minor": 0
      },
      "text/plain": [
       "FloatProgress(value=0.0, bar_style='info', description='Progress:', layout=Layout(height='25px', width='50%'),…"
      ]
     },
     "metadata": {},
     "output_type": "display_data"
    },
    {
     "name": "stdout",
     "output_type": "stream",
     "text": [
      "Model: \"model\"\n",
      "__________________________________________________________________________________________________\n",
      " Layer (type)                   Output Shape         Param #     Connected to                     \n",
      "==================================================================================================\n",
      " input_1 (InputLayer)           [(None, 224, 224, 3  0           []                               \n",
      "                                )]                                                                \n",
      "                                                                                                  \n",
      " Conv1 (Conv2D)                 (None, 112, 112, 32  864         ['input_1[0][0]']                \n",
      "                                )                                                                 \n",
      "                                                                                                  \n",
      " bn_Conv1 (BatchNormalization)  (None, 112, 112, 32  128         ['Conv1[0][0]']                  \n",
      "                                )                                                                 \n",
      "                                                                                                  \n",
      " Conv1_relu (ReLU)              (None, 112, 112, 32  0           ['bn_Conv1[0][0]']               \n",
      "                                )                                                                 \n",
      "                                                                                                  \n",
      " expanded_conv_depthwise (Depth  (None, 112, 112, 32  288        ['Conv1_relu[0][0]']             \n",
      " wiseConv2D)                    )                                                                 \n",
      "                                                                                                  \n",
      " expanded_conv_depthwise_BN (Ba  (None, 112, 112, 32  128        ['expanded_conv_depthwise[0][0]']\n",
      " tchNormalization)              )                                                                 \n",
      "                                                                                                  \n",
      " expanded_conv_depthwise_relu (  (None, 112, 112, 32  0          ['expanded_conv_depthwise_BN[0][0\n",
      " ReLU)                          )                                ]']                              \n",
      "                                                                                                  \n",
      " expanded_conv_project (Conv2D)  (None, 112, 112, 16  512        ['expanded_conv_depthwise_relu[0]\n",
      "                                )                                [0]']                            \n",
      "                                                                                                  \n",
      " expanded_conv_project_BN (Batc  (None, 112, 112, 16  64         ['expanded_conv_project[0][0]']  \n",
      " hNormalization)                )                                                                 \n",
      "                                                                                                  \n",
      " block_1_expand (Conv2D)        (None, 112, 112, 96  1536        ['expanded_conv_project_BN[0][0]'\n",
      "                                )                                ]                                \n",
      "                                                                                                  \n",
      " block_1_expand_BN (BatchNormal  (None, 112, 112, 96  384        ['block_1_expand[0][0]']         \n",
      " ization)                       )                                                                 \n",
      "                                                                                                  \n",
      " block_1_expand_relu (ReLU)     (None, 112, 112, 96  0           ['block_1_expand_BN[0][0]']      \n",
      "                                )                                                                 \n",
      "                                                                                                  \n",
      " block_1_pad (ZeroPadding2D)    (None, 113, 113, 96  0           ['block_1_expand_relu[0][0]']    \n",
      "                                )                                                                 \n",
      "                                                                                                  \n",
      " block_1_depthwise (DepthwiseCo  (None, 56, 56, 96)  864         ['block_1_pad[0][0]']            \n",
      " nv2D)                                                                                            \n",
      "                                                                                                  \n",
      " block_1_depthwise_BN (BatchNor  (None, 56, 56, 96)  384         ['block_1_depthwise[0][0]']      \n",
      " malization)                                                                                      \n",
      "                                                                                                  \n",
      " block_1_depthwise_relu (ReLU)  (None, 56, 56, 96)   0           ['block_1_depthwise_BN[0][0]']   \n",
      "                                                                                                  \n",
      " block_1_project (Conv2D)       (None, 56, 56, 24)   2304        ['block_1_depthwise_relu[0][0]'] \n",
      "                                                                                                  \n",
      " block_1_project_BN (BatchNorma  (None, 56, 56, 24)  96          ['block_1_project[0][0]']        \n",
      " lization)                                                                                        \n",
      "                                                                                                  \n",
      " block_2_expand (Conv2D)        (None, 56, 56, 144)  3456        ['block_1_project_BN[0][0]']     \n",
      "                                                                                                  \n",
      " block_2_expand_BN (BatchNormal  (None, 56, 56, 144)  576        ['block_2_expand[0][0]']         \n",
      " ization)                                                                                         \n",
      "                                                                                                  \n",
      " block_2_expand_relu (ReLU)     (None, 56, 56, 144)  0           ['block_2_expand_BN[0][0]']      \n",
      "                                                                                                  \n",
      " block_2_depthwise (DepthwiseCo  (None, 56, 56, 144)  1296       ['block_2_expand_relu[0][0]']    \n",
      " nv2D)                                                                                            \n",
      "                                                                                                  \n",
      " block_2_depthwise_BN (BatchNor  (None, 56, 56, 144)  576        ['block_2_depthwise[0][0]']      \n",
      " malization)                                                                                      \n",
      "                                                                                                  \n",
      " block_2_depthwise_relu (ReLU)  (None, 56, 56, 144)  0           ['block_2_depthwise_BN[0][0]']   \n",
      "                                                                                                  \n",
      " block_2_project (Conv2D)       (None, 56, 56, 24)   3456        ['block_2_depthwise_relu[0][0]'] \n",
      "                                                                                                  \n",
      " block_2_project_BN (BatchNorma  (None, 56, 56, 24)  96          ['block_2_project[0][0]']        \n",
      " lization)                                                                                        \n",
      "                                                                                                  \n",
      " block_2_add (Add)              (None, 56, 56, 24)   0           ['block_1_project_BN[0][0]',     \n",
      "                                                                  'block_2_project_BN[0][0]']     \n",
      "                                                                                                  \n",
      " block_3_expand (Conv2D)        (None, 56, 56, 144)  3456        ['block_2_add[0][0]']            \n",
      "                                                                                                  \n",
      " block_3_expand_BN (BatchNormal  (None, 56, 56, 144)  576        ['block_3_expand[0][0]']         \n",
      " ization)                                                                                         \n",
      "                                                                                                  \n",
      " block_3_expand_relu (ReLU)     (None, 56, 56, 144)  0           ['block_3_expand_BN[0][0]']      \n",
      "                                                                                                  \n",
      " block_3_pad (ZeroPadding2D)    (None, 57, 57, 144)  0           ['block_3_expand_relu[0][0]']    \n",
      "                                                                                                  \n",
      " block_3_depthwise (DepthwiseCo  (None, 28, 28, 144)  1296       ['block_3_pad[0][0]']            \n",
      " nv2D)                                                                                            \n",
      "                                                                                                  \n",
      " block_3_depthwise_BN (BatchNor  (None, 28, 28, 144)  576        ['block_3_depthwise[0][0]']      \n",
      " malization)                                                                                      \n",
      "                                                                                                  \n",
      " block_3_depthwise_relu (ReLU)  (None, 28, 28, 144)  0           ['block_3_depthwise_BN[0][0]']   \n",
      "                                                                                                  \n",
      " block_3_project (Conv2D)       (None, 28, 28, 32)   4608        ['block_3_depthwise_relu[0][0]'] \n",
      "                                                                                                  \n",
      " block_3_project_BN (BatchNorma  (None, 28, 28, 32)  128         ['block_3_project[0][0]']        \n",
      " lization)                                                                                        \n",
      "                                                                                                  \n",
      " block_4_expand (Conv2D)        (None, 28, 28, 192)  6144        ['block_3_project_BN[0][0]']     \n",
      "                                                                                                  \n",
      " block_4_expand_BN (BatchNormal  (None, 28, 28, 192)  768        ['block_4_expand[0][0]']         \n",
      " ization)                                                                                         \n",
      "                                                                                                  \n",
      " block_4_expand_relu (ReLU)     (None, 28, 28, 192)  0           ['block_4_expand_BN[0][0]']      \n",
      "                                                                                                  \n",
      " block_4_depthwise (DepthwiseCo  (None, 28, 28, 192)  1728       ['block_4_expand_relu[0][0]']    \n",
      " nv2D)                                                                                            \n",
      "                                                                                                  \n",
      " block_4_depthwise_BN (BatchNor  (None, 28, 28, 192)  768        ['block_4_depthwise[0][0]']      \n",
      " malization)                                                                                      \n",
      "                                                                                                  \n",
      " block_4_depthwise_relu (ReLU)  (None, 28, 28, 192)  0           ['block_4_depthwise_BN[0][0]']   \n",
      "                                                                                                  \n",
      " block_4_project (Conv2D)       (None, 28, 28, 32)   6144        ['block_4_depthwise_relu[0][0]'] \n",
      "                                                                                                  \n",
      " block_4_project_BN (BatchNorma  (None, 28, 28, 32)  128         ['block_4_project[0][0]']        \n",
      " lization)                                                                                        \n",
      "                                                                                                  \n",
      " block_4_add (Add)              (None, 28, 28, 32)   0           ['block_3_project_BN[0][0]',     \n",
      "                                                                  'block_4_project_BN[0][0]']     \n",
      "                                                                                                  \n",
      " block_5_expand (Conv2D)        (None, 28, 28, 192)  6144        ['block_4_add[0][0]']            \n",
      "                                                                                                  \n",
      " block_5_expand_BN (BatchNormal  (None, 28, 28, 192)  768        ['block_5_expand[0][0]']         \n",
      " ization)                                                                                         \n",
      "                                                                                                  \n",
      " block_5_expand_relu (ReLU)     (None, 28, 28, 192)  0           ['block_5_expand_BN[0][0]']      \n",
      "                                                                                                  \n",
      " block_5_depthwise (DepthwiseCo  (None, 28, 28, 192)  1728       ['block_5_expand_relu[0][0]']    \n",
      " nv2D)                                                                                            \n",
      "                                                                                                  \n",
      " block_5_depthwise_BN (BatchNor  (None, 28, 28, 192)  768        ['block_5_depthwise[0][0]']      \n",
      " malization)                                                                                      \n",
      "                                                                                                  \n",
      " block_5_depthwise_relu (ReLU)  (None, 28, 28, 192)  0           ['block_5_depthwise_BN[0][0]']   \n",
      "                                                                                                  \n",
      " block_5_project (Conv2D)       (None, 28, 28, 32)   6144        ['block_5_depthwise_relu[0][0]'] \n",
      "                                                                                                  \n",
      " block_5_project_BN (BatchNorma  (None, 28, 28, 32)  128         ['block_5_project[0][0]']        \n",
      " lization)                                                                                        \n",
      "                                                                                                  \n",
      " block_5_add (Add)              (None, 28, 28, 32)   0           ['block_4_add[0][0]',            \n",
      "                                                                  'block_5_project_BN[0][0]']     \n",
      "                                                                                                  \n",
      " block_6_expand (Conv2D)        (None, 28, 28, 192)  6144        ['block_5_add[0][0]']            \n",
      "                                                                                                  \n",
      " block_6_expand_BN (BatchNormal  (None, 28, 28, 192)  768        ['block_6_expand[0][0]']         \n",
      " ization)                                                                                         \n",
      "                                                                                                  \n",
      " block_6_expand_relu (ReLU)     (None, 28, 28, 192)  0           ['block_6_expand_BN[0][0]']      \n",
      "                                                                                                  \n",
      " block_6_pad (ZeroPadding2D)    (None, 29, 29, 192)  0           ['block_6_expand_relu[0][0]']    \n",
      "                                                                                                  \n",
      " block_6_depthwise (DepthwiseCo  (None, 14, 14, 192)  1728       ['block_6_pad[0][0]']            \n",
      " nv2D)                                                                                            \n",
      "                                                                                                  \n",
      " block_6_depthwise_BN (BatchNor  (None, 14, 14, 192)  768        ['block_6_depthwise[0][0]']      \n",
      " malization)                                                                                      \n",
      "                                                                                                  \n",
      " block_6_depthwise_relu (ReLU)  (None, 14, 14, 192)  0           ['block_6_depthwise_BN[0][0]']   \n",
      "                                                                                                  \n",
      " block_6_project (Conv2D)       (None, 14, 14, 64)   12288       ['block_6_depthwise_relu[0][0]'] \n",
      "                                                                                                  \n",
      " block_6_project_BN (BatchNorma  (None, 14, 14, 64)  256         ['block_6_project[0][0]']        \n",
      " lization)                                                                                        \n",
      "                                                                                                  \n",
      " block_7_expand (Conv2D)        (None, 14, 14, 384)  24576       ['block_6_project_BN[0][0]']     \n",
      "                                                                                                  \n",
      " block_7_expand_BN (BatchNormal  (None, 14, 14, 384)  1536       ['block_7_expand[0][0]']         \n",
      " ization)                                                                                         \n",
      "                                                                                                  \n",
      " block_7_expand_relu (ReLU)     (None, 14, 14, 384)  0           ['block_7_expand_BN[0][0]']      \n",
      "                                                                                                  \n",
      " block_7_depthwise (DepthwiseCo  (None, 14, 14, 384)  3456       ['block_7_expand_relu[0][0]']    \n",
      " nv2D)                                                                                            \n",
      "                                                                                                  \n",
      " block_7_depthwise_BN (BatchNor  (None, 14, 14, 384)  1536       ['block_7_depthwise[0][0]']      \n",
      " malization)                                                                                      \n",
      "                                                                                                  \n",
      " block_7_depthwise_relu (ReLU)  (None, 14, 14, 384)  0           ['block_7_depthwise_BN[0][0]']   \n",
      "                                                                                                  \n",
      " block_7_project (Conv2D)       (None, 14, 14, 64)   24576       ['block_7_depthwise_relu[0][0]'] \n",
      "                                                                                                  \n",
      " block_7_project_BN (BatchNorma  (None, 14, 14, 64)  256         ['block_7_project[0][0]']        \n",
      " lization)                                                                                        \n",
      "                                                                                                  \n",
      " block_7_add (Add)              (None, 14, 14, 64)   0           ['block_6_project_BN[0][0]',     \n",
      "                                                                  'block_7_project_BN[0][0]']     \n",
      "                                                                                                  \n",
      " block_8_expand (Conv2D)        (None, 14, 14, 384)  24576       ['block_7_add[0][0]']            \n",
      "                                                                                                  \n",
      " block_8_expand_BN (BatchNormal  (None, 14, 14, 384)  1536       ['block_8_expand[0][0]']         \n",
      " ization)                                                                                         \n",
      "                                                                                                  \n",
      " block_8_expand_relu (ReLU)     (None, 14, 14, 384)  0           ['block_8_expand_BN[0][0]']      \n",
      "                                                                                                  \n",
      " block_8_depthwise (DepthwiseCo  (None, 14, 14, 384)  3456       ['block_8_expand_relu[0][0]']    \n",
      " nv2D)                                                                                            \n",
      "                                                                                                  \n",
      " block_8_depthwise_BN (BatchNor  (None, 14, 14, 384)  1536       ['block_8_depthwise[0][0]']      \n",
      " malization)                                                                                      \n",
      "                                                                                                  \n",
      " block_8_depthwise_relu (ReLU)  (None, 14, 14, 384)  0           ['block_8_depthwise_BN[0][0]']   \n",
      "                                                                                                  \n",
      " block_8_project (Conv2D)       (None, 14, 14, 64)   24576       ['block_8_depthwise_relu[0][0]'] \n",
      "                                                                                                  \n",
      " block_8_project_BN (BatchNorma  (None, 14, 14, 64)  256         ['block_8_project[0][0]']        \n",
      " lization)                                                                                        \n",
      "                                                                                                  \n",
      " block_8_add (Add)              (None, 14, 14, 64)   0           ['block_7_add[0][0]',            \n",
      "                                                                  'block_8_project_BN[0][0]']     \n",
      "                                                                                                  \n",
      " block_9_expand (Conv2D)        (None, 14, 14, 384)  24576       ['block_8_add[0][0]']            \n",
      "                                                                                                  \n",
      " block_9_expand_BN (BatchNormal  (None, 14, 14, 384)  1536       ['block_9_expand[0][0]']         \n",
      " ization)                                                                                         \n",
      "                                                                                                  \n",
      " block_9_expand_relu (ReLU)     (None, 14, 14, 384)  0           ['block_9_expand_BN[0][0]']      \n",
      "                                                                                                  \n",
      " block_9_depthwise (DepthwiseCo  (None, 14, 14, 384)  3456       ['block_9_expand_relu[0][0]']    \n",
      " nv2D)                                                                                            \n",
      "                                                                                                  \n",
      " block_9_depthwise_BN (BatchNor  (None, 14, 14, 384)  1536       ['block_9_depthwise[0][0]']      \n",
      " malization)                                                                                      \n",
      "                                                                                                  \n",
      " block_9_depthwise_relu (ReLU)  (None, 14, 14, 384)  0           ['block_9_depthwise_BN[0][0]']   \n",
      "                                                                                                  \n",
      " block_9_project (Conv2D)       (None, 14, 14, 64)   24576       ['block_9_depthwise_relu[0][0]'] \n",
      "                                                                                                  \n",
      " block_9_project_BN (BatchNorma  (None, 14, 14, 64)  256         ['block_9_project[0][0]']        \n",
      " lization)                                                                                        \n",
      "                                                                                                  \n",
      " block_9_add (Add)              (None, 14, 14, 64)   0           ['block_8_add[0][0]',            \n",
      "                                                                  'block_9_project_BN[0][0]']     \n",
      "                                                                                                  \n",
      " block_10_expand (Conv2D)       (None, 14, 14, 384)  24576       ['block_9_add[0][0]']            \n",
      "                                                                                                  \n",
      " block_10_expand_BN (BatchNorma  (None, 14, 14, 384)  1536       ['block_10_expand[0][0]']        \n",
      " lization)                                                                                        \n",
      "                                                                                                  \n",
      " block_10_expand_relu (ReLU)    (None, 14, 14, 384)  0           ['block_10_expand_BN[0][0]']     \n",
      "                                                                                                  \n",
      " block_10_depthwise (DepthwiseC  (None, 14, 14, 384)  3456       ['block_10_expand_relu[0][0]']   \n",
      " onv2D)                                                                                           \n",
      "                                                                                                  \n",
      " block_10_depthwise_BN (BatchNo  (None, 14, 14, 384)  1536       ['block_10_depthwise[0][0]']     \n",
      " rmalization)                                                                                     \n",
      "                                                                                                  \n",
      " block_10_depthwise_relu (ReLU)  (None, 14, 14, 384)  0          ['block_10_depthwise_BN[0][0]']  \n",
      "                                                                                                  \n",
      " block_10_project (Conv2D)      (None, 14, 14, 96)   36864       ['block_10_depthwise_relu[0][0]']\n",
      "                                                                                                  \n",
      " block_10_project_BN (BatchNorm  (None, 14, 14, 96)  384         ['block_10_project[0][0]']       \n",
      " alization)                                                                                       \n",
      "                                                                                                  \n",
      " block_11_expand (Conv2D)       (None, 14, 14, 576)  55296       ['block_10_project_BN[0][0]']    \n",
      "                                                                                                  \n",
      " block_11_expand_BN (BatchNorma  (None, 14, 14, 576)  2304       ['block_11_expand[0][0]']        \n",
      " lization)                                                                                        \n",
      "                                                                                                  \n",
      " block_11_expand_relu (ReLU)    (None, 14, 14, 576)  0           ['block_11_expand_BN[0][0]']     \n",
      "                                                                                                  \n",
      " block_11_depthwise (DepthwiseC  (None, 14, 14, 576)  5184       ['block_11_expand_relu[0][0]']   \n",
      " onv2D)                                                                                           \n",
      "                                                                                                  \n",
      " block_11_depthwise_BN (BatchNo  (None, 14, 14, 576)  2304       ['block_11_depthwise[0][0]']     \n",
      " rmalization)                                                                                     \n",
      "                                                                                                  \n",
      " block_11_depthwise_relu (ReLU)  (None, 14, 14, 576)  0          ['block_11_depthwise_BN[0][0]']  \n",
      "                                                                                                  \n",
      " block_11_project (Conv2D)      (None, 14, 14, 96)   55296       ['block_11_depthwise_relu[0][0]']\n",
      "                                                                                                  \n",
      " block_11_project_BN (BatchNorm  (None, 14, 14, 96)  384         ['block_11_project[0][0]']       \n",
      " alization)                                                                                       \n",
      "                                                                                                  \n",
      " block_11_add (Add)             (None, 14, 14, 96)   0           ['block_10_project_BN[0][0]',    \n",
      "                                                                  'block_11_project_BN[0][0]']    \n",
      "                                                                                                  \n",
      " block_12_expand (Conv2D)       (None, 14, 14, 576)  55296       ['block_11_add[0][0]']           \n",
      "                                                                                                  \n",
      " block_12_expand_BN (BatchNorma  (None, 14, 14, 576)  2304       ['block_12_expand[0][0]']        \n",
      " lization)                                                                                        \n",
      "                                                                                                  \n",
      " block_12_expand_relu (ReLU)    (None, 14, 14, 576)  0           ['block_12_expand_BN[0][0]']     \n",
      "                                                                                                  \n",
      " block_12_depthwise (DepthwiseC  (None, 14, 14, 576)  5184       ['block_12_expand_relu[0][0]']   \n",
      " onv2D)                                                                                           \n",
      "                                                                                                  \n",
      " block_12_depthwise_BN (BatchNo  (None, 14, 14, 576)  2304       ['block_12_depthwise[0][0]']     \n",
      " rmalization)                                                                                     \n",
      "                                                                                                  \n",
      " block_12_depthwise_relu (ReLU)  (None, 14, 14, 576)  0          ['block_12_depthwise_BN[0][0]']  \n",
      "                                                                                                  \n",
      " block_12_project (Conv2D)      (None, 14, 14, 96)   55296       ['block_12_depthwise_relu[0][0]']\n",
      "                                                                                                  \n",
      " block_12_project_BN (BatchNorm  (None, 14, 14, 96)  384         ['block_12_project[0][0]']       \n",
      " alization)                                                                                       \n",
      "                                                                                                  \n",
      " block_12_add (Add)             (None, 14, 14, 96)   0           ['block_11_add[0][0]',           \n",
      "                                                                  'block_12_project_BN[0][0]']    \n",
      "                                                                                                  \n",
      " block_13_expand (Conv2D)       (None, 14, 14, 576)  55296       ['block_12_add[0][0]']           \n",
      "                                                                                                  \n",
      " block_13_expand_BN (BatchNorma  (None, 14, 14, 576)  2304       ['block_13_expand[0][0]']        \n",
      " lization)                                                                                        \n",
      "                                                                                                  \n",
      " block_13_expand_relu (ReLU)    (None, 14, 14, 576)  0           ['block_13_expand_BN[0][0]']     \n",
      "                                                                                                  \n",
      " block_13_pad (ZeroPadding2D)   (None, 15, 15, 576)  0           ['block_13_expand_relu[0][0]']   \n",
      "                                                                                                  \n",
      " block_13_depthwise (DepthwiseC  (None, 7, 7, 576)   5184        ['block_13_pad[0][0]']           \n",
      " onv2D)                                                                                           \n",
      "                                                                                                  \n",
      " block_13_depthwise_BN (BatchNo  (None, 7, 7, 576)   2304        ['block_13_depthwise[0][0]']     \n",
      " rmalization)                                                                                     \n",
      "                                                                                                  \n",
      " block_13_depthwise_relu (ReLU)  (None, 7, 7, 576)   0           ['block_13_depthwise_BN[0][0]']  \n",
      "                                                                                                  \n",
      " block_13_project (Conv2D)      (None, 7, 7, 160)    92160       ['block_13_depthwise_relu[0][0]']\n",
      "                                                                                                  \n",
      " block_13_project_BN (BatchNorm  (None, 7, 7, 160)   640         ['block_13_project[0][0]']       \n",
      " alization)                                                                                       \n",
      "                                                                                                  \n",
      " block_14_expand (Conv2D)       (None, 7, 7, 960)    153600      ['block_13_project_BN[0][0]']    \n",
      "                                                                                                  \n",
      " block_14_expand_BN (BatchNorma  (None, 7, 7, 960)   3840        ['block_14_expand[0][0]']        \n",
      " lization)                                                                                        \n",
      "                                                                                                  \n",
      " block_14_expand_relu (ReLU)    (None, 7, 7, 960)    0           ['block_14_expand_BN[0][0]']     \n",
      "                                                                                                  \n",
      " block_14_depthwise (DepthwiseC  (None, 7, 7, 960)   8640        ['block_14_expand_relu[0][0]']   \n",
      " onv2D)                                                                                           \n",
      "                                                                                                  \n",
      " block_14_depthwise_BN (BatchNo  (None, 7, 7, 960)   3840        ['block_14_depthwise[0][0]']     \n",
      " rmalization)                                                                                     \n",
      "                                                                                                  \n",
      " block_14_depthwise_relu (ReLU)  (None, 7, 7, 960)   0           ['block_14_depthwise_BN[0][0]']  \n",
      "                                                                                                  \n",
      " block_14_project (Conv2D)      (None, 7, 7, 160)    153600      ['block_14_depthwise_relu[0][0]']\n",
      "                                                                                                  \n",
      " block_14_project_BN (BatchNorm  (None, 7, 7, 160)   640         ['block_14_project[0][0]']       \n",
      " alization)                                                                                       \n",
      "                                                                                                  \n",
      " block_14_add (Add)             (None, 7, 7, 160)    0           ['block_13_project_BN[0][0]',    \n",
      "                                                                  'block_14_project_BN[0][0]']    \n",
      "                                                                                                  \n",
      " block_15_expand (Conv2D)       (None, 7, 7, 960)    153600      ['block_14_add[0][0]']           \n",
      "                                                                                                  \n",
      " block_15_expand_BN (BatchNorma  (None, 7, 7, 960)   3840        ['block_15_expand[0][0]']        \n",
      " lization)                                                                                        \n",
      "                                                                                                  \n",
      " block_15_expand_relu (ReLU)    (None, 7, 7, 960)    0           ['block_15_expand_BN[0][0]']     \n",
      "                                                                                                  \n",
      " block_15_depthwise (DepthwiseC  (None, 7, 7, 960)   8640        ['block_15_expand_relu[0][0]']   \n",
      " onv2D)                                                                                           \n",
      "                                                                                                  \n",
      " block_15_depthwise_BN (BatchNo  (None, 7, 7, 960)   3840        ['block_15_depthwise[0][0]']     \n",
      " rmalization)                                                                                     \n",
      "                                                                                                  \n",
      " block_15_depthwise_relu (ReLU)  (None, 7, 7, 960)   0           ['block_15_depthwise_BN[0][0]']  \n",
      "                                                                                                  \n",
      " block_15_project (Conv2D)      (None, 7, 7, 160)    153600      ['block_15_depthwise_relu[0][0]']\n",
      "                                                                                                  \n",
      " block_15_project_BN (BatchNorm  (None, 7, 7, 160)   640         ['block_15_project[0][0]']       \n",
      " alization)                                                                                       \n",
      "                                                                                                  \n",
      " block_15_add (Add)             (None, 7, 7, 160)    0           ['block_14_add[0][0]',           \n",
      "                                                                  'block_15_project_BN[0][0]']    \n",
      "                                                                                                  \n",
      " block_16_expand (Conv2D)       (None, 7, 7, 960)    153600      ['block_15_add[0][0]']           \n",
      "                                                                                                  \n",
      " block_16_expand_BN (BatchNorma  (None, 7, 7, 960)   3840        ['block_16_expand[0][0]']        \n",
      " lization)                                                                                        \n",
      "                                                                                                  \n",
      " block_16_expand_relu (ReLU)    (None, 7, 7, 960)    0           ['block_16_expand_BN[0][0]']     \n",
      "                                                                                                  \n",
      " block_16_depthwise (DepthwiseC  (None, 7, 7, 960)   8640        ['block_16_expand_relu[0][0]']   \n",
      " onv2D)                                                                                           \n",
      "                                                                                                  \n",
      " block_16_depthwise_BN (BatchNo  (None, 7, 7, 960)   3840        ['block_16_depthwise[0][0]']     \n",
      " rmalization)                                                                                     \n",
      "                                                                                                  \n",
      " block_16_depthwise_relu (ReLU)  (None, 7, 7, 960)   0           ['block_16_depthwise_BN[0][0]']  \n",
      "                                                                                                  \n",
      " block_16_project (Conv2D)      (None, 7, 7, 320)    307200      ['block_16_depthwise_relu[0][0]']\n",
      "                                                                                                  \n",
      " block_16_project_BN (BatchNorm  (None, 7, 7, 320)   1280        ['block_16_project[0][0]']       \n",
      " alization)                                                                                       \n",
      "                                                                                                  \n",
      " Conv_1 (Conv2D)                (None, 7, 7, 1280)   409600      ['block_16_project_BN[0][0]']    \n",
      "                                                                                                  \n",
      " Conv_1_bn (BatchNormalization)  (None, 7, 7, 1280)  5120        ['Conv_1[0][0]']                 \n",
      "                                                                                                  \n",
      " out_relu (ReLU)                (None, 7, 7, 1280)   0           ['Conv_1_bn[0][0]']              \n",
      "                                                                                                  \n",
      " global_average_pooling2d (Glob  (None, 1280)        0           ['out_relu[0][0]']               \n",
      " alAveragePooling2D)                                                                              \n",
      "                                                                                                  \n",
      "==================================================================================================\n",
      "Total params: 2,257,984\n",
      "Trainable params: 2,223,872\n",
      "Non-trainable params: 34,112\n",
      "__________________________________________________________________________________________________"
     ]
    }
   ],
   "source": [
    "new_model.summary()"
   ]
  },
  {
   "cell_type": "code",
   "execution_count": 14,
   "id": "f9992261-791f-4e40-bdc7-4e8ac5939a75",
   "metadata": {},
   "outputs": [
    {
     "data": {
      "application/vnd.jupyter.widget-view+json": {
       "model_id": "",
       "version_major": 2,
       "version_minor": 0
      },
      "text/plain": [
       "FloatProgress(value=0.0, bar_style='info', description='Progress:', layout=Layout(height='25px', width='50%'),…"
      ]
     },
     "metadata": {},
     "output_type": "display_data"
    }
   ],
   "source": [
    "def model_fn():\n",
    "    \"\"\"\n",
    "    Returns a MobileNetV2 model with top layer removed\n",
    "    and broadcasted pretrained weights.\n",
    "    \"\"\"\n",
    "    model = MobileNetV2(weights=\"imagenet\", include_top=True, input_shape=(224, 224, 3))\n",
    "    for layer in model.layers:\n",
    "        layer.trainable = False\n",
    "    new_model = Model(inputs=model.input, outputs=model.layers[-2].output)\n",
    "    new_model.set_weights(brodcast_weights.value)\n",
    "    return new_model"
   ]
  },
  {
   "cell_type": "markdown",
   "id": "da9e3b35-2809-4e53-bece-dca126a47e08",
   "metadata": {},
   "source": [
    "#### 4.10.5.3 Définition du processus de chargement des images <br/> et application de leur featurisation à travers l'utilisation de pandas UDF"
   ]
  },
  {
   "cell_type": "code",
   "execution_count": 15,
   "id": "de45f71f-3174-410e-8317-ad7902ee4413",
   "metadata": {
    "scrolled": true
   },
   "outputs": [
    {
     "data": {
      "application/vnd.jupyter.widget-view+json": {
       "model_id": "",
       "version_major": 2,
       "version_minor": 0
      },
      "text/plain": [
       "FloatProgress(value=0.0, bar_style='info', description='Progress:', layout=Layout(height='25px', width='50%'),…"
      ]
     },
     "metadata": {},
     "output_type": "display_data"
    },
    {
     "name": "stdout",
     "output_type": "stream",
     "text": [
      "/mnt/yarn/usercache/livy/appcache/application_1713982757102_0004/container_1713982757102_0004_01_000001/pyspark.zip/pyspark/sql/pandas/functions.py:407: UserWarning: In Python 3.6+ and Spark 3.0+, it is preferred to specify type hints for pandas UDF instead of specifying pandas UDF type which will be deprecated in the future releases. See SPARK-28264 for more details."
     ]
    }
   ],
   "source": [
    "def preprocess(content):\n",
    "    \"\"\"\n",
    "    Preprocesses raw image bytes for prediction.\n",
    "    \"\"\"\n",
    "    img = Image.open(io.BytesIO(content)).resize([224, 224])\n",
    "    arr = img_to_array(img)\n",
    "    return preprocess_input(arr)\n",
    "\n",
    "\n",
    "def featurize_series(model, content_series):\n",
    "    \"\"\"\n",
    "    Featurize a pd.Series of raw images using the input model.\n",
    "    :return: a pd.Series of image features\n",
    "    \"\"\"\n",
    "    input = np.stack(content_series.map(preprocess))\n",
    "    preds = model.predict(input)\n",
    "    # For some layers, output features will be multi-dimensional tensors.\n",
    "    # We flatten the feature tensors to vectors for easier storage in Spark DataFrames.\n",
    "    output = [p.flatten() for p in preds]\n",
    "    return pd.Series(output)\n",
    "\n",
    "\n",
    "@pandas_udf(\"array<float>\", PandasUDFType.SCALAR_ITER)\n",
    "def featurize_udf(content_series_iter):\n",
    "    \"\"\"\n",
    "    This method is a Scalar Iterator pandas UDF wrapping our featurization function.\n",
    "    The decorator specifies that this returns a Spark DataFrame column of type ArrayType(FloatType).\n",
    "\n",
    "    :param content_series_iter: This argument is an iterator over batches of data, where each batch\n",
    "                              is a pandas Series of image data.\n",
    "    \"\"\"\n",
    "    # With Scalar Iterator pandas UDFs, we can load the model once and then re-use it\n",
    "    # for multiple data batches.  This amortizes the overhead of loading big models.\n",
    "    model = model_fn()\n",
    "    for content_series in content_series_iter:\n",
    "        yield featurize_series(model, content_series)"
   ]
  },
  {
   "cell_type": "markdown",
   "id": "22056a88-2949-4fe0-9d4b-a0c6ffc7cc56",
   "metadata": {},
   "source": [
    "#### 4.10.5.4 Exécutions des actions d'extractions de features"
   ]
  },
  {
   "cell_type": "code",
   "execution_count": 16,
   "id": "b765b4ee-0671-4b40-9ab1-f7c013f4ae03",
   "metadata": {},
   "outputs": [
    {
     "data": {
      "application/vnd.jupyter.widget-view+json": {
       "model_id": "",
       "version_major": 2,
       "version_minor": 0
      },
      "text/plain": [
       "FloatProgress(value=0.0, bar_style='info', description='Progress:', layout=Layout(height='25px', width='50%'),…"
      ]
     },
     "metadata": {},
     "output_type": "display_data"
    }
   ],
   "source": [
    "# spark.conf.set(\"spark.sql.execution.arrow.maxRecordsPerBatch\", \"1024\")"
   ]
  },
  {
   "cell_type": "code",
   "execution_count": 17,
   "id": "aa844cc2",
   "metadata": {},
   "outputs": [
    {
     "data": {
      "application/vnd.jupyter.widget-view+json": {
       "model_id": "",
       "version_major": 2,
       "version_minor": 0
      },
      "text/plain": [
       "FloatProgress(value=0.0, bar_style='info', description='Progress:', layout=Layout(height='25px', width='50%'),…"
      ]
     },
     "metadata": {},
     "output_type": "display_data"
    },
    {
     "name": "stdout",
     "output_type": "stream",
     "text": [
      "+--------------------+-------------------+------+--------------------+---------+\n",
      "|                path|   modificationTime|length|             content|    label|\n",
      "+--------------------+-------------------+------+--------------------+---------+\n",
      "|s3://carl-p8-v2/s...|2024-04-21 17:02:55|  5883|[FF D8 FF E0 00 1...|Nectarine|\n",
      "|s3://carl-p8-v2/s...|2024-04-21 17:02:55|  5851|[FF D8 FF E0 00 1...|Nectarine|\n",
      "|s3://carl-p8-v2/s...|2024-04-21 17:02:54|  5815|[FF D8 FF E0 00 1...|Nectarine|\n",
      "|s3://carl-p8-v2/s...|2024-04-21 17:02:54|  5810|[FF D8 FF E0 00 1...|Nectarine|\n",
      "|s3://carl-p8-v2/s...|2024-04-21 17:02:54|  5801|[FF D8 FF E0 00 1...|Nectarine|\n",
      "|s3://carl-p8-v2/s...|2024-04-21 17:02:55|  5801|[FF D8 FF E0 00 1...|Nectarine|\n",
      "|s3://carl-p8-v2/s...|2024-04-21 17:02:54|  5798|[FF D8 FF E0 00 1...|Nectarine|\n",
      "|s3://carl-p8-v2/s...|2024-04-21 17:02:54|  5795|[FF D8 FF E0 00 1...|Nectarine|\n",
      "|s3://carl-p8-v2/s...|2024-04-21 17:02:55|  5793|[FF D8 FF E0 00 1...|Nectarine|\n",
      "|s3://carl-p8-v2/s...|2024-04-21 17:02:54|  5792|[FF D8 FF E0 00 1...|Nectarine|\n",
      "|s3://carl-p8-v2/s...|2024-04-21 17:02:55|  5788|[FF D8 FF E0 00 1...|Nectarine|\n",
      "|s3://carl-p8-v2/s...|2024-04-21 17:02:55|  5783|[FF D8 FF E0 00 1...|Nectarine|\n",
      "|s3://carl-p8-v2/s...|2024-04-21 17:02:55|  5783|[FF D8 FF E0 00 1...|Nectarine|\n",
      "|s3://carl-p8-v2/s...|2024-04-21 17:02:55|  5778|[FF D8 FF E0 00 1...|Nectarine|\n",
      "|s3://carl-p8-v2/s...|2024-04-21 17:02:55|  5766|[FF D8 FF E0 00 1...|Nectarine|\n",
      "|s3://carl-p8-v2/s...|2024-04-21 17:02:55|  5765|[FF D8 FF E0 00 1...|Nectarine|\n",
      "|s3://carl-p8-v2/s...|2024-04-21 17:02:54|  5762|[FF D8 FF E0 00 1...|Nectarine|\n",
      "|s3://carl-p8-v2/s...|2024-04-21 17:02:55|  5754|[FF D8 FF E0 00 1...|Nectarine|\n",
      "|s3://carl-p8-v2/s...|2024-04-21 17:02:55|  5737|[FF D8 FF E0 00 1...|Nectarine|\n",
      "|s3://carl-p8-v2/s...|2024-04-21 17:02:55|  5726|[FF D8 FF E0 00 1...|Nectarine|\n",
      "+--------------------+-------------------+------+--------------------+---------+\n",
      "only showing top 20 rows"
     ]
    }
   ],
   "source": [
    "images.show()"
   ]
  },
  {
   "cell_type": "code",
   "execution_count": 18,
   "id": "d6306056-0540-4960-9390-c7656226c06f",
   "metadata": {},
   "outputs": [
    {
     "data": {
      "application/vnd.jupyter.widget-view+json": {
       "model_id": "",
       "version_major": 2,
       "version_minor": 0
      },
      "text/plain": [
       "FloatProgress(value=0.0, bar_style='info', description='Progress:', layout=Layout(height='25px', width='50%'),…"
      ]
     },
     "metadata": {},
     "output_type": "display_data"
    }
   ],
   "source": [
    "# partition the images DataFrame to 4 partitions\n",
    "# apply the UDF to the images DataFrame\n",
    "features_df = images.repartition(4).select(\n",
    "    col(\"path\"), col(\"label\"), featurize_udf(\"content\").alias(\"features\")\n",
    ")"
   ]
  },
  {
   "cell_type": "code",
   "execution_count": 19,
   "id": "18160103",
   "metadata": {},
   "outputs": [
    {
     "data": {
      "application/vnd.jupyter.widget-view+json": {
       "model_id": "",
       "version_major": 2,
       "version_minor": 0
      },
      "text/plain": [
       "FloatProgress(value=0.0, bar_style='info', description='Progress:', layout=Layout(height='25px', width='50%'),…"
      ]
     },
     "metadata": {},
     "output_type": "display_data"
    },
    {
     "name": "stdout",
     "output_type": "stream",
     "text": [
      "<class 'pyspark.sql.dataframe.DataFrame'>"
     ]
    }
   ],
   "source": [
    "type(features_df)"
   ]
  },
  {
   "cell_type": "code",
   "execution_count": 20,
   "id": "15a56ccc-0772-4c26-a887-cc3bf39c5704",
   "metadata": {},
   "outputs": [
    {
     "data": {
      "application/vnd.jupyter.widget-view+json": {
       "model_id": "",
       "version_major": 2,
       "version_minor": 0
      },
      "text/plain": [
       "FloatProgress(value=0.0, bar_style='info', description='Progress:', layout=Layout(height='25px', width='50%'),…"
      ]
     },
     "metadata": {},
     "output_type": "display_data"
    },
    {
     "name": "stdout",
     "output_type": "stream",
     "text": [
      "s3://carl-p8-v2/Results"
     ]
    }
   ],
   "source": [
    "print(PATH_Result)"
   ]
  },
  {
   "cell_type": "code",
   "execution_count": 21,
   "id": "203f7735-a7bc-475f-b807-65c893a6ce67",
   "metadata": {},
   "outputs": [
    {
     "data": {
      "application/vnd.jupyter.widget-view+json": {
       "model_id": "",
       "version_major": 2,
       "version_minor": 0
      },
      "text/plain": [
       "FloatProgress(value=0.0, bar_style='info', description='Progress:', layout=Layout(height='25px', width='50%'),…"
      ]
     },
     "metadata": {},
     "output_type": "display_data"
    }
   ],
   "source": [
    "# save the result to parquet\n",
    "features_df.write.mode(\"overwrite\").parquet(PATH_Result)"
   ]
  },
  {
   "cell_type": "code",
   "execution_count": 22,
   "id": "d584ac51",
   "metadata": {},
   "outputs": [
    {
     "data": {
      "application/vnd.jupyter.widget-view+json": {
       "model_id": "",
       "version_major": 2,
       "version_minor": 0
      },
      "text/plain": [
       "FloatProgress(value=0.0, bar_style='info', description='Progress:', layout=Layout(height='25px', width='50%'),…"
      ]
     },
     "metadata": {},
     "output_type": "display_data"
    },
    {
     "name": "stdout",
     "output_type": "stream",
     "text": [
      "Row(path='s3://carl-p8-v2/sample_test/Nectarine/61_100.jpg', label='Nectarine', features=[0.5543004870414734, 0.0, 0.017258351668715477, 0.0, 0.0, 0.0, 0.7030156850814819, 0.23641814291477203, 0.04427652060985565, 0.0, 0.0, 0.0, 0.0, 0.013368879444897175, 0.0, 0.0003095451684202999, 0.0, 0.0, 0.05343972519040108, 0.024294288828969002, 0.0, 0.12039019167423248, 0.04006500542163849, 0.0, 0.0388205386698246, 0.0, 0.0, 0.0, 0.0, 0.21158453822135925, 0.09676539897918701, 0.0, 0.0, 0.0, 0.0, 0.8954373002052307, 2.465944528579712, 1.6249622106552124, 0.5903096199035645, 0.0, 0.0, 0.0, 0.7369627952575684, 0.0, 0.0, 0.0, 1.0006237030029297, 0.01723293401300907, 0.1619802862405777, 0.05702539533376694, 0.01628267578780651, 1.0910766124725342, 0.0, 0.0, 0.0, 2.494385004043579, 0.0, 0.0, 0.0, 0.3838648498058319, 0.0, 0.30083030462265015, 0.0, 0.0, 0.2299467772245407, 1.3707249164581299, 0.07132822275161743, 0.10845359414815903, 0.0, 1.9026635885238647, 0.0, 0.054265741258859634, 0.0, 1.354933500289917, 0.08955542743206024, 0.00592499366030097, 0.5114189982414246, 0.0, 0.0, 0.0, 0.10783590376377106, 0.16150514781475067, 0.010698114521801472, 0.0, 0.0, 0.0, 0.0, 0.0, 0.0, 0.0, 2.3943703174591064, 0.04695417359471321, 0.0, 0.0, 2.2134957313537598, 0.0, 0.0, 0.0, 0.0, 0.0, 1.9251914024353027, 0.0, 0.0, 0.0, 0.0, 0.0, 0.0, 0.7510837912559509, 0.0, 0.0, 0.0, 0.0, 0.0, 0.6303111910820007, 0.0, 0.0013857666635885835, 0.062012068927288055, 0.0, 0.6151173710823059, 0.1277105063199997, 0.0, 0.0, 0.0, 1.1678640842437744, 0.2896061837673187, 0.0, 0.7777060866355896, 2.15328049659729, 0.005045559722930193, 1.5965379476547241, 0.0, 0.026703454554080963, 0.013689031824469566, 0.0, 0.0, 0.0, 0.0, 0.0, 0.0, 0.0863475427031517, 0.0, 0.04515623673796654, 0.015474893152713776, 0.0, 0.0, 0.0, 2.280822277069092, 0.838440477848053, 0.006772790569812059, 0.5282924175262451, 2.5539331436157227, 0.03277462348341942, 0.0, 0.0, 0.02745257504284382, 0.29632458090782166, 0.0, 0.16629523038864136, 0.07446825504302979, 0.0, 0.7489153146743774, 0.0, 0.0, 0.5486809611320496, 0.0, 0.3134012520313263, 0.11927002668380737, 0.014746909029781818, 2.0009336471557617, 0.46734654903411865, 0.032695431262254715, 0.2809915244579315, 0.08669588714838028, 0.0, 0.0, 0.43619054555892944, 0.23617935180664062, 0.0, 0.002993330592289567, 0.0, 0.0, 0.0, 3.3187520503997803, 0.0, 0.07876676321029663, 0.618719220161438, 0.0, 0.7472389340400696, 0.0, 0.0, 0.0013442623894661665, 0.0, 0.16701507568359375, 0.0, 0.5850473046302795, 0.0, 0.0, 0.0, 0.0, 0.8269047141075134, 0.0, 0.0, 0.0, 2.151309013366699, 0.07543850690126419, 0.02383810095489025, 0.0, 0.867530107498169, 0.1929021179676056, 0.0, 0.0, 0.0, 0.7575164437294006, 0.0, 0.0, 1.2930817604064941, 0.0, 0.2237684279680252, 0.0, 0.0, 0.0, 0.0, 0.0, 0.239206463098526, 0.0, 0.0, 0.3544485867023468, 0.0, 1.1975733041763306, 0.0, 1.4906278848648071, 0.0, 0.03467387706041336, 0.0, 0.0, 0.09454017877578735, 2.6199989318847656, 0.0, 0.0, 0.11266457289457321, 1.328360676765442, 0.0, 0.0, 0.0, 0.16173884272575378, 0.0, 1.4687491655349731, 0.2713351249694824, 0.0, 0.7412571907043457, 0.06277789920568466, 0.0, 0.017066849395632744, 0.03822939842939377, 0.15867416560649872, 3.2379019260406494, 2.4962522983551025, 3.2362070083618164, 0.0, 0.0, 0.0038847047835588455, 1.7287782430648804, 0.07646837085485458, 0.34830066561698914, 0.14700375497341156, 0.0, 0.0, 0.0, 0.11302898079156876, 0.15280801057815552, 0.0, 0.013655059039592743, 0.013780876062810421, 0.0, 0.0, 0.7392041087150574, 0.0, 1.2372087240219116, 0.6959519386291504, 0.0, 2.7167651653289795, 0.0207285787910223, 0.0, 0.0, 2.999425172805786, 0.0, 0.03488679975271225, 0.0, 0.0, 0.0, 0.0, 0.9176177382469177, 0.16804637014865875, 0.000368994107702747, 0.0, 1.0093967914581299, 0.0, 0.12498130649328232, 0.02536926418542862, 0.18352535367012024, 0.0, 2.1940646171569824, 0.017125479876995087, 0.0, 0.636481523513794, 0.46625658869743347, 0.0, 0.0, 0.028765473514795303, 0.3888297975063324, 2.3548383712768555, 0.8217501044273376, 0.0, 0.0, 0.5482324361801147, 0.722911536693573, 0.41753843426704407, 0.001869221101514995, 0.0, 0.0, 0.0, 0.032943278551101685, 0.24107591807842255, 0.0, 0.0, 0.0, 0.0, 0.0, 0.0, 0.5125242471694946, 0.0, 0.016233501955866814, 2.044483184814453, 0.09423035383224487, 0.4787132740020752, 0.0135651221498847, 0.14688445627689362, 0.0, 0.0, 0.4302414357662201, 0.0, 0.0, 0.0, 0.0, 1.8249461650848389, 1.6701974868774414, 0.0, 0.0, 0.0, 0.0, 0.0036358346696943045, 0.0, 0.0, 0.9854363203048706, 0.016421852633357048, 0.0, 0.10125846415758133, 0.015774434432387352, 0.6200584769248962, 0.07990941405296326, 0.0, 0.35040727257728577, 0.0, 0.5110267996788025, 0.0, 0.6600979566574097, 0.0, 0.0, 0.0, 0.0530041866004467, 0.0, 0.2919751703739166, 0.06780614703893661, 0.0, 1.9714823961257935, 0.0, 0.0, 0.2977815270423889, 0.00907997228205204, 0.0, 0.3232828974723816, 0.6808344721794128, 0.07179896533489227, 0.0, 0.0, 0.0, 0.2756805121898651, 0.0, 0.052819691598415375, 0.022567767649888992, 0.22602206468582153, 0.0, 0.0, 2.191504609072581e-05, 0.1380286067724228, 0.0, 0.013238858431577682, 0.6287952065467834, 0.0, 0.03565404936671257, 0.012496364302933216, 0.23790697753429413, 0.15188953280448914, 0.0, 0.0, 1.7612099647521973, 2.0269412994384766, 0.0, 0.03237908333539963, 0.7522976994514465, 0.04764663800597191, 2.5830156803131104, 0.0, 0.0, 0.013627762906253338, 0.0, 0.0, 1.264471173286438, 0.021513432264328003, 2.3515164852142334, 0.0, 0.44378358125686646, 0.16782410442829132, 0.003117026062682271, 0.06805302947759628, 0.0, 0.9733228087425232, 0.0, 0.0, 0.0, 0.0, 0.0, 0.0, 0.0, 0.9678242206573486, 0.0, 0.0, 1.3342448472976685, 0.0, 0.30266618728637695, 0.0, 0.5036376714706421, 1.484615445137024, 0.1674221009016037, 0.032901160418987274, 0.2873143255710602, 0.5021212100982666, 0.0, 0.01758035272359848, 0.0, 0.0, 1.093412160873413, 0.0, 0.0, 0.09821589291095734, 0.40054255723953247, 0.0, 0.13679629564285278, 0.38279420137405396, 0.0, 1.978100061416626, 0.2905626893043518, 0.0076549784280359745, 0.1718500852584839, 0.9005159139633179, 0.0, 3.530595541000366, 0.15866312384605408, 1.036130666732788, 0.0, 0.04695542901754379, 0.21952052414417267, 0.0, 0.3856985867023468, 0.321201354265213, 0.0, 0.3389940857887268, 0.02040933072566986, 0.01885419897735119, 2.4016008377075195, 0.9341906309127808, 0.0, 0.3762870728969574, 0.010712332092225552, 1.3323479890823364, 0.5453152656555176, 0.9501309990882874, 0.18229007720947266, 0.0, 0.1948239654302597, 0.019090350717306137, 0.0, 0.0, 1.767398715019226, 3.6250522136688232, 0.016088778153061867, 0.10788735747337341, 0.0, 0.28036755323410034, 0.0, 0.07950624823570251, 1.7198433876037598, 0.0, 0.0, 0.00030603213235735893, 0.0, 0.0, 0.0, 0.0, 0.11580025404691696, 0.0, 0.0, 0.0, 0.0, 0.0, 0.19542059302330017, 0.0, 0.08212311565876007, 0.0, 0.04852742701768875, 0.0, 0.5833518505096436, 0.0, 0.0517122782766819, 0.0, 0.9178662896156311, 0.04035110026597977, 0.13654378056526184, 0.01398478727787733, 0.0, 0.2403087615966797, 2.96657395362854, 0.005802339408546686, 1.09627366065979, 0.029706595465540886, 3.306687355041504, 0.0, 0.0, 0.0, 0.0, 0.0, 0.0, 0.0, 0.0, 0.0, 0.1746770739555359, 0.041949622333049774, 0.8936426043510437, 1.9513599872589111, 0.09364863485097885, 0.0, 0.0, 0.0, 0.0, 0.13229727745056152, 0.0, 0.0, 0.0, 1.2076443433761597, 0.5066061615943909, 1.150327205657959, 0.014869943261146545, 0.7260600328445435, 1.2732322216033936, 0.0, 0.0, 0.4251280725002289, 0.0, 0.051208242774009705, 0.0, 0.2043626308441162, 0.15650492906570435, 0.0, 0.0, 0.0, 0.0, 0.8807681202888489, 0.038680534809827805, 0.0, 0.5639764070510864, 0.13985277712345123, 0.0, 0.0, 0.0, 0.011136502958834171, 0.15637174248695374, 0.45597416162490845, 0.0, 1.1437315940856934, 0.6236258745193481, 0.0, 0.027985602617263794, 0.0, 0.8327755331993103, 0.7133252024650574, 0.03311185538768768, 0.0, 0.16829167306423187, 0.6224793791770935, 0.0, 0.0, 0.0, 0.0, 0.0, 0.0, 0.0, 0.4193316400051117, 0.0, 0.0, 0.0, 1.151027798652649, 0.08636617660522461, 0.0, 0.0, 0.08426814526319504, 0.0, 0.0, 1.9188127517700195, 0.0, 0.0, 0.0, 0.0, 0.37139931321144104, 0.0, 0.06906365603208542, 0.0, 0.0, 0.0, 0.0, 0.0, 0.3954791724681854, 0.032879538834095, 0.0, 0.0, 0.0, 0.17633125185966492, 0.09020398557186127, 0.18710602819919586, 0.14534997940063477, 1.747926950454712, 0.014347844757139683, 2.038790225982666, 1.020015001296997, 0.5455853939056396, 0.0, 0.24158555269241333, 0.0, 0.0, 2.539877414703369, 0.0, 0.0, 2.3300483226776123, 0.0, 0.0, 0.0, 0.04204809293150902, 0.17403163015842438, 0.1240200623869896, 0.0, 0.0, 0.8826718926429749, 0.2577883303165436, 0.07205066829919815, 0.0, 0.1486939787864685, 0.034391917288303375, 0.0, 0.03188561275601387, 0.012898046523332596, 0.0, 0.0, 0.0, 0.8497836589813232, 0.043881017714738846, 0.06913693994283676, 1.3805078268051147, 0.0, 0.0, 0.09962736815214157, 0.0, 0.0, 0.06455186009407043, 0.0, 0.0, 0.02649480476975441, 0.026545418426394463, 0.084619902074337, 1.2934112548828125, 0.0, 0.027242816984653473, 1.0555943250656128, 0.0, 0.0, 0.0, 0.1996999830007553, 0.4433634579181671, 0.0, 0.2084890902042389, 0.0, 0.0, 0.0, 0.694286048412323, 0.0, 0.12297510355710983, 0.0, 0.0, 0.21232911944389343, 0.0, 0.133318692445755, 0.0, 0.0, 0.004912853240966797, 0.013676906004548073, 0.007500336971133947, 0.42301124334335327, 0.0, 0.0, 1.5550354719161987, 0.0, 0.0, 0.0, 0.0, 0.7117741107940674, 0.0, 0.0023584950249642134, 0.3398095667362213, 0.0, 0.49797749519348145, 0.0, 0.0, 0.0, 0.3100321292877197, 0.35438698530197144, 0.0, 0.0, 0.3570265471935272, 0.016394732519984245, 0.0, 0.19232363998889923, 0.0, 0.009836118668317795, 0.3742414116859436, 0.6890882253646851, 0.19643346965312958, 0.5886499285697937, 0.02579117752611637, 0.0, 0.02730199694633484, 0.0, 0.25708886981010437, 0.0, 0.0, 0.15316665172576904, 3.8558061122894287, 1.2980607748031616, 0.0, 0.9143412709236145, 0.0, 0.017679497599601746, 0.06860519200563431, 0.0, 0.7386248707771301, 0.005132227670401335, 0.0, 0.10332785546779633, 0.0, 0.7911716103553772, 0.21069204807281494, 0.13284726440906525, 0.0, 2.3437659740448, 0.0783938318490982, 0.0, 0.2183775156736374, 0.0, 0.6753999590873718, 0.1730412095785141, 0.5370714068412781, 0.0, 1.3830621242523193, 0.0, 1.000023365020752, 0.07827205955982208, 0.2872352600097656, 0.2860136926174164, 0.0, 0.0069773830473423, 0.0, 0.08246331661939621, 0.0, 0.2162766009569168, 0.05648721009492874, 0.0, 0.2162218689918518, 0.01568862423300743, 0.0, 0.0, 0.0, 0.0, 0.7726823687553406, 0.004848820623010397, 0.0, 0.0, 0.0, 0.9927346110343933, 0.057241518050432205, 0.0, 0.12586617469787598, 0.0, 0.01122804544866085, 0.43886372447013855, 0.1548820286989212, 0.0, 0.15965475142002106, 0.034351203590631485, 0.04550396651029587, 0.0, 0.0, 0.0, 0.011704153381288052, 0.8223587274551392, 0.5182992219924927, 0.0, 0.0, 0.3155580759048462, 0.04503216966986656, 0.0, 2.8411612510681152, 0.0, 1.187678337097168, 0.00525519298389554, 1.246772289276123, 0.0014910211320966482, 0.0, 0.0, 0.014029609970748425, 0.0, 0.6019465327262878, 1.2327848672866821, 0.0, 0.0, 0.04685435816645622, 0.0, 0.23586654663085938, 0.02327253296971321, 0.40827181935310364, 0.0, 0.2916099429130554, 0.0, 0.0, 0.06279071420431137, 2.5246193408966064, 0.0, 0.12452984601259232, 0.0, 0.0, 0.5411797761917114, 0.0, 0.0, 0.0, 0.060451652854681015, 0.0, 0.0, 0.30137282609939575, 0.0, 0.0, 0.0, 0.0, 0.08927911520004272, 0.30426591634750366, 0.008596089668571949, 0.015335111878812313, 0.21817685663700104, 0.3676632344722748, 0.2952207028865814, 0.0, 0.0, 0.009921083226799965, 0.0, 0.015874162316322327, 0.0, 0.5231249332427979, 0.5378285050392151, 0.09046048671007156, 0.0, 1.308779239654541, 2.7081828117370605, 0.0, 0.1738036423921585, 0.0, 0.14732272922992706, 0.0, 0.0, 0.03581741824746132, 0.004498530179262161, 0.08375357836484909, 0.3584118187427521, 0.0, 1.0901926755905151, 0.780988872051239, 0.0, 0.46861881017684937, 0.1786365956068039, 0.0, 0.8170701861381531, 0.008465727791190147, 0.0, 0.0, 0.0, 1.1358435153961182, 0.0, 0.001754780183546245, 0.2323450893163681, 0.0, 0.0, 0.0, 0.0, 0.8476934432983398, 0.48052164912223816, 0.0, 0.0, 0.021289795637130737, 0.005458695348352194, 0.0, 0.19594497978687286, 0.0, 0.022198619320988655, 0.0, 0.03568008914589882, 0.11089290678501129, 0.0, 0.0, 0.03776374086737633, 1.5571497678756714, 0.0, 0.022098978981375694, 0.9300508499145508, 0.0, 0.0, 0.11665534973144531, 0.0, 0.06693992763757706, 0.18413765728473663, 3.2365639209747314, 0.05191424489021301, 0.0, 0.4328145384788513, 0.02530793845653534, 0.07611411809921265, 0.056948523968458176, 0.14105235040187836, 2.028313159942627, 0.011252062395215034, 0.037232477217912674, 0.0, 0.22114691138267517, 0.023260213434696198, 0.0, 0.06783304363489151, 0.0027962413150817156, 0.009665207006037235, 0.0, 0.0, 0.0, 0.6156232953071594, 0.0, 0.0, 0.3417953550815582, 0.202578604221344, 0.0, 0.01204274594783783, 1.268405556678772, 0.17077358067035675, 2.3680107593536377, 0.0014972686767578125, 0.0, 0.012964677065610886, 0.10135084390640259, 0.0, 0.08162619918584824, 0.0, 0.0, 0.08817188441753387, 0.0, 1.9988036155700684, 0.03565855324268341, 0.0, 0.0, 0.0, 0.027992812916636467, 0.0, 0.0, 0.0, 0.0, 0.08320344239473343, 0.034682195633649826, 0.0, 0.006287029944360256, 0.0, 1.5520284175872803, 0.0, 0.037682417780160904, 0.3972928822040558, 0.0, 0.0, 0.0, 0.24109458923339844, 0.00038213146035559475, 0.0, 0.8161468505859375, 0.0, 0.0, 0.0, 0.0, 0.0, 0.0, 0.22222460806369781, 0.8528792858123779, 0.0, 0.0, 2.7163095474243164, 1.8471561670303345, 0.0, 0.0, 0.0, 0.0, 0.5508758425712585, 0.13939900696277618, 0.20902228355407715, 0.0, 0.0, 0.0, 0.505649745464325, 2.567289352416992, 0.02744952030479908, 0.0, 0.0, 0.09020715951919556, 0.0, 0.0, 0.02111099287867546, 0.0, 0.27814027667045593, 0.06710034608840942, 0.0, 0.33635902404785156, 0.0, 0.20589153468608856, 0.0, 1.0390251874923706, 0.0, 0.0, 0.0, 0.838919997215271, 1.6852362155914307, 0.6658892035484314, 0.013014102354645729, 0.9405685663223267, 0.0, 0.04133559390902519, 0.7148193120956421, 0.0, 0.012371588498353958, 0.0, 0.03987976163625717, 0.17584261298179626, 0.1766311526298523, 0.0, 0.773804247379303, 0.0, 0.937227189540863, 0.0018245151732116938, 0.17915242910385132, 0.05129445344209671, 0.0, 0.0, 0.0, 1.4134207963943481, 2.242257833480835, 0.0, 0.007641889620572329, 0.0, 0.0, 0.0, 0.0346238873898983, 0.6718414425849915, 0.0, 0.0, 0.1359790712594986, 3.4681649208068848, 0.393523633480072, 0.0, 0.2837311625480652, 0.5981937050819397, 0.0, 0.0, 0.034289952367544174, 0.01658504828810692, 0.18012875318527222, 0.0, 0.05223273113369942, 0.0, 0.003454490564763546, 0.024670658633112907, 0.04633438214659691, 0.5949936509132385, 0.38322269916534424, 0.0, 0.0, 0.0, 0.013310384005308151, 0.0, 0.0, 0.0, 0.0, 0.0, 0.0, 0.04529833421111107, 0.009411374107003212, 0.0, 0.006083566229790449, 0.0, 0.0, 0.0, 0.27496734261512756, 0.0, 0.11548122018575668, 2.3810763359069824, 0.30374759435653687, 0.6504244208335876, 0.0, 1.165732741355896, 2.1780502796173096, 0.0, 2.3272688388824463, 0.0, 0.0, 1.3307280540466309, 0.0009478646679781377, 0.0, 0.0, 0.057258643209934235, 0.2634766697883606, 0.6535501480102539, 0.5429905652999878, 0.5663531422615051, 0.0, 0.023719368502497673, 0.0, 0.0, 0.21533051133155823, 1.224151611328125, 0.46917545795440674, 0.1268230676651001, 0.0, 0.0, 0.03583979234099388, 0.0, 0.0, 0.6192024350166321, 0.11971312016248703, 0.6753323674201965, 1.6263668537139893, 0.0, 0.0, 0.08698374778032303, 0.0, 0.0, 0.048949066549539566, 0.0, 0.11999601870775223, 0.0, 1.114121437072754, 0.11762087792158127, 0.0, 0.09613829851150513, 0.0, 0.16307944059371948, 0.0, 0.0, 0.08500910550355911, 0.017358409240841866, 1.984164834022522, 0.0, 1.0187125205993652, 0.0, 0.12852811813354492, 0.028599174693226814, 0.0, 0.21126455068588257, 1.0797743797302246, 0.0, 0.5175703763961792, 0.9144949913024902, 1.3976318836212158, 0.05217919126152992, 0.0922010987997055, 0.19678477942943573, 0.03167710080742836, 0.0, 0.0, 0.1136583685874939, 1.4103915691375732, 0.0140838623046875, 0.2046373337507248, 0.08617906272411346, 0.0, 0.7935503125190735, 0.2771887481212616, 0.0, 0.0, 0.0, 0.2326848953962326, 0.46954113245010376, 0.7059142589569092, 0.0, 0.0, 0.22816576063632965, 0.12730641663074493, 0.0, 0.0, 1.632248044013977, 0.01929187774658203, 3.4120869636535645, 0.0, 1.9872043132781982, 2.402878999710083, 0.0, 0.1974571943283081, 0.03688766434788704, 2.5433316230773926, 0.14404921233654022, 0.0, 0.05418321117758751, 1.521794080734253, 0.05324487388134003, 0.0, 0.0, 0.0, 0.0, 0.0, 0.0, 0.04000440984964371, 0.0, 0.0, 0.2080831378698349, 0.5733138918876648, 0.23965780436992645, 0.5381284952163696, 0.0, 0.07944924384355545, 1.306455373764038, 0.0, 0.11826178431510925, 0.0, 0.8352561593055725, 0.0, 0.0, 0.0, 0.7080286145210266, 0.0, 0.9947448968887329, 0.0, 1.760201096534729, 0.04266601800918579, 0.028133410960435867, 0.07961592078208923, 0.38140159845352173, 0.007164312992244959, 0.0, 0.03082636371254921, 0.02661021798849106, 0.0, 0.0, 0.033560022711753845, 0.20482546091079712, 0.0, 0.0, 0.006537417881190777, 0.0])"
     ]
    }
   ],
   "source": [
    "features_df.head()"
   ]
  },
  {
   "cell_type": "markdown",
   "id": "dbf7a580-58f6-4d42-a47e-d45d4dd2ea05",
   "metadata": {},
   "source": [
    "### 4.10.6 Chargement des données enregistrées et validation du résultat"
   ]
  },
  {
   "cell_type": "code",
   "execution_count": 23,
   "id": "6befde14-eb13-49ff-837a-f30ca0c66dc8",
   "metadata": {},
   "outputs": [
    {
     "data": {
      "application/vnd.jupyter.widget-view+json": {
       "model_id": "",
       "version_major": 2,
       "version_minor": 0
      },
      "text/plain": [
       "FloatProgress(value=0.0, bar_style='info', description='Progress:', layout=Layout(height='25px', width='50%'),…"
      ]
     },
     "metadata": {},
     "output_type": "display_data"
    }
   ],
   "source": [
    "# read the result back\n",
    "df = pd.read_parquet(PATH_Result, engine=\"pyarrow\")"
   ]
  },
  {
   "cell_type": "code",
   "execution_count": 24,
   "id": "342a7486-a768-4ccc-852e-c26da6ff289b",
   "metadata": {},
   "outputs": [
    {
     "data": {
      "application/vnd.jupyter.widget-view+json": {
       "model_id": "",
       "version_major": 2,
       "version_minor": 0
      },
      "text/plain": [
       "FloatProgress(value=0.0, bar_style='info', description='Progress:', layout=Layout(height='25px', width='50%'),…"
      ]
     },
     "metadata": {},
     "output_type": "display_data"
    },
    {
     "name": "stdout",
     "output_type": "stream",
     "text": [
      "                                                path  ...                                           features\n",
      "0  s3://carl-p8-v2/sample_test/Cantaloupe 1/r_124...  ...  [0.013953569, 0.0, 0.0, 0.0, 0.0, 0.5506894, 0...\n",
      "1   s3://carl-p8-v2/sample_test/Strawberry/3_100.jpg  ...  [1.5514314, 0.0, 0.0, 0.0, 0.03954255, 0.14615...\n",
      "2  s3://carl-p8-v2/sample_test/Cantaloupe 1/r_137...  ...  [0.0, 0.0, 0.0, 0.0, 0.0, 0.22503383, 0.332275...\n",
      "3  s3://carl-p8-v2/sample_test/Nectarine/r_9_100.jpg  ...  [0.34195328, 0.0, 0.0, 0.0, 0.0, 0.0, 0.983408...\n",
      "4  s3://carl-p8-v2/sample_test/Nectarine/r_321_10...  ...  [0.34154153, 0.0, 0.0, 0.0, 0.0, 0.0, 1.401063...\n",
      "\n",
      "[5 rows x 3 columns]"
     ]
    }
   ],
   "source": [
    "df.head()"
   ]
  },
  {
   "cell_type": "code",
   "execution_count": 25,
   "id": "4bc01d83-f344-4c78-ad1b-ab6e8641eb70",
   "metadata": {},
   "outputs": [
    {
     "data": {
      "application/vnd.jupyter.widget-view+json": {
       "model_id": "",
       "version_major": 2,
       "version_minor": 0
      },
      "text/plain": [
       "FloatProgress(value=0.0, bar_style='info', description='Progress:', layout=Layout(height='25px', width='50%'),…"
      ]
     },
     "metadata": {},
     "output_type": "display_data"
    },
    {
     "name": "stdout",
     "output_type": "stream",
     "text": [
      "(1280,)"
     ]
    }
   ],
   "source": [
    "df.loc[0, \"features\"].shape"
   ]
  },
  {
   "cell_type": "code",
   "execution_count": 26,
   "id": "172a71d5-8b90-40f3-bbfc-8684b42ae33c",
   "metadata": {},
   "outputs": [
    {
     "data": {
      "application/vnd.jupyter.widget-view+json": {
       "model_id": "",
       "version_major": 2,
       "version_minor": 0
      },
      "text/plain": [
       "FloatProgress(value=0.0, bar_style='info', description='Progress:', layout=Layout(height='25px', width='50%'),…"
      ]
     },
     "metadata": {},
     "output_type": "display_data"
    },
    {
     "name": "stdout",
     "output_type": "stream",
     "text": [
      "(2142, 3)"
     ]
    }
   ],
   "source": [
    "df.shape"
   ]
  },
  {
   "cell_type": "markdown",
   "id": "5a86bce8",
   "metadata": {},
   "source": [
    "# 5. PCA"
   ]
  },
  {
   "cell_type": "code",
   "execution_count": 27,
   "id": "39e2f096",
   "metadata": {},
   "outputs": [
    {
     "data": {
      "application/vnd.jupyter.widget-view+json": {
       "model_id": "",
       "version_major": 2,
       "version_minor": 0
      },
      "text/plain": [
       "FloatProgress(value=0.0, bar_style='info', description='Progress:', layout=Layout(height='25px', width='50%'),…"
      ]
     },
     "metadata": {},
     "output_type": "display_data"
    }
   ],
   "source": [
    "# \"features\" column created by featurize_udf is of type ArrayType\n",
    "# pyspark.mk needs a VectorUDT instead\n",
    "\n",
    "# Define UDF to convert ArrayType to VectorUDT\n",
    "array_to_vector_udf = udf(lambda vs: Vectors.dense(vs), VectorUDT())\n",
    "\n",
    "# Apply the UDF to the \"features\" column\n",
    "features_df = features_df.withColumn(\"features\", array_to_vector_udf(\"features\"))"
   ]
  },
  {
   "cell_type": "code",
   "execution_count": 28,
   "id": "f79d81b5",
   "metadata": {},
   "outputs": [
    {
     "data": {
      "application/vnd.jupyter.widget-view+json": {
       "model_id": "",
       "version_major": 2,
       "version_minor": 0
      },
      "text/plain": [
       "FloatProgress(value=0.0, bar_style='info', description='Progress:', layout=Layout(height='25px', width='50%'),…"
      ]
     },
     "metadata": {},
     "output_type": "display_data"
    }
   ],
   "source": [
    "# scale the data\n",
    "scaler = StandardScaler(\n",
    "    inputCol=\"features\", outputCol=\"scaledFeatures\", withStd=True, withMean=True\n",
    ")\n",
    "scalerModel = scaler.fit(features_df)\n",
    "scaledData = scalerModel.transform(features_df)"
   ]
  },
  {
   "cell_type": "code",
   "execution_count": 29,
   "id": "80b46d95",
   "metadata": {},
   "outputs": [
    {
     "data": {
      "application/vnd.jupyter.widget-view+json": {
       "model_id": "",
       "version_major": 2,
       "version_minor": 0
      },
      "text/plain": [
       "FloatProgress(value=0.0, bar_style='info', description='Progress:', layout=Layout(height='25px', width='50%'),…"
      ]
     },
     "metadata": {},
     "output_type": "display_data"
    }
   ],
   "source": [
    "# apply PCA\n",
    "N_PC = 100\n",
    "pca = PCA(k=N_PC, inputCol=\"scaledFeatures\", outputCol=\"pcaFeatures\")\n",
    "pcaModel = pca.fit(scaledData)\n",
    "pcaData = pcaModel.transform(scaledData).select(\"pcaFeatures\")"
   ]
  },
  {
   "cell_type": "code",
   "execution_count": 30,
   "id": "e9711b8e",
   "metadata": {},
   "outputs": [
    {
     "data": {
      "application/vnd.jupyter.widget-view+json": {
       "model_id": "",
       "version_major": 2,
       "version_minor": 0
      },
      "text/plain": [
       "FloatProgress(value=0.0, bar_style='info', description='Progress:', layout=Layout(height='25px', width='50%'),…"
      ]
     },
     "metadata": {},
     "output_type": "display_data"
    }
   ],
   "source": [
    "# print((pcaData.count(), len(pcaData.columns)))"
   ]
  },
  {
   "cell_type": "code",
   "execution_count": 31,
   "id": "5d95a8bf-ae33-489c-a5eb-05b8a546bec8",
   "metadata": {},
   "outputs": [
    {
     "data": {
      "application/vnd.jupyter.widget-view+json": {
       "model_id": "",
       "version_major": 2,
       "version_minor": 0
      },
      "text/plain": [
       "FloatProgress(value=0.0, bar_style='info', description='Progress:', layout=Layout(height='25px', width='50%'),…"
      ]
     },
     "metadata": {},
     "output_type": "display_data"
    },
    {
     "name": "stdout",
     "output_type": "stream",
     "text": [
      "100 principal components explain 0.893703977907596 % of the variance"
     ]
    }
   ],
   "source": [
    "expVariance = pcaModel.explainedVariance\n",
    "# print(expVariance)\n",
    "# pd.Series(v for v in expVariance).cumsum()\n",
    "\n",
    "# total explained Variance\n",
    "print(\n",
    "    f\"{N_PC} principal components explain {pd.Series(v for v in expVariance).sum()} % of the variance\"\n",
    ")"
   ]
  },
  {
   "cell_type": "code",
   "execution_count": 32,
   "id": "681bfcd4",
   "metadata": {},
   "outputs": [
    {
     "data": {
      "application/vnd.jupyter.widget-view+json": {
       "model_id": "",
       "version_major": 2,
       "version_minor": 0
      },
      "text/plain": [
       "FloatProgress(value=0.0, bar_style='info', description='Progress:', layout=Layout(height='25px', width='50%'),…"
      ]
     },
     "metadata": {},
     "output_type": "display_data"
    },
    {
     "name": "stdout",
     "output_type": "stream",
     "text": [
      "Row(path='s3://carl-p8-v2/sample_test/Cantaloupe 1/r_74_100.jpg', label='Cantaloupe 1', features=DenseVector([0.0286, 0.0, 0.0, 0.0, 0.0, 0.1058, 0.0091, 0.0324, 0.2257, 0.0, 0.0, 0.1959, 0.5782, 0.0, 0.0385, 1.876, 0.0, 0.0143, 0.036, 0.0, 0.0, 0.0, 0.0437, 0.0, 0.0, 0.0, 0.0, 0.0, 0.4089, 0.2881, 0.8129, 0.0, 0.0, 0.0, 0.0, 0.0, 1.1513, 1.8927, 3.9957, 0.0, 0.0006, 0.0, 0.0, 0.0575, 0.0994, 0.0, 1.0817, 2.0527, 0.0629, 0.0164, 0.0265, 0.0116, 0.0, 0.0, 0.0, 1.409, 0.2121, 0.0, 0.0, 0.0, 0.0, 0.3829, 0.0945, 0.0, 0.36, 0.0873, 0.246, 0.0, 0.0755, 1.4731, 0.0, 0.0, 0.0, 0.0062, 0.361, 0.0, 0.0241, 0.2382, 0.0, 0.0, 0.0, 0.3742, 0.0, 0.0162, 0.0253, 0.1141, 0.0, 0.0, 0.0279, 1.2891, 0.211, 0.2493, 0.0, 0.0, 0.0, 0.0, 0.0, 0.0859, 0.0334, 0.0245, 0.1333, 0.7358, 0.0, 0.0, 0.0, 0.0141, 0.5824, 0.9385, 0.0, 0.0, 0.0, 0.0047, 0.0, 1.8022, 0.2103, 0.1035, 0.1215, 0.0132, 0.0267, 0.048, 0.089, 0.0163, 0.0, 0.8581, 0.2124, 0.027, 2.4896, 1.1592, 0.5917, 0.2381, 0.0, 1.9542, 0.0, 0.0, 0.0, 0.0347, 0.0, 0.2025, 0.0229, 0.1431, 0.0, 0.0014, 0.0, 0.0797, 0.0, 0.3259, 0.0641, 0.6777, 0.0702, 0.5469, 0.3721, 0.0, 0.3188, 0.0, 0.0442, 0.1582, 0.0, 0.0, 0.0, 0.0, 0.0, 1.2031, 0.0, 0.0306, 0.1163, 1.9016, 0.0886, 0.2513, 0.9575, 0.2543, 1.0736, 0.0, 0.0, 0.0, 0.0912, 0.7396, 1.3009, 0.1166, 0.0, 0.0, 0.0, 0.0, 0.5624, 0.0, 1.0682, 0.5256, 0.0647, 0.1219, 0.0, 0.0, 0.0, 0.0, 0.0, 0.0, 0.2734, 0.4387, 0.0, 0.0, 0.0, 1.6383, 0.0, 0.0, 0.018, 1.9627, 0.2196, 0.1411, 0.0, 0.0047, 0.1376, 0.0947, 0.0, 0.0, 0.0, 0.184, 0.0, 1.7595, 1.2182, 0.0, 0.0, 0.1408, 0.6212, 0.0, 0.5365, 0.1829, 0.0, 0.0011, 0.4376, 0.0, 0.5847, 0.2537, 0.0, 0.3723, 0.0, 0.0742, 0.0, 0.0582, 0.4247, 0.0, 0.0359, 1.9733, 1.0418, 0.0, 0.0, 0.0, 0.5865, 0.2854, 0.9862, 0.0636, 0.0, 1.8965, 0.5268, 0.0027, 0.0202, 0.0, 0.1414, 1.5007, 2.0094, 1.3479, 0.0, 0.0, 0.0, 3.8936, 0.0497, 0.0, 0.0, 0.0, 0.0, 0.8886, 0.9202, 0.8975, 0.3272, 0.0221, 0.1862, 0.2073, 0.2132, 0.0582, 0.0, 0.0, 0.1914, 0.0, 0.0, 0.1015, 1.9893, 0.3774, 0.2388, 1.1964, 0.0486, 0.0, 0.0, 0.0, 0.0, 0.0, 0.0, 0.0, 0.0, 0.6493, 0.004, 0.0568, 0.0, 0.0, 0.0, 0.2462, 0.0, 0.038, 0.1285, 0.11, 0.0, 0.0, 0.1733, 0.0, 3.3912, 0.1604, 0.0183, 0.0504, 0.0, 0.2449, 0.2241, 0.0, 0.0, 0.9474, 0.4113, 0.4527, 0.1512, 0.0026, 0.0, 0.0142, 0.0, 0.0, 0.0, 0.1122, 0.0, 0.0334, 0.0982, 0.5819, 0.1018, 0.001, 0.3005, 0.0064, 0.0, 0.594, 0.0, 0.0, 0.0, 0.0612, 0.3282, 2.7005, 0.0, 0.0, 0.6198, 0.0487, 0.0, 0.0462, 0.0, 3.0196, 0.0, 0.0, 0.0, 0.0125, 0.0216, 0.0, 0.0291, 0.2432, 0.0199, 0.6054, 0.1295, 2.8416, 2.0826, 0.0, 0.0, 0.0, 0.0078, 0.001, 0.0, 0.0309, 1.5693, 0.0, 0.0, 0.5126, 0.0, 0.0, 0.0, 0.0, 0.0, 0.2142, 0.0, 0.0, 0.0249, 0.0, 0.6438, 0.8006, 0.7094, 0.0, 0.0, 0.0, 0.0954, 0.135, 0.0504, 0.0, 0.0, 0.0, 0.0, 1.0923, 0.0118, 0.0, 0.1242, 1.292, 0.2627, 0.006, 0.2517, 0.111, 0.0007, 4.3108, 0.073, 0.0466, 0.0239, 0.0666, 0.0241, 1.028, 0.0144, 0.3562, 0.1764, 0.5768, 0.0, 0.0, 0.0, 0.2043, 0.1887, 0.0114, 0.0, 0.0, 0.0522, 0.0, 0.0, 0.0, 0.0639, 0.0286, 0.0, 0.0, 0.0, 0.0, 0.0, 0.0, 1.2158, 0.9719, 0.0024, 0.404, 0.0095, 0.3509, 0.1456, 0.1027, 0.0, 0.3459, 0.1396, 0.0, 0.1365, 0.8647, 0.0, 0.0, 0.0668, 0.0, 1.0796, 0.0008, 0.0, 1.1439, 0.0431, 0.0, 0.7153, 0.0, 0.0795, 0.4916, 0.0071, 0.0, 0.0, 0.1312, 0.0, 0.0, 0.0508, 0.0222, 0.0, 0.2816, 0.0, 0.0, 0.0, 0.0, 0.9985, 1.728, 2.7335, 0.0, 0.0, 0.212, 0.0306, 0.0, 0.0, 0.6344, 1.5036, 0.2931, 2.0168, 0.5447, 0.0, 0.0, 3.8076, 1.637, 0.0, 0.0, 0.1828, 0.0, 0.0051, 0.0, 0.4421, 0.0, 0.0, 0.0, 0.0, 2.0607, 0.0, 1.2556, 0.0491, 0.0517, 0.5904, 0.0, 0.2906, 0.4801, 0.0, 0.2772, 0.1528, 0.2796, 0.0, 0.0, 2.3841, 0.0, 0.066, 1.5036, 0.0146, 0.3438, 0.108, 0.1282, 0.0, 0.0, 0.036, 0.0, 0.0, 0.0066, 0.2993, 0.0023, 0.0, 0.0, 0.0041, 0.0276, 0.0143, 2.4709, 0.082, 0.0, 0.1858, 0.2831, 0.2679, 0.0, 0.0, 0.0, 0.0293, 1.4715, 0.0, 0.0, 0.7767, 0.0, 0.0, 0.0, 0.608, 0.0, 0.0, 0.0, 0.0, 0.1768, 0.0, 0.0, 0.3262, 0.0181, 0.013, 0.0, 0.0, 0.0, 0.0, 0.0, 0.0, 0.0, 0.0, 0.1182, 0.0604, 0.0, 0.0728, 0.0, 0.0534, 0.0, 0.2512, 2.804, 0.2585, 0.212, 0.0, 0.5424, 0.1124, 0.0, 0.3211, 0.0451, 1.0695, 0.0, 0.069, 0.0, 0.0, 0.0, 0.6483, 0.0, 1.2114, 0.0274, 1.0342, 0.0, 0.3577, 0.0, 0.1382, 0.1355, 0.0, 0.0, 0.1515, 0.0, 1.0983, 0.0, 0.0, 0.0, 0.0, 0.0, 0.0, 0.0, 0.2225, 0.1883, 0.0, 0.0969, 0.0, 0.0, 0.0, 2.2841, 0.2199, 3.3468, 0.6336, 0.0, 0.037, 0.0, 0.8595, 0.0031, 0.0, 0.0, 0.0408, 0.0, 0.1598, 0.0143, 0.0, 0.0176, 1.4375, 0.0, 0.4805, 0.0, 0.0, 0.2403, 1.0347, 0.0592, 0.0, 0.0, 0.0, 0.3185, 0.0, 0.047, 0.0003, 0.0147, 0.0125, 0.4375, 1.0749, 0.0, 0.1582, 1.981, 0.0, 0.6688, 0.0732, 0.0424, 0.6092, 0.0, 0.0, 0.0, 0.0, 0.0, 0.6356, 0.1417, 0.1496, 0.0139, 0.1003, 0.0, 0.0, 0.0, 0.1167, 0.1016, 0.0, 0.0, 0.1337, 0.0, 0.2657, 0.0659, 0.06, 0.0, 0.0, 0.0, 0.0, 0.0108, 0.3764, 0.0131, 0.0, 0.132, 0.0205, 0.0, 0.2482, 0.3938, 0.9121, 0.0242, 0.0, 0.2902, 0.0, 0.0, 0.1262, 0.0, 0.0084, 0.0, 0.0133, 0.0, 0.0107, 0.2699, 0.2327, 0.0561, 0.747, 0.0, 0.0169, 1.4175, 0.0, 0.0, 0.0646, 0.0, 0.1288, 0.6956, 0.2886, 1.4497, 0.0, 0.0, 0.3168, 0.7688, 0.008, 0.0284, 0.0, 0.0, 0.5867, 2.6958, 0.0751, 0.0, 0.6717, 0.0714, 0.0783, 0.0422, 0.1514, 0.8717, 0.0, 0.1593, 0.0, 0.0, 0.5729, 0.1077, 0.0995, 0.0, 0.0139, 0.0736, 0.0, 0.0412, 0.0, 0.1741, 0.1361, 0.0, 0.0, 0.0, 0.0, 0.1007, 0.0, 0.0452, 0.0, 0.1474, 0.0, 0.0, 0.0, 0.0853, 0.2196, 0.0609, 0.1216, 0.0, 0.0, 0.0162, 0.0, 0.0331, 0.0, 0.0336, 0.0529, 0.0426, 0.0, 0.0, 0.2176, 0.0, 1.85, 0.0, 0.3747, 0.1032, 0.0, 0.0, 0.0672, 0.0, 1.1365, 0.1987, 0.057, 0.0, 0.0, 0.5321, 0.3853, 0.2106, 0.0, 0.0025, 0.1026, 0.0, 0.0, 2.9749, 0.0, 0.5722, 0.0, 0.1881, 0.1584, 0.0, 0.0437, 0.6152, 0.016, 0.6538, 1.275, 0.3698, 0.0, 0.0503, 0.1222, 0.0, 0.7998, 1.2097, 0.0, 0.9231, 0.0, 0.0288, 0.0007, 1.8717, 0.1212, 1.0225, 0.598, 0.1462, 0.2771, 0.0, 0.0882, 0.0202, 0.3176, 0.034, 0.0282, 0.5048, 0.0, 0.0, 0.0, 0.0, 0.0128, 0.0, 0.0, 0.0064, 0.0645, 1.0523, 1.8181, 0.0165, 0.0, 2.3288, 0.2518, 0.1525, 0.0, 0.0363, 0.0, 0.3181, 0.0, 1.6681, 0.3107, 0.1636, 0.2843, 0.0, 0.4, 0.1794, 0.0, 0.0379, 0.0, 0.0, 0.0405, 0.0319, 0.6377, 0.0, 0.0597, 0.0, 0.0, 0.0, 0.7675, 0.0, 0.0, 0.0, 0.0, 0.2268, 0.0, 0.0, 0.0, 0.6744, 0.275, 0.0, 0.0, 1.0648, 0.5988, 0.2465, 0.0, 0.0892, 0.0096, 0.0, 0.1408, 0.0924, 0.4524, 0.8961, 0.0, 0.0, 0.0, 0.0369, 0.0, 0.1342, 0.0, 0.4197, 0.7644, 0.0, 0.0221, 0.9481, 0.0181, 0.0229, 0.0, 0.7961, 0.0647, 0.0246, 2.202, 0.0, 0.0, 0.0, 0.026, 0.0, 0.0, 0.0, 0.0, 0.1132, 0.1437, 0.0376, 0.0, 0.1102, 0.0938, 0.3086, 0.0627, 0.0, 0.7895, 0.0, 0.0, 0.0, 0.0, 0.0, 0.3778, 0.6861, 0.0575, 3.8191, 0.0292, 0.0, 0.3455, 0.0, 0.1463, 0.0, 0.9586, 0.0, 0.0823, 0.0, 0.0, 0.0, 0.0, 0.0, 0.0, 0.0, 0.4221, 0.2074, 0.0, 0.0, 0.125, 0.0, 0.0, 0.0, 0.0, 0.7776, 0.0525, 0.1323, 0.0, 0.0, 0.0, 0.0, 0.0, 0.0, 0.0176, 0.0, 0.0, 0.0, 0.0, 0.1029, 0.078, 0.0, 0.1325, 0.2871, 0.0, 0.0253, 1.0721, 0.8794, 1.7929, 0.0158, 0.0, 0.0, 0.5406, 0.0, 0.05, 0.0, 0.0, 0.0, 0.8666, 0.1554, 0.5694, 0.0, 0.0, 0.0, 0.0409, 0.5515, 0.2708, 0.0, 0.0, 0.0484, 0.0, 0.1421, 0.0, 0.0145, 0.0359, 0.028, 0.0, 0.0, 0.3808, 0.0086, 0.7829, 0.0407, 0.0022, 1.8414, 0.0, 0.0, 0.6414, 0.1401, 0.0, 0.0037, 0.6017, 0.4628, 0.0142, 0.0, 0.5437, 0.0, 0.0, 0.0, 0.0, 1.9695, 0.1616, 0.0863, 0.0, 0.3417, 0.2472, 0.0, 0.0, 0.0983, 0.0, 0.1462, 0.7409, 0.0, 0.0, 0.4399, 0.0644, 1.6229, 0.0455, 0.2873, 0.0, 0.1631, 0.0138, 0.0, 0.4909, 0.4308, 0.2705, 0.1585, 0.0, 0.0, 0.0, 0.0, 1.0202, 0.0, 0.4069, 0.0, 0.0, 0.0, 0.0, 0.0, 0.0091, 0.0, 0.0385, 0.0254, 0.0, 1.8677, 0.0, 0.0309, 0.4801, 0.0, 0.0225, 0.655, 0.3082, 0.0, 0.0228, 1.1348, 0.0, 0.0, 0.0, 0.3291, 0.0, 0.0, 2.9751, 0.0, 0.0303, 0.0, 0.0866, 0.0, 0.0929, 0.0, 0.0004, 0.0043, 0.0138, 0.0683, 0.0, 0.0043, 0.0087, 0.0223, 1.5522, 0.0, 0.9911, 0.0, 0.1682, 0.2709, 1.7207, 1.1234, 0.8985, 0.0095, 2.6477, 2.1649, 0.0067, 0.0, 0.0039, 0.496, 0.0, 0.553, 0.0, 0.0, 0.0, 0.0, 0.1416, 0.0, 0.0, 0.0, 0.0, 0.0, 0.0, 0.0, 0.0, 2.1235, 0.4153, 0.0, 0.8154, 0.0, 1.0137, 0.3432, 0.0022, 0.0, 0.0, 0.0, 0.0, 0.0, 0.0086, 0.0, 0.0, 0.0785, 0.0229, 0.316, 0.0, 0.5352, 0.0, 2.6149, 0.5425, 0.002, 0.0, 0.0, 0.6359, 0.002, 0.0292, 0.0501, 0.0, 0.0, 0.0163, 0.0, 0.2715, 0.0036, 0.6615, 0.0, 0.6446, 0.2585, 2.1601, 0.2252, 0.515, 1.2761, 0.1276, 0.0, 0.0, 0.2204, 0.2104, 0.0289, 0.068, 0.0, 0.1891, 0.7841, 0.0, 0.0431, 0.0, 0.4119, 0.0, 0.0, 0.0, 0.0059, 0.0, 0.022, 0.6996, 0.6842, 0.0284, 0.0075, 0.0089, 0.0, 0.6262, 0.3543, 0.0, 0.099, 0.0, 0.1512, 0.1347, 0.8757, 0.0, 1.1064, 0.0, 0.088, 0.0361, 0.0002, 0.0, 0.0147, 0.0, 1.528, 0.0456, 0.0, 0.0, 1.1236, 0.0, 0.0101, 0.0, 0.0, 0.1612, 0.0]))"
     ]
    }
   ],
   "source": [
    "features_df.head()"
   ]
  },
  {
   "cell_type": "code",
   "execution_count": 33,
   "id": "6d87c300",
   "metadata": {},
   "outputs": [
    {
     "data": {
      "application/vnd.jupyter.widget-view+json": {
       "model_id": "",
       "version_major": 2,
       "version_minor": 0
      },
      "text/plain": [
       "FloatProgress(value=0.0, bar_style='info', description='Progress:', layout=Layout(height='25px', width='50%'),…"
      ]
     },
     "metadata": {},
     "output_type": "display_data"
    },
    {
     "name": "stdout",
     "output_type": "stream",
     "text": [
      "Row(pcaFeatures=DenseVector([4.817, 10.1565, -8.7916, -2.3085, 0.6933, -5.8004, 2.7017, -4.1868, -3.7349, 5.9635, -0.1706, 6.6071, 0.1985, 4.8581, 1.3778, -13.1918, -5.7252, 0.2149, -6.0013, -4.6075, -3.2325, -6.0244, 0.1507, -2.8739, 0.6538, 3.2298, -0.7357, 0.5593, 3.5934, 1.6261, -0.8908, 1.9552, 0.2362, 0.477, -0.7897, 0.0026, -0.0494, -0.5544, 0.0044, 0.0847, -0.5627, -0.4011, 0.2914, 0.3929, -0.3706, 0.444, 0.4852, -0.9169, 2.3752, -0.0589, 0.381, 0.3918, 0.411, 0.0898, 0.3579, 0.3258, -0.5464, -0.865, -0.7167, 0.8015, -0.4396, 0.5868, 0.8955, 0.1206, -0.2741, -0.4252, 0.0626, -0.5955, -0.1078, -1.4361, -0.3027, 1.0371, 0.9828, -0.2446, 0.6892, 0.1384, -0.7541, 0.2422, -0.2402, -0.8682, 0.0566, -0.4422, 0.3927, -0.2899, 0.3739, 1.6487, -0.1699, -1.0403, -0.5595, 1.0256, 0.1569, 0.0783, 0.4164, 0.5777, -0.0193, -0.3478, -0.8122, -0.8666, -0.3156, 0.3367]))"
     ]
    }
   ],
   "source": [
    "pcaData.head()"
   ]
  },
  {
   "cell_type": "markdown",
   "id": "a3645c91-4bc5-428d-a80f-9aec2d995e6f",
   "metadata": {},
   "source": [
    "# 6. Save PCA results"
   ]
  },
  {
   "cell_type": "code",
   "execution_count": 34,
   "id": "5a0169e1",
   "metadata": {},
   "outputs": [
    {
     "data": {
      "application/vnd.jupyter.widget-view+json": {
       "model_id": "",
       "version_major": 2,
       "version_minor": 0
      },
      "text/plain": [
       "FloatProgress(value=0.0, bar_style='info', description='Progress:', layout=Layout(height='25px', width='50%'),…"
      ]
     },
     "metadata": {},
     "output_type": "display_data"
    }
   ],
   "source": [
    "def split_array_to_list(col):\n",
    "    def to_list(v):\n",
    "        return v.toArray().tolist()\n",
    "    return udf(to_list, ArrayType(DoubleType()))(col)"
   ]
  },
  {
   "cell_type": "code",
   "execution_count": 35,
   "id": "d2501507",
   "metadata": {},
   "outputs": [
    {
     "data": {
      "application/vnd.jupyter.widget-view+json": {
       "model_id": "",
       "version_major": 2,
       "version_minor": 0
      },
      "text/plain": [
       "FloatProgress(value=0.0, bar_style='info', description='Progress:', layout=Layout(height='25px', width='50%'),…"
      ]
     },
     "metadata": {},
     "output_type": "display_data"
    }
   ],
   "source": [
    "# split feature vector into new columns\n",
    "pcaSplit = pcaData.withColumn(\"pcaFeatures\", split_array_to_list(col(\"pcaFeatures\"))).select(\n",
    "    col(\"*\"), *[col(\"pcaFeatures\")[i] for i in range(N_PC)]\n",
    ")"
   ]
  },
  {
   "cell_type": "code",
   "execution_count": 36,
   "id": "8670e4f5-4cf0-4d98-bf7d-1e85d67870e8",
   "metadata": {},
   "outputs": [
    {
     "data": {
      "application/vnd.jupyter.widget-view+json": {
       "model_id": "",
       "version_major": 2,
       "version_minor": 0
      },
      "text/plain": [
       "FloatProgress(value=0.0, bar_style='info', description='Progress:', layout=Layout(height='25px', width='50%'),…"
      ]
     },
     "metadata": {},
     "output_type": "display_data"
    }
   ],
   "source": [
    "# concat pca features to image dataframe\n",
    "results_concat = features_df.join(pcaSplit)"
   ]
  },
  {
   "cell_type": "code",
   "execution_count": 37,
   "id": "2bfd530f",
   "metadata": {
    "scrolled": true
   },
   "outputs": [
    {
     "data": {
      "application/vnd.jupyter.widget-view+json": {
       "model_id": "",
       "version_major": 2,
       "version_minor": 0
      },
      "text/plain": [
       "FloatProgress(value=0.0, bar_style='info', description='Progress:', layout=Layout(height='25px', width='50%'),…"
      ]
     },
     "metadata": {},
     "output_type": "display_data"
    },
    {
     "name": "stdout",
     "output_type": "stream",
     "text": [
      "Row(path='s3://carl-p8-v2/sample_test/Cantaloupe 1/r_124_100.jpg', label='Cantaloupe 1', features=DenseVector([0.014, 0.0, 0.0, 0.0, 0.0, 0.5507, 0.1115, 0.0, 0.0813, 0.0, 0.0, 0.0282, 0.0, 0.0, 0.0277, 2.242, 0.0, 0.0266, 0.0387, 0.0, 0.0, 0.0, 0.0, 0.0, 0.0, 0.0, 0.0, 0.0, 0.0074, 0.381, 0.2226, 0.0, 0.0, 0.0, 0.0, 0.0, 0.5949, 0.9085, 3.4851, 0.0, 0.0, 0.0, 0.0, 0.0, 0.0561, 0.0, 0.3697, 1.5789, 0.0987, 0.0, 0.005, 0.7226, 0.0, 0.0, 0.0, 1.1808, 0.1518, 0.0, 0.0, 0.0, 0.0, 0.0699, 0.0006, 0.0, 0.2282, 0.0237, 0.0015, 0.0027, 0.0, 0.7861, 0.0, 0.0, 0.0, 0.0022, 1.2454, 0.0, 0.0, 0.0, 0.0, 0.0, 0.0, 0.2586, 0.0, 0.0, 0.0, 0.0205, 0.0, 0.0, 0.0, 1.5038, 0.13, 0.0136, 0.0, 0.0, 0.0816, 0.0, 0.0, 0.0, 0.0, 0.0, 0.6053, 0.0026, 0.0, 0.0, 0.0, 0.0, 0.6059, 1.0926, 0.0, 0.0, 0.0, 0.0, 0.0, 1.4723, 0.0, 0.0, 0.3476, 0.0, 0.0085, 0.6557, 0.2722, 0.052, 0.0, 1.3121, 0.0, 0.06, 1.2653, 0.7882, 0.3767, 0.007, 0.0, 2.2866, 0.0, 0.0, 0.8465, 0.0, 0.0, 0.0, 0.666, 0.0046, 0.5948, 0.0, 0.0, 0.0251, 0.0, 0.0, 0.0, 0.1169, 0.0412, 1.446, 0.0, 0.0, 0.0, 0.0, 0.0, 0.0565, 0.0, 0.0, 0.0, 0.0, 0.0, 0.2258, 0.0, 0.4654, 0.3847, 1.1656, 0.0, 0.0081, 0.0604, 0.0693, 0.62, 0.0, 0.0, 0.0, 0.0, 0.2906, 0.3276, 0.2317, 0.0138, 0.0, 0.0, 0.0463, 0.7382, 0.0, 1.7784, 0.7554, 0.0, 0.4296, 0.0, 0.0, 0.0, 0.0006, 0.0, 0.0, 0.0, 0.0, 0.0, 0.0, 0.0, 2.1772, 0.0, 0.0, 0.0, 2.4224, 0.8696, 0.6248, 0.0, 0.0, 0.0225, 0.0, 0.0, 0.0, 0.0, 0.0, 0.0, 0.6062, 0.6437, 0.0, 0.0, 0.0, 0.5734, 0.0, 0.1068, 0.5178, 0.0, 0.0, 0.5213, 0.309, 0.9281, 0.0, 0.0, 0.1889, 0.0, 0.0, 0.0, 0.0502, 0.0057, 0.0, 0.006, 1.1671, 0.0522, 0.0, 0.0, 0.0, 1.2603, 0.087, 1.2847, 0.0474, 0.0, 1.9167, 0.0028, 0.0, 0.0, 0.0, 0.112, 0.2641, 2.1435, 0.6831, 0.0, 0.0, 0.0, 4.4326, 0.0111, 0.0, 0.0175, 0.0, 0.0, 0.4766, 0.09, 0.2595, 0.6946, 0.0, 0.1558, 0.0208, 0.1816, 0.0059, 0.0, 0.0289, 0.0279, 0.0, 0.0784, 0.0, 1.0707, 0.0218, 0.0294, 0.4341, 0.0, 0.0, 0.0, 0.0, 0.0, 0.3813, 0.0, 0.0, 0.0, 0.4476, 0.0, 0.0, 0.0, 0.0, 0.7728, 0.0, 0.0, 0.0, 0.1131, 0.0754, 0.0, 0.0, 0.4634, 0.0, 1.2702, 0.7061, 0.0, 0.0, 0.1036, 0.0, 0.0098, 0.0, 0.0, 0.1996, 0.8798, 0.0314, 0.5645, 0.0424, 0.0, 0.0053, 0.0, 0.0, 0.0, 0.0061, 0.0, 0.0, 0.0248, 0.6933, 0.0, 0.0, 0.3086, 0.0, 0.0, 0.0, 0.0, 0.0, 0.0, 0.0, 0.0403, 3.1891, 0.0, 0.0, 0.0027, 0.0, 0.0, 0.0305, 0.0346, 1.6681, 0.0, 0.0, 0.0, 0.0, 0.0, 0.0, 0.0, 0.0182, 0.0, 0.1955, 0.1603, 1.6688, 0.4556, 0.0, 0.0, 0.0, 0.0, 0.0, 0.0107, 0.0, 2.5165, 0.0, 0.0, 0.0633, 0.0, 0.2038, 0.0, 0.0, 0.0141, 0.0, 0.0, 0.0, 0.3372, 0.0, 0.0715, 0.1282, 0.4978, 0.0, 0.0, 0.0, 0.0, 0.0, 0.1314, 0.0, 0.0, 0.0, 0.0113, 0.6308, 0.0, 0.0, 0.3058, 1.1071, 0.1504, 0.0005, 0.0, 0.0, 0.0, 3.5786, 0.0843, 0.0, 0.0, 0.0, 0.0, 1.9164, 0.0, 0.3373, 0.0422, 0.681, 0.0, 0.0, 0.0, 0.102, 0.6403, 0.0076, 0.0, 0.0, 0.0, 0.0239, 0.0, 0.0, 0.1197, 0.0, 0.0, 0.0, 0.0, 0.0, 0.0, 0.0, 0.3987, 0.6796, 0.2399, 0.29, 0.1032, 0.0569, 0.0254, 0.0, 0.0, 0.0211, 0.0, 0.1112, 0.0272, 0.6072, 0.0, 0.0, 0.2027, 0.0, 0.4355, 0.0, 0.0, 0.1229, 0.0059, 0.0, 0.3175, 0.0, 0.1833, 0.0, 0.0, 0.0, 0.0, 0.0486, 0.1206, 0.0, 0.0206, 0.0, 0.0, 0.1234, 0.0, 0.0, 0.0, 0.0063, 1.4271, 2.2101, 1.9525, 0.0, 0.0, 0.0145, 0.0007, 0.0, 0.0, 0.429, 1.1469, 0.2303, 1.0464, 1.218, 0.0, 0.0, 0.9505, 1.2151, 0.0, 0.0556, 0.0984, 0.0, 0.0, 0.0, 0.0, 0.0, 0.0, 0.0158, 0.0, 1.6733, 0.0, 1.8937, 0.0, 0.0, 0.4734, 0.0, 0.0306, 0.1837, 0.0, 0.3188, 0.0, 0.0, 0.0, 0.0, 1.4456, 0.0, 1.38, 2.6285, 0.0, 0.0045, 0.161, 0.2032, 0.0, 0.0, 0.0, 0.0, 0.0, 0.0233, 1.2512, 0.0, 0.0, 0.1416, 0.0, 0.5357, 0.1593, 3.3696, 0.0, 0.0, 0.0578, 1.3809, 0.0, 0.0, 0.0, 0.0, 0.1763, 1.1626, 0.0018, 0.0, 0.19, 0.0, 0.0, 0.0, 0.483, 0.0, 0.0, 0.0, 0.0, 0.0, 0.0, 0.0, 0.0, 0.0, 0.0, 0.0, 0.0, 0.0, 0.0, 0.0, 0.0, 0.0, 0.0, 0.0504, 0.7593, 0.0, 0.2462, 0.0, 0.0, 0.0145, 0.0, 1.8977, 0.0508, 0.0092, 0.0042, 0.1094, 0.0069, 0.0, 0.0, 0.0535, 0.0943, 0.0, 0.0, 0.0, 0.0, 0.0, 0.0, 0.0, 0.8559, 0.0047, 0.207, 0.0, 0.0, 0.0, 0.0, 0.1007, 0.0, 0.0, 0.0612, 0.0, 0.8303, 0.0969, 0.0, 0.0, 0.0571, 0.0, 0.0, 0.0, 0.0989, 0.0142, 0.0808, 0.0, 0.0, 0.0, 0.0, 2.0447, 0.0249, 3.0905, 0.9822, 0.0399, 0.0454, 0.0, 0.4229, 0.5768, 0.0, 0.0, 0.0, 0.0, 0.0, 0.0, 0.0, 0.0, 0.6005, 0.0, 1.3167, 0.0, 0.0, 0.1453, 0.2876, 0.0, 0.0038, 0.0, 0.0, 0.0, 0.0, 0.0, 0.0, 0.0, 0.4726, 1.2287, 0.8892, 0.0, 0.1476, 2.1929, 0.0, 0.5192, 0.3889, 0.0, 1.5814, 0.0, 0.0, 0.012, 0.0, 0.2075, 2.4759, 0.0675, 0.0, 1.9638, 0.0239, 0.0, 0.0, 0.0, 0.0069, 0.3266, 0.0, 0.0, 0.1803, 0.0, 0.0, 0.0, 0.0148, 0.0, 0.0, 0.0, 0.0, 0.0, 0.3432, 0.0, 0.0, 0.0292, 0.2334, 0.0, 0.0597, 0.0, 1.6294, 0.0648, 0.0, 0.8728, 0.0, 0.1449, 0.0444, 0.0, 0.0, 0.0, 0.0, 0.0, 0.0, 0.0148, 0.0, 0.0017, 0.6348, 0.0, 0.0, 2.0855, 0.0, 0.0, 0.0, 0.0, 0.0068, 0.6565, 0.1524, 0.7899, 0.1543, 0.0032, 0.0863, 0.0556, 0.0, 0.0, 0.0, 0.0, 0.1528, 0.7955, 0.0977, 0.0, 0.4901, 0.0, 0.0, 0.0, 0.0, 0.0472, 0.0, 0.0, 0.0, 0.0, 0.0314, 0.1331, 0.0, 0.0, 1.2578, 0.0033, 0.0, 0.0, 0.0, 0.2725, 0.0087, 0.0, 0.0445, 0.1321, 0.0143, 0.1667, 0.0, 0.015, 0.0, 0.0, 0.0, 0.0, 0.0, 0.0154, 0.0, 0.2935, 0.0, 0.0, 0.0, 0.0873, 0.0, 0.0166, 0.0, 0.1109, 0.2134, 0.0, 0.0, 0.0, 0.0843, 0.0, 2.1831, 0.0, 0.0982, 0.0, 0.0, 0.9976, 0.0, 0.0, 0.1702, 0.1254, 0.0335, 0.0, 0.0, 1.2246, 0.1375, 0.0, 0.0, 0.2067, 0.0591, 0.0, 0.0, 1.5886, 0.0, 0.0669, 0.0, 0.0056, 0.0, 0.0, 0.0, 0.2334, 0.1369, 0.451, 0.489, 0.1426, 0.0, 0.8104, 0.2738, 0.0, 0.4766, 0.2396, 0.0, 0.4203, 0.0, 0.0, 0.0012, 1.6984, 0.0389, 1.6966, 0.2396, 0.0, 0.0025, 0.0, 0.0132, 0.0, 1.2379, 0.4429, 0.1828, 0.0198, 0.0, 0.0, 0.0, 0.0, 0.0424, 0.0, 0.0216, 0.0, 0.1417, 0.0226, 0.968, 0.0, 0.0, 1.3784, 0.0905, 0.0, 0.0, 0.0004, 0.0, 0.1676, 0.0, 1.4863, 0.6135, 0.0193, 1.0017, 0.0, 0.1324, 0.0, 0.0, 0.1246, 0.0, 0.0, 0.0102, 0.0, 0.1032, 0.2373, 0.0, 0.0, 0.0, 0.0, 0.0957, 0.0, 0.0, 0.0, 0.0, 0.305, 0.0, 0.0, 0.0, 0.6065, 0.0, 0.0, 0.0, 0.2754, 0.6973, 0.0, 0.0, 0.0376, 0.1542, 0.0, 0.1279, 0.0, 0.5328, 0.5261, 0.0, 0.0, 0.0, 0.022, 0.0, 0.0313, 0.0, 0.0002, 2.1561, 0.0, 0.0, 0.0201, 0.0, 0.0, 0.0, 1.5108, 0.0, 0.3761, 0.7773, 0.0, 0.0, 0.0, 0.0, 0.0, 0.0, 0.0, 0.0, 0.0, 0.0, 0.0, 0.0, 0.0425, 0.0142, 0.0068, 0.0278, 0.0, 0.0951, 0.0, 0.0, 0.0, 0.0, 0.0, 0.0627, 0.3842, 0.0, 3.2596, 0.0575, 0.0, 0.0, 0.0, 0.0, 0.0, 0.752, 0.0588, 0.0188, 0.0, 0.0, 0.0, 0.0, 0.0, 0.0, 0.0, 0.0133, 0.1522, 0.0, 0.0, 1.2649, 0.0, 0.0, 0.0, 0.0, 0.6044, 0.0, 0.0, 0.0, 0.0, 0.0, 0.0925, 0.0, 0.0, 0.0, 0.0219, 0.0, 0.0, 0.0, 0.0, 0.0, 0.0, 0.1486, 0.0169, 0.0, 0.0, 0.9887, 0.868, 0.7617, 0.0, 0.0239, 0.0, 0.0, 0.0522, 0.0, 0.0, 0.0202, 0.0, 0.7344, 0.2087, 0.2105, 0.0, 0.0, 0.0, 0.016, 0.1112, 0.0, 0.2813, 0.0, 0.0721, 0.0, 0.0128, 0.0, 0.0, 0.0317, 0.0, 0.0, 0.0, 0.0344, 0.0, 0.5918, 0.0, 0.0038, 0.3656, 0.0, 0.0, 0.3026, 0.054, 0.0, 0.0, 0.0, 0.0, 0.0, 0.0, 0.1656, 0.0, 0.0, 0.0, 0.0, 0.8069, 0.0, 0.0, 0.0, 0.0789, 0.1798, 0.0, 0.0, 0.0129, 0.0, 0.0, 0.5123, 0.0, 0.0, 0.0, 0.0924, 0.3369, 0.0, 0.0, 0.0212, 0.0, 0.0, 0.0, 0.0178, 0.0, 0.131, 0.1122, 0.0, 0.0, 0.0, 0.0, 0.109, 0.0, 0.939, 0.0, 0.0, 0.0, 0.0624, 0.008, 0.1242, 0.0, 0.0016, 0.0075, 0.0, 0.3255, 0.0, 0.0, 0.0226, 0.0, 0.0183, 0.0, 0.0432, 0.0, 0.0114, 2.1568, 0.0, 0.0, 0.0, 0.7395, 0.0034, 0.0, 2.7499, 0.0733, 0.0, 0.0, 0.0, 0.0, 0.0127, 0.0, 0.0, 0.0, 0.0165, 0.0358, 0.0, 0.0, 0.0, 0.0, 1.9946, 0.012, 2.1299, 0.0357, 0.0585, 0.1599, 1.0256, 0.2814, 0.6201, 0.0, 2.0153, 1.5066, 0.0, 0.0073, 0.0002, 0.0832, 0.0, 0.1047, 0.0, 0.0448, 0.0, 0.0, 0.0047, 0.0, 0.0, 0.2707, 0.0, 0.0, 0.0, 0.0, 0.0, 1.5232, 0.0062, 0.0, 0.2026, 0.0, 0.1133, 0.3709, 0.0, 0.0, 0.0, 0.0525, 0.0022, 0.0, 0.179, 0.0451, 0.0, 0.0, 0.0, 0.2163, 0.0, 0.2007, 0.0, 0.8163, 1.1661, 0.0, 0.0, 0.0, 0.1552, 0.0, 0.004, 0.2788, 0.0, 0.0248, 0.0087, 0.0, 0.3421, 0.0, 0.6399, 0.0, 0.1644, 1.2162, 1.1018, 0.1277, 0.0011, 0.8981, 0.0, 0.0, 0.0, 0.0316, 0.6755, 0.0, 0.4075, 0.0401, 0.1442, 0.5365, 0.0, 0.0, 0.0, 0.0339, 0.0, 0.0, 0.0, 0.0, 0.0, 0.0882, 0.1791, 0.9156, 0.0, 0.0, 0.0402, 0.0, 0.2522, 0.0133, 0.0395, 0.1674, 0.0, 0.0, 0.0, 1.0551, 0.0, 0.9347, 0.0, 0.0261, 0.0, 0.0, 0.0, 0.152, 0.0, 1.5965, 0.0, 0.0, 0.0376, 0.194, 0.0, 0.0, 0.0, 0.0, 0.8192, 0.0]), pcaFeatures=[6.377500624927445, 13.256406572331764, -10.745710129999612, 1.5956773739072738, 0.5678496400202063, -5.0539264020029915, 5.368037565618552, -5.155147728378314, -3.333436210080431, 8.131572651841749, -0.3205119478504785, 9.088856457464843, -2.3199987960842803, -2.9609688499916733, 0.9183249105332638, 2.877282259727801, -0.15250503914167998, 1.7263071443563434, 0.7843172476465325, -0.8599853858465352, -1.752495700384843, 0.9206964934257065, 0.32703957617566887, -0.20696268146759922, 1.3981494095101683, -0.4821641350482187, 0.49558536465713166, -0.7402073076020841, -0.910736173802753, 0.458649326184495, -1.4961874801064259, -0.44593350775304935, -1.6972974121120228, -0.545929020771744, 1.599583064432483, 2.0509120097776576, 0.7265020893273882, 2.162246654982706, 0.4714816644481587, -0.36311101961257364, 1.4592226223339309, 5.1697652742443284e-05, -0.6419361614961249, 0.8160084930666659, -1.2982769803879246, -0.05709435930747398, 0.36825397503700585, -1.9574715068725754, 0.14892609827721487, 1.4763878439818867, 0.4250345125352926, 2.2072241541460484, 1.0844337463836276, -1.3257712620006195, 0.9732602101431912, -1.0787430255536639, -1.840219120465025, 1.6198561053790745, 1.4280087017266099, 4.344770619258883, -2.812345965810776, 2.4287336447204395, 0.19073335627237492, -0.03914565956531097, 0.9013004149897315, 0.3977744922928447, -1.3745385499684946, 0.583637542427742, 2.615514919982228, -0.07110267763764938, 3.2941885932563655, -0.54368836359267, -0.5130755518986272, 2.2685392742032224, 1.209475963984837, -0.022065054279787243, 1.4459933703715055, 0.3494995918978764, -1.6729388949360746, 0.7027905029537442, -0.5530692446779046, 0.6413351279667088, -0.1594188687725444, -0.19853010119042297, 0.9491807436540105, -0.7856923353250014, 0.9560039344495482, 2.2081562788521634, 0.5084950846032684, -0.6709113618463786, -1.0661128338712889, -0.3454143027743257, -0.46854737857054995, -1.0482938853085995, -1.1753354822713893, -0.6030769567230568, 0.28008627161523303, 1.1004769206430525, 1.4262432401613492, -0.4918678400864552], pcaFeatures[0]=6.377500624927445, pcaFeatures[1]=13.256406572331764, pcaFeatures[2]=-10.745710129999612, pcaFeatures[3]=1.5956773739072738, pcaFeatures[4]=0.5678496400202063, pcaFeatures[5]=-5.0539264020029915, pcaFeatures[6]=5.368037565618552, pcaFeatures[7]=-5.155147728378314, pcaFeatures[8]=-3.333436210080431, pcaFeatures[9]=8.131572651841749, pcaFeatures[10]=-0.3205119478504785, pcaFeatures[11]=9.088856457464843, pcaFeatures[12]=-2.3199987960842803, pcaFeatures[13]=-2.9609688499916733, pcaFeatures[14]=0.9183249105332638, pcaFeatures[15]=2.877282259727801, pcaFeatures[16]=-0.15250503914167998, pcaFeatures[17]=1.7263071443563434, pcaFeatures[18]=0.7843172476465325, pcaFeatures[19]=-0.8599853858465352, pcaFeatures[20]=-1.752495700384843, pcaFeatures[21]=0.9206964934257065, pcaFeatures[22]=0.32703957617566887, pcaFeatures[23]=-0.20696268146759922, pcaFeatures[24]=1.3981494095101683, pcaFeatures[25]=-0.4821641350482187, pcaFeatures[26]=0.49558536465713166, pcaFeatures[27]=-0.7402073076020841, pcaFeatures[28]=-0.910736173802753, pcaFeatures[29]=0.458649326184495, pcaFeatures[30]=-1.4961874801064259, pcaFeatures[31]=-0.44593350775304935, pcaFeatures[32]=-1.6972974121120228, pcaFeatures[33]=-0.545929020771744, pcaFeatures[34]=1.599583064432483, pcaFeatures[35]=2.0509120097776576, pcaFeatures[36]=0.7265020893273882, pcaFeatures[37]=2.162246654982706, pcaFeatures[38]=0.4714816644481587, pcaFeatures[39]=-0.36311101961257364, pcaFeatures[40]=1.4592226223339309, pcaFeatures[41]=5.1697652742443284e-05, pcaFeatures[42]=-0.6419361614961249, pcaFeatures[43]=0.8160084930666659, pcaFeatures[44]=-1.2982769803879246, pcaFeatures[45]=-0.05709435930747398, pcaFeatures[46]=0.36825397503700585, pcaFeatures[47]=-1.9574715068725754, pcaFeatures[48]=0.14892609827721487, pcaFeatures[49]=1.4763878439818867, pcaFeatures[50]=0.4250345125352926, pcaFeatures[51]=2.2072241541460484, pcaFeatures[52]=1.0844337463836276, pcaFeatures[53]=-1.3257712620006195, pcaFeatures[54]=0.9732602101431912, pcaFeatures[55]=-1.0787430255536639, pcaFeatures[56]=-1.840219120465025, pcaFeatures[57]=1.6198561053790745, pcaFeatures[58]=1.4280087017266099, pcaFeatures[59]=4.344770619258883, pcaFeatures[60]=-2.812345965810776, pcaFeatures[61]=2.4287336447204395, pcaFeatures[62]=0.19073335627237492, pcaFeatures[63]=-0.03914565956531097, pcaFeatures[64]=0.9013004149897315, pcaFeatures[65]=0.3977744922928447, pcaFeatures[66]=-1.3745385499684946, pcaFeatures[67]=0.583637542427742, pcaFeatures[68]=2.615514919982228, pcaFeatures[69]=-0.07110267763764938, pcaFeatures[70]=3.2941885932563655, pcaFeatures[71]=-0.54368836359267, pcaFeatures[72]=-0.5130755518986272, pcaFeatures[73]=2.2685392742032224, pcaFeatures[74]=1.209475963984837, pcaFeatures[75]=-0.022065054279787243, pcaFeatures[76]=1.4459933703715055, pcaFeatures[77]=0.3494995918978764, pcaFeatures[78]=-1.6729388949360746, pcaFeatures[79]=0.7027905029537442, pcaFeatures[80]=-0.5530692446779046, pcaFeatures[81]=0.6413351279667088, pcaFeatures[82]=-0.1594188687725444, pcaFeatures[83]=-0.19853010119042297, pcaFeatures[84]=0.9491807436540105, pcaFeatures[85]=-0.7856923353250014, pcaFeatures[86]=0.9560039344495482, pcaFeatures[87]=2.2081562788521634, pcaFeatures[88]=0.5084950846032684, pcaFeatures[89]=-0.6709113618463786, pcaFeatures[90]=-1.0661128338712889, pcaFeatures[91]=-0.3454143027743257, pcaFeatures[92]=-0.46854737857054995, pcaFeatures[93]=-1.0482938853085995, pcaFeatures[94]=-1.1753354822713893, pcaFeatures[95]=-0.6030769567230568, pcaFeatures[96]=0.28008627161523303, pcaFeatures[97]=1.1004769206430525, pcaFeatures[98]=1.4262432401613492, pcaFeatures[99]=-0.4918678400864552)"
     ]
    }
   ],
   "source": [
    "results_concat.head()"
   ]
  },
  {
   "cell_type": "code",
   "execution_count": 41,
   "id": "36b21d43",
   "metadata": {
    "scrolled": true
   },
   "outputs": [
    {
     "data": {
      "application/vnd.jupyter.widget-view+json": {
       "model_id": "",
       "version_major": 2,
       "version_minor": 0
      },
      "text/plain": [
       "FloatProgress(value=0.0, bar_style='info', description='Progress:', layout=Layout(height='25px', width='50%'),…"
      ]
     },
     "metadata": {},
     "output_type": "display_data"
    },
    {
     "name": "stderr",
     "output_type": "stream",
     "text": [
      "An error was encountered:\n",
      "An error occurred while calling o484.collectToPython.\n",
      ": org.apache.spark.SparkException: Job aborted due to stage failure: Task 2 in stage 58.0 failed 4 times, most recent failure: Lost task 2.3 in stage 58.0 (TID 1014) (ip-172-31-44-6.eu-north-1.compute.internal executor 19): ExecutorLostFailure (executor 19 exited caused by one of the running tasks) Reason: Container from a bad node: container_1713982757102_0004_01_000041 on host: ip-172-31-44-6.eu-north-1.compute.internal. Exit status: 137. Diagnostics: [2024-04-24 20:26:15.801]Container killed on request. Exit code is 137\n",
      "[2024-04-24 20:26:15.802]Container exited with a non-zero exit code 137. \n",
      "[2024-04-24 20:26:15.802]Killed by external signal\n",
      ".\n",
      "Driver stacktrace:\n",
      "\tat org.apache.spark.scheduler.DAGScheduler.failJobAndIndependentStages(DAGScheduler.scala:3067)\n",
      "\tat org.apache.spark.scheduler.DAGScheduler.$anonfun$abortStage$2(DAGScheduler.scala:3003)\n",
      "\tat org.apache.spark.scheduler.DAGScheduler.$anonfun$abortStage$2$adapted(DAGScheduler.scala:3002)\n",
      "\tat scala.collection.mutable.ResizableArray.foreach(ResizableArray.scala:62)\n",
      "\tat scala.collection.mutable.ResizableArray.foreach$(ResizableArray.scala:55)\n",
      "\tat scala.collection.mutable.ArrayBuffer.foreach(ArrayBuffer.scala:49)\n",
      "\tat org.apache.spark.scheduler.DAGScheduler.abortStage(DAGScheduler.scala:3002)\n",
      "\tat org.apache.spark.scheduler.DAGScheduler.$anonfun$handleTaskSetFailed$1(DAGScheduler.scala:1318)\n",
      "\tat org.apache.spark.scheduler.DAGScheduler.$anonfun$handleTaskSetFailed$1$adapted(DAGScheduler.scala:1318)\n",
      "\tat scala.Option.foreach(Option.scala:407)\n",
      "\tat org.apache.spark.scheduler.DAGScheduler.handleTaskSetFailed(DAGScheduler.scala:1318)\n",
      "\tat org.apache.spark.scheduler.DAGSchedulerEventProcessLoop.doOnReceive(DAGScheduler.scala:3271)\n",
      "\tat org.apache.spark.scheduler.DAGSchedulerEventProcessLoop.onReceive(DAGScheduler.scala:3205)\n",
      "\tat org.apache.spark.scheduler.DAGSchedulerEventProcessLoop.onReceive(DAGScheduler.scala:3194)\n",
      "\tat org.apache.spark.util.EventLoop$$anon$1.run(EventLoop.scala:49)\n",
      "\tat org.apache.spark.scheduler.DAGScheduler.runJob(DAGScheduler.scala:1041)\n",
      "\tat org.apache.spark.SparkContext.runJob(SparkContext.scala:2406)\n",
      "\tat org.apache.spark.SparkContext.runJob(SparkContext.scala:2427)\n",
      "\tat org.apache.spark.SparkContext.runJob(SparkContext.scala:2446)\n",
      "\tat org.apache.spark.SparkContext.runJob(SparkContext.scala:2471)\n",
      "\tat org.apache.spark.rdd.RDD.$anonfun$collect$1(RDD.scala:1046)\n",
      "\tat org.apache.spark.rdd.RDDOperationScope$.withScope(RDDOperationScope.scala:151)\n",
      "\tat org.apache.spark.rdd.RDDOperationScope$.withScope(RDDOperationScope.scala:112)\n",
      "\tat org.apache.spark.rdd.RDD.withScope(RDD.scala:407)\n",
      "\tat org.apache.spark.rdd.RDD.collect(RDD.scala:1045)\n",
      "\tat org.apache.spark.sql.execution.SparkPlan.executeCollect(SparkPlan.scala:475)\n",
      "\tat org.apache.spark.sql.execution.adaptive.QueryStageExec.executeCollect(QueryStageExec.scala:98)\n",
      "\tat org.apache.spark.sql.execution.adaptive.AdaptiveSparkPlanExec.$anonfun$executeCollect$1(AdaptiveSparkPlanExec.scala:520)\n",
      "\tat org.apache.spark.sql.execution.adaptive.AdaptiveSparkPlanExec.withFinalPlanUpdate(AdaptiveSparkPlanExec.scala:559)\n",
      "\tat org.apache.spark.sql.execution.adaptive.AdaptiveSparkPlanExec.executeCollect(AdaptiveSparkPlanExec.scala:520)\n",
      "\tat org.apache.spark.sql.Dataset.$anonfun$collectToPython$1(Dataset.scala:4231)\n",
      "\tat org.apache.spark.sql.Dataset.$anonfun$withAction$2(Dataset.scala:4401)\n",
      "\tat org.apache.spark.sql.execution.QueryExecution$.withInternalError(QueryExecution.scala:625)\n",
      "\tat org.apache.spark.sql.Dataset.$anonfun$withAction$1(Dataset.scala:4399)\n",
      "\tat org.apache.spark.sql.catalyst.QueryPlanningTracker$.withTracker(QueryPlanningTracker.scala:108)\n",
      "\tat org.apache.spark.sql.execution.SQLExecution$.withTracker(SQLExecution.scala:255)\n",
      "\tat org.apache.spark.sql.execution.SQLExecution$.executeQuery$1(SQLExecution.scala:129)\n",
      "\tat org.apache.spark.sql.execution.SQLExecution$.$anonfun$withNewExecutionId$9(SQLExecution.scala:165)\n",
      "\tat org.apache.spark.sql.catalyst.QueryPlanningTracker$.withTracker(QueryPlanningTracker.scala:108)\n",
      "\tat org.apache.spark.sql.execution.SQLExecution$.withTracker(SQLExecution.scala:255)\n",
      "\tat org.apache.spark.sql.execution.SQLExecution$.$anonfun$withNewExecutionId$8(SQLExecution.scala:165)\n",
      "\tat org.apache.spark.sql.execution.SQLExecution$.withSQLConfPropagated(SQLExecution.scala:276)\n",
      "\tat org.apache.spark.sql.execution.SQLExecution$.$anonfun$withNewExecutionId$1(SQLExecution.scala:164)\n",
      "\tat org.apache.spark.sql.SparkSession.withActive(SparkSession.scala:900)\n",
      "\tat org.apache.spark.sql.execution.SQLExecution$.withNewExecutionId(SQLExecution.scala:70)\n",
      "\tat org.apache.spark.sql.Dataset.withAction(Dataset.scala:4399)\n",
      "\tat org.apache.spark.sql.Dataset.collectToPython(Dataset.scala:4228)\n",
      "\tat java.base/jdk.internal.reflect.NativeMethodAccessorImpl.invoke0(Native Method)\n",
      "\tat java.base/jdk.internal.reflect.NativeMethodAccessorImpl.invoke(NativeMethodAccessorImpl.java:77)\n",
      "\tat java.base/jdk.internal.reflect.DelegatingMethodAccessorImpl.invoke(DelegatingMethodAccessorImpl.java:43)\n",
      "\tat java.base/java.lang.reflect.Method.invoke(Method.java:568)\n",
      "\tat py4j.reflection.MethodInvoker.invoke(MethodInvoker.java:244)\n",
      "\tat py4j.reflection.ReflectionEngine.invoke(ReflectionEngine.java:374)\n",
      "\tat py4j.Gateway.invoke(Gateway.java:282)\n",
      "\tat py4j.commands.AbstractCommand.invokeMethod(AbstractCommand.java:132)\n",
      "\tat py4j.commands.CallCommand.execute(CallCommand.java:79)\n",
      "\tat py4j.GatewayConnection.run(GatewayConnection.java:238)\n",
      "\tat java.base/java.lang.Thread.run(Thread.java:840)\n",
      "\n",
      "Traceback (most recent call last):\n",
      "  File \"/mnt/yarn/usercache/livy/appcache/application_1713982757102_0004/container_1713982757102_0004_01_000001/pyspark.zip/pyspark/sql/pandas/conversion.py\", line 202, in toPandas\n",
      "    rows = self.collect()\n",
      "  File \"/mnt/yarn/usercache/livy/appcache/application_1713982757102_0004/container_1713982757102_0004_01_000001/pyspark.zip/pyspark/sql/dataframe.py\", line 1258, in collect\n",
      "    sock_info = self._jdf.collectToPython()\n",
      "  File \"/mnt/yarn/usercache/livy/appcache/application_1713982757102_0004/container_1713982757102_0004_01_000001/py4j-0.10.9.7-src.zip/py4j/java_gateway.py\", line 1322, in __call__\n",
      "    return_value = get_return_value(\n",
      "  File \"/mnt/yarn/usercache/livy/appcache/application_1713982757102_0004/container_1713982757102_0004_01_000001/pyspark.zip/pyspark/errors/exceptions/captured.py\", line 179, in deco\n",
      "    return f(*a, **kw)\n",
      "  File \"/mnt/yarn/usercache/livy/appcache/application_1713982757102_0004/container_1713982757102_0004_01_000001/py4j-0.10.9.7-src.zip/py4j/protocol.py\", line 326, in get_return_value\n",
      "    raise Py4JJavaError(\n",
      "py4j.protocol.Py4JJavaError: An error occurred while calling o484.collectToPython.\n",
      ": org.apache.spark.SparkException: Job aborted due to stage failure: Task 2 in stage 58.0 failed 4 times, most recent failure: Lost task 2.3 in stage 58.0 (TID 1014) (ip-172-31-44-6.eu-north-1.compute.internal executor 19): ExecutorLostFailure (executor 19 exited caused by one of the running tasks) Reason: Container from a bad node: container_1713982757102_0004_01_000041 on host: ip-172-31-44-6.eu-north-1.compute.internal. Exit status: 137. Diagnostics: [2024-04-24 20:26:15.801]Container killed on request. Exit code is 137\n",
      "[2024-04-24 20:26:15.802]Container exited with a non-zero exit code 137. \n",
      "[2024-04-24 20:26:15.802]Killed by external signal\n",
      ".\n",
      "Driver stacktrace:\n",
      "\tat org.apache.spark.scheduler.DAGScheduler.failJobAndIndependentStages(DAGScheduler.scala:3067)\n",
      "\tat org.apache.spark.scheduler.DAGScheduler.$anonfun$abortStage$2(DAGScheduler.scala:3003)\n",
      "\tat org.apache.spark.scheduler.DAGScheduler.$anonfun$abortStage$2$adapted(DAGScheduler.scala:3002)\n",
      "\tat scala.collection.mutable.ResizableArray.foreach(ResizableArray.scala:62)\n",
      "\tat scala.collection.mutable.ResizableArray.foreach$(ResizableArray.scala:55)\n",
      "\tat scala.collection.mutable.ArrayBuffer.foreach(ArrayBuffer.scala:49)\n",
      "\tat org.apache.spark.scheduler.DAGScheduler.abortStage(DAGScheduler.scala:3002)\n",
      "\tat org.apache.spark.scheduler.DAGScheduler.$anonfun$handleTaskSetFailed$1(DAGScheduler.scala:1318)\n",
      "\tat org.apache.spark.scheduler.DAGScheduler.$anonfun$handleTaskSetFailed$1$adapted(DAGScheduler.scala:1318)\n",
      "\tat scala.Option.foreach(Option.scala:407)\n",
      "\tat org.apache.spark.scheduler.DAGScheduler.handleTaskSetFailed(DAGScheduler.scala:1318)\n",
      "\tat org.apache.spark.scheduler.DAGSchedulerEventProcessLoop.doOnReceive(DAGScheduler.scala:3271)\n",
      "\tat org.apache.spark.scheduler.DAGSchedulerEventProcessLoop.onReceive(DAGScheduler.scala:3205)\n",
      "\tat org.apache.spark.scheduler.DAGSchedulerEventProcessLoop.onReceive(DAGScheduler.scala:3194)\n",
      "\tat org.apache.spark.util.EventLoop$$anon$1.run(EventLoop.scala:49)\n",
      "\tat org.apache.spark.scheduler.DAGScheduler.runJob(DAGScheduler.scala:1041)\n",
      "\tat org.apache.spark.SparkContext.runJob(SparkContext.scala:2406)\n",
      "\tat org.apache.spark.SparkContext.runJob(SparkContext.scala:2427)\n",
      "\tat org.apache.spark.SparkContext.runJob(SparkContext.scala:2446)\n",
      "\tat org.apache.spark.SparkContext.runJob(SparkContext.scala:2471)\n",
      "\tat org.apache.spark.rdd.RDD.$anonfun$collect$1(RDD.scala:1046)\n",
      "\tat org.apache.spark.rdd.RDDOperationScope$.withScope(RDDOperationScope.scala:151)\n",
      "\tat org.apache.spark.rdd.RDDOperationScope$.withScope(RDDOperationScope.scala:112)\n",
      "\tat org.apache.spark.rdd.RDD.withScope(RDD.scala:407)\n",
      "\tat org.apache.spark.rdd.RDD.collect(RDD.scala:1045)\n",
      "\tat org.apache.spark.sql.execution.SparkPlan.executeCollect(SparkPlan.scala:475)\n",
      "\tat org.apache.spark.sql.execution.adaptive.QueryStageExec.executeCollect(QueryStageExec.scala:98)\n",
      "\tat org.apache.spark.sql.execution.adaptive.AdaptiveSparkPlanExec.$anonfun$executeCollect$1(AdaptiveSparkPlanExec.scala:520)\n",
      "\tat org.apache.spark.sql.execution.adaptive.AdaptiveSparkPlanExec.withFinalPlanUpdate(AdaptiveSparkPlanExec.scala:559)\n",
      "\tat org.apache.spark.sql.execution.adaptive.AdaptiveSparkPlanExec.executeCollect(AdaptiveSparkPlanExec.scala:520)\n",
      "\tat org.apache.spark.sql.Dataset.$anonfun$collectToPython$1(Dataset.scala:4231)\n",
      "\tat org.apache.spark.sql.Dataset.$anonfun$withAction$2(Dataset.scala:4401)\n",
      "\tat org.apache.spark.sql.execution.QueryExecution$.withInternalError(QueryExecution.scala:625)\n",
      "\tat org.apache.spark.sql.Dataset.$anonfun$withAction$1(Dataset.scala:4399)\n",
      "\tat org.apache.spark.sql.catalyst.QueryPlanningTracker$.withTracker(QueryPlanningTracker.scala:108)\n",
      "\tat org.apache.spark.sql.execution.SQLExecution$.withTracker(SQLExecution.scala:255)\n",
      "\tat org.apache.spark.sql.execution.SQLExecution$.executeQuery$1(SQLExecution.scala:129)\n",
      "\tat org.apache.spark.sql.execution.SQLExecution$.$anonfun$withNewExecutionId$9(SQLExecution.scala:165)\n",
      "\tat org.apache.spark.sql.catalyst.QueryPlanningTracker$.withTracker(QueryPlanningTracker.scala:108)\n",
      "\tat org.apache.spark.sql.execution.SQLExecution$.withTracker(SQLExecution.scala:255)\n",
      "\tat org.apache.spark.sql.execution.SQLExecution$.$anonfun$withNewExecutionId$8(SQLExecution.scala:165)\n",
      "\tat org.apache.spark.sql.execution.SQLExecution$.withSQLConfPropagated(SQLExecution.scala:276)\n",
      "\tat org.apache.spark.sql.execution.SQLExecution$.$anonfun$withNewExecutionId$1(SQLExecution.scala:164)\n",
      "\tat org.apache.spark.sql.SparkSession.withActive(SparkSession.scala:900)\n",
      "\tat org.apache.spark.sql.execution.SQLExecution$.withNewExecutionId(SQLExecution.scala:70)\n",
      "\tat org.apache.spark.sql.Dataset.withAction(Dataset.scala:4399)\n",
      "\tat org.apache.spark.sql.Dataset.collectToPython(Dataset.scala:4228)\n",
      "\tat java.base/jdk.internal.reflect.NativeMethodAccessorImpl.invoke0(Native Method)\n",
      "\tat java.base/jdk.internal.reflect.NativeMethodAccessorImpl.invoke(NativeMethodAccessorImpl.java:77)\n",
      "\tat java.base/jdk.internal.reflect.DelegatingMethodAccessorImpl.invoke(DelegatingMethodAccessorImpl.java:43)\n",
      "\tat java.base/java.lang.reflect.Method.invoke(Method.java:568)\n",
      "\tat py4j.reflection.MethodInvoker.invoke(MethodInvoker.java:244)\n",
      "\tat py4j.reflection.ReflectionEngine.invoke(ReflectionEngine.java:374)\n",
      "\tat py4j.Gateway.invoke(Gateway.java:282)\n",
      "\tat py4j.commands.AbstractCommand.invokeMethod(AbstractCommand.java:132)\n",
      "\tat py4j.commands.CallCommand.execute(CallCommand.java:79)\n",
      "\tat py4j.GatewayConnection.run(GatewayConnection.java:238)\n",
      "\tat java.base/java.lang.Thread.run(Thread.java:840)\n",
      "\n",
      "\n"
     ]
    }
   ],
   "source": [
    "# save PCA result to csv\n",
    "results_concat.repartition(4).toPandas().to_csv(PATH_Result + \"/pcaFeatures_v2.csv\")"
   ]
  },
  {
   "cell_type": "code",
   "execution_count": 39,
   "id": "4a278f0d",
   "metadata": {},
   "outputs": [
    {
     "data": {
      "application/vnd.jupyter.widget-view+json": {
       "model_id": "",
       "version_major": 2,
       "version_minor": 0
      },
      "text/plain": [
       "FloatProgress(value=0.0, bar_style='info', description='Progress:', layout=Layout(height='25px', width='50%'),…"
      ]
     },
     "metadata": {},
     "output_type": "display_data"
    }
   ],
   "source": [
    "pcaData.toPandas().to_csv(PATH_Result + \"/pcaFeatures_v1.csv\")"
   ]
  }
 ],
 "metadata": {
  "kernelspec": {
   "display_name": "PySpark",
   "language": "python",
   "name": "pysparkkernel"
  },
  "language_info": {
   "codemirror_mode": {
    "name": "python",
    "version": 3
   },
   "file_extension": ".py",
   "mimetype": "text/x-python",
   "name": "pyspark",
   "pygments_lexer": "python3"
  }
 },
 "nbformat": 4,
 "nbformat_minor": 5
}
